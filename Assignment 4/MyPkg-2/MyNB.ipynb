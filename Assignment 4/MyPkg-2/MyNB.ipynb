{
 "cells": [
  {
   "attachments": {},
   "cell_type": "markdown",
   "metadata": {
    "slideshow": {
     "slide_type": "slide"
    }
   },
   "source": [
    "# Homework 4"
   ]
  },
  {
   "attachments": {},
   "cell_type": "markdown",
   "metadata": {
    "slideshow": {
     "slide_type": "subslide"
    }
   },
   "source": [
    "Topic: Motion\n",
    "- motion detection with Hassenstein-Rechardt detector\n",
    "- motion integration with a local search method"
   ]
  },
  {
   "cell_type": "code",
   "execution_count": 147,
   "metadata": {
    "slideshow": {
     "slide_type": "skip"
    }
   },
   "outputs": [],
   "source": [
    "# use Julia's packae managing module to activate your current environment\n",
    "using Pkg\n",
    "Pkg.activate(\".\")\n",
    "import Pkg; Pkg.add(\"JLD2\")"
   ]
  },
  {
   "cell_type": "code",
   "execution_count": 148,
   "metadata": {},
   "outputs": [],
   "source": [
    "# telling Julia to load modules that we need for our code, which have been specified as dependencies for our current package\n",
    "using JLD2\n",
    "using Images, ImageFiltering\n",
    "using Plots"
   ]
  },
  {
   "attachments": {},
   "cell_type": "markdown",
   "metadata": {
    "slideshow": {
     "slide_type": "slide"
    }
   },
   "source": [
    "## Example images"
   ]
  },
  {
   "cell_type": "code",
   "execution_count": 149,
   "metadata": {},
   "outputs": [
    {
     "data": {
      "text/plain": [
       "1-element Vector{Symbol}:\n",
       " :img"
      ]
     },
     "metadata": {},
     "output_type": "display_data"
    }
   ],
   "source": [
    "# Load our example stimulus\n",
    "@load \"./material/img.jld2\""
   ]
  },
  {
   "attachments": {},
   "cell_type": "markdown",
   "metadata": {},
   "source": [
    "A few utilities to plot the images:\n",
    "- scale to range [0, 1]\n",
    "- unpack series of images into one horizontal display"
   ]
  },
  {
   "cell_type": "code",
   "execution_count": 150,
   "metadata": {},
   "outputs": [
    {
     "data": {
      "text/plain": [
       "unroll (generic function with 1 method)"
      ]
     },
     "metadata": {},
     "output_type": "display_data"
    }
   ],
   "source": [
    "normalize(img) = (img .- minimum(img)) / (maximum(img) - minimum(img))\n",
    "\n",
    "unroll(imgs) = Gray.(hcat([normalize(imgs[i,:,:]) for i in 1:size(imgs,1)]...))"
   ]
  },
  {
   "cell_type": "code",
   "execution_count": 151,
   "metadata": {
    "scrolled": true
   },
   "outputs": [
    {
     "data": {
      "image/png": "[encoded data removed]",
      "text/html": [
       "<img src=\"data:image/png;base64,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\">"
      ],
      "text/plain": [
       "100×400 Array{Gray{Float64},2} with eltype Gray{Float64}:\n",
       " Gray{Float64}(0.0)  Gray{Float64}(0.0)  …  Gray{Float64}(0.0)\n",
       " Gray{Float64}(0.0)  Gray{Float64}(0.0)     Gray{Float64}(0.0)\n",
       " Gray{Float64}(0.0)  Gray{Float64}(0.0)     Gray{Float64}(0.0)\n",
       " Gray{Float64}(0.0)  Gray{Float64}(0.0)     Gray{Float64}(0.0)\n",
       " Gray{Float64}(0.0)  Gray{Float64}(0.0)     Gray{Float64}(0.0)\n",
       " Gray{Float64}(0.0)  Gray{Float64}(0.0)  …  Gray{Float64}(0.0)\n",
       " Gray{Float64}(0.0)  Gray{Float64}(0.0)     Gray{Float64}(0.0)\n",
       " Gray{Float64}(0.0)  Gray{Float64}(0.0)     Gray{Float64}(0.0)\n",
       " Gray{Float64}(0.0)  Gray{Float64}(0.0)     Gray{Float64}(0.0)\n",
       " Gray{Float64}(0.0)  Gray{Float64}(0.0)     Gray{Float64}(0.0)\n",
       " ⋮                                       ⋱  \n",
       " Gray{Float64}(0.0)  Gray{Float64}(0.0)     Gray{Float64}(0.0)\n",
       " Gray{Float64}(0.0)  Gray{Float64}(0.0)     Gray{Float64}(0.0)\n",
       " Gray{Float64}(0.0)  Gray{Float64}(0.0)     Gray{Float64}(0.0)\n",
       " Gray{Float64}(0.0)  Gray{Float64}(0.0)     Gray{Float64}(0.0)\n",
       " Gray{Float64}(0.0)  Gray{Float64}(0.0)  …  Gray{Float64}(0.0)\n",
       " Gray{Float64}(0.0)  Gray{Float64}(0.0)     Gray{Float64}(0.0)\n",
       " Gray{Float64}(0.0)  Gray{Float64}(0.0)     Gray{Float64}(0.0)\n",
       " Gray{Float64}(0.0)  Gray{Float64}(0.0)     Gray{Float64}(0.0)\n",
       " Gray{Float64}(0.0)  Gray{Float64}(0.0)     Gray{Float64}(0.0)"
      ]
     },
     "metadata": {},
     "output_type": "display_data"
    }
   ],
   "source": [
    "unroll(img)"
   ]
  },
  {
   "attachments": {},
   "cell_type": "markdown",
   "metadata": {
    "slideshow": {
     "slide_type": "slide"
    }
   },
   "source": [
    "## Task 1: Hassenstein-Reichardt Detector"
   ]
  },
  {
   "attachments": {},
   "cell_type": "markdown",
   "metadata": {
    "slideshow": {
     "slide_type": "subslide"
    }
   },
   "source": [
    "### Preprocessing by on-cells"
   ]
  },
  {
   "attachments": {},
   "cell_type": "markdown",
   "metadata": {},
   "source": [
    "- on-cells calculate a **temporal difference**\n",
    "- no spatial offset"
   ]
  },
  {
   "cell_type": "code",
   "execution_count": 152,
   "metadata": {},
   "outputs": [
    {
     "data": {
      "text/plain": [
       "on_cells (generic function with 1 method)"
      ]
     },
     "metadata": {},
     "output_type": "display_data"
    }
   ],
   "source": [
    "function on_cells(imgs)    \n",
    "    diff_imgs = diff(imgs, dims=3)\n",
    "    diff_imgs = max.(diff_imgs, 0)\n",
    "    return diff_imgs\n",
    "end"
   ]
  },
  {
   "cell_type": "code",
   "execution_count": 153,
   "metadata": {},
   "outputs": [
    {
     "data": {
      "image/png": "[encoded data removed]",
      "text/html": [
       "<img src=\"data:image/png;base64,iVBORw0KGgoAAAANSUhEUgAAAYwAAABkCAAAAACwMljNAAAABGdBTUEAALGPC/xhBQAAAAFzUkdCAK7OHOkAAAAgY0hSTQAAeiYAAICEAAD6AAAAgOgAAHUwAADqYAAAOpgAABdwnLpRPAAAB3FJREFUeAHtwQFyI4dhRcF+VXP/K//MgEtyZVmOTIwTJIXuw9vLOLy9jMPbyzi8vYzD28s4vL2Mw9vLOLy9jMPbyzi8vYzD28s4vL2Mw9vLOLy9jMMfLG//aw5vL+PwP295+2cOby/j8P/U8n/O4e1lHN5+brnT4e1lHN5exuHtZRzeXsbh7WUc3l7G4csib/97Dm8v4/Ck5cNay39jkX/PYrH8B6xl+bDW8h+wWCx/5fCUlcuS1losd8pqyS9rsdwhrVyWtNZiuclay2rJL2uxfDk8JaclrJaW3KzlsiwS8lcW+ftyWsJqacldkmi5LIuEfDt8Ccu/aWn50NJyWm6z0iLyablTy4eWltNyj2WlReTT8uXwpFhOi4VYcr/l23Kr5bRYiCV/aZG/K/Jh+bZ8OzxtWeRheVj+mbD8TctyWVlruSy51bLIw/Kw3GllreWy5DeHJ61WayFatHKDPERIfsndWq2FaNHKrULyS/7o8IwlIrGccspdwsJyymmx/KWw/F3LKRLLKafcbjnltFh+c3jCwsJCy3KvRU6t5bKQuywsLLQs/yGt5bKQ3x2ekA+rZSGn5TY5LZb8Zi13yIfVspDT8q+E5d+wWPKbtXw6PGkRkcsilvuspeW0hJXcZhGRyyKW+6yl5bSElXw5PGMJy3JZuSz3WFZCTsvyYbnFEpblsnJZ7rGshJyW5cPy6fCExVqRhyynLHdoxVrWkrVcllss1oo8ZDlluUMr1rKWrOWyfDk8KfkUwrLcYeXUsjy0WLTcJfkUwrLcYeXUsjy0WLR8Ojwhp7UsFpYVuUU+ROQSWuQWOa1lsbCsyC3yISKX0CJfDs9ZLiGnVi7L85Y/Wz4sN1kuIadWLsvzlj9bPiyfDs9YJKfltHKjnBaL5Vvus0hOy2nlRjktFsu3/MHhCcun5dLyIXcJoeW0PKzcYvm0XFo+5C4htJyWh5UvhydkrbXkYS2n5R4Ly6W15LTkJllrLXlYy2m5x8JyaS05LfnN4QkrSS6LZFlusVpkYclpyX1WklwWybLcYrXIwpLTkj86/NxaflnCconleVkLWcLysFhusJZflrBcYnle1kKWsDwslk+HZ8RiibVyWeQWyUOshWXFco9YLLFWLovcInmItbCsWL4cnrKyPCRr5TbLclpIsmhZ7rKyPCRr5TbLclpIsmhZvh3+IP+GVlbysBBabhGxlodlWSLLDVpZycNCaLlFxFoelmWJLJ8OT8iKtbBWTqvlTrmsXPKw3CIr1sJaOa2WO+WycsnD8uXwjMVKWHJZtPyl/G3LarGWU1jutFgJSy6Lljssq8VaTmH5B4cfW7KynLJccp+IlmRZyCV3WLKynLJccp+IlmRZyCXfDk9ZS1hkYSF3WMspLJGFZflX8vetJSyysJA7rOUUlsjCsnw7/FhIWHJaixaW5yVrsbJYOUWW54WEJae1aGF5XrIWK4uVU2T5dLhBTkvCYrnDIr9rOS3LvXJaEhbLv5a/Y5HftZyW5dvhKQsLC2u5JDdZWawWuURus7CwsJZLcpOVxWqRS+Q3hx9bllNOLVqr5UYtSWSxfMgNluWUU4vWarlRSxJZLB/y5fCk5bSEJVqWG2TJZWEtuSzLXZbTEpZoWW6QJZeFteSyLJ8OP9byYWUha4ncIx+WU7KsleUGLR9WFrKWyD3yYTkly1pZvhyeEVkhLIS13GJ5iGURyY0iK4SFsJZbLA+xLCL5o8PPxaLFQmSt5B45LVbktBaWW8SixUJkreQeOS1W5LQWlm+HZyxrobWwknstxPKhRcs9lrXQWljJvRZi+dCi5cvhCcsSVnKK5S7LKSy/yXKXZQkrOcVyl+UUlt9k+d3hCfmzldvkYS20sHxouUP+bOU2eVgLLSwfWj4dfm5ZrJXLstxrkVyyfGjJHZbFWrksy70WySXLh5Z8OfxchLTWkg9ruUm+LNFyyk0ipLWWfFjLTfJliZZTfnf4ueWyJFke1nKLxbKslYX8stxguSxJloe13GKxLGtlIb8snw4/l4dYWIiltdwjyykry2Uhd8hDLCzE0lrukeWUleWykC+HZywsObWwnJIbtKyWltNay3KjhSWnFpZTcoOW1dJyWmtZ/ujwY8tDfmmRWMsdIloikiy3WR7yS4vEWu4Q0RKRZPkHhx+LsHyKZck91rJ8Wi4tyy0iLJ9iWXKPtSyflkvL8pvDM9bKh8WKFrlDTpHTktMSLTdZKx8WK1rkDjlFTktOS7R8O/zYkiwPIZdYyx3yJZblQ8sNlmR5CLnEWu6QL7EsH1q+HH4sa7ksD8tyyi0WlrVYkdZC7pC1XJaHZTnlFgvLWqxIayHfDj+3RFbLt4XcoLWy5LIsLfdZIqvl20Ju0FpZclmWln9weNpyWshpuU0LLadESy7LjZbTQk7LbVpoOSVaclm+HH4uDyH5kNwol3zLL7lFHkLyIblRLvmWX/Lt8PYyDm8v4/D2Mg5vL+Pw9jIOby/j8PYyDm8v4/D2Mg5vL+Pw9jIOby/j8PYyDm8v4/D2Mg5vL+Pw9jIOby/j8PYy/gvHVZCtgsSqfwAAAABJRU5ErkJg\">"
      ],
      "text/plain": [
       "100×396 Array{Gray{Float64},2} with eltype Gray{Float64}:\n",
       " Gray{Float64}(0.0)  Gray{Float64}(0.0)  …  Gray{Float64}(0.0)\n",
       " Gray{Float64}(0.0)  Gray{Float64}(0.0)     Gray{Float64}(0.0)\n",
       " Gray{Float64}(0.0)  Gray{Float64}(0.0)     Gray{Float64}(0.0)\n",
       " Gray{Float64}(0.0)  Gray{Float64}(0.0)     Gray{Float64}(0.0)\n",
       " Gray{Float64}(0.0)  Gray{Float64}(0.0)     Gray{Float64}(0.0)\n",
       " Gray{Float64}(0.0)  Gray{Float64}(0.0)  …  Gray{Float64}(0.0)\n",
       " Gray{Float64}(0.0)  Gray{Float64}(0.0)     Gray{Float64}(0.0)\n",
       " Gray{Float64}(0.0)  Gray{Float64}(0.0)     Gray{Float64}(0.0)\n",
       " Gray{Float64}(0.0)  Gray{Float64}(0.0)     Gray{Float64}(0.0)\n",
       " Gray{Float64}(0.0)  Gray{Float64}(0.0)     Gray{Float64}(0.0)\n",
       " ⋮                                       ⋱  ⋮\n",
       " Gray{Float64}(0.0)  Gray{Float64}(0.0)     Gray{Float64}(0.0)\n",
       " Gray{Float64}(0.0)  Gray{Float64}(0.0)     Gray{Float64}(0.0)\n",
       " Gray{Float64}(0.0)  Gray{Float64}(0.0)     Gray{Float64}(0.0)\n",
       " Gray{Float64}(0.0)  Gray{Float64}(0.0)     Gray{Float64}(0.0)\n",
       " Gray{Float64}(0.0)  Gray{Float64}(0.0)  …  Gray{Float64}(0.0)\n",
       " Gray{Float64}(0.0)  Gray{Float64}(0.0)     Gray{Float64}(0.0)\n",
       " Gray{Float64}(0.0)  Gray{Float64}(0.0)     Gray{Float64}(0.0)\n",
       " Gray{Float64}(0.0)  Gray{Float64}(0.0)     Gray{Float64}(0.0)\n",
       " Gray{Float64}(0.0)  Gray{Float64}(0.0)     Gray{Float64}(0.0)"
      ]
     },
     "metadata": {},
     "output_type": "display_data"
    }
   ],
   "source": [
    "on = on_cells(img)\n",
    "on_unrolled = unroll(on)"
   ]
  },
  {
   "attachments": {},
   "cell_type": "markdown",
   "metadata": {
    "slideshow": {
     "slide_type": "subslide"
    }
   },
   "source": [
    "### Half-detectors"
   ]
  },
  {
   "attachments": {},
   "cell_type": "markdown",
   "metadata": {},
   "source": [
    "- half-detectors take input from on-cells\n",
    "- perform a spatial shift $(\\Delta x, \\Delta y)$\n",
    "- compare non-delayed and delayed signal"
   ]
  },
  {
   "cell_type": "code",
   "execution_count": 154,
   "metadata": {},
   "outputs": [
    {
     "data": {
      "text/plain": [
       "half_detectors (generic function with 1 method)"
      ]
     },
     "metadata": {},
     "output_type": "display_data"
    }
   ],
   "source": [
    "function half_detectors(ons, Δx, Δy, Δt)\n",
    "    # shift arrays relative to each other\n",
    "    # ...to be implemented:\n",
    "    frames, rows, cols = size(ons)\n",
    "\n",
    "    hd1 = zeros(frames - Δt, rows, cols)\n",
    "    hd2 = zeros(frames - Δt, rows, cols)\n",
    "    \n",
    "    padding_vertical = (max(Δy, 0), max(Δy, 0))\n",
    "    padding_horizontal = (max(Δx, 0), max(Δx, 0))\n",
    "    border = Pad(:symmetric, padding_vertical[1], padding_horizontal[1])\n",
    "\n",
    "    padded_ons = [padarray(ons[t, :, :], border) for t in 1:frames] \n",
    "    # get multiplies with both temporal offsets\n",
    "    # ...to be implemented:\n",
    "    for t in 1:(frames - Δt)\n",
    "        current_frame = padded_ons[t][1:rows, 1:cols]\n",
    "        future_frame = padded_ons[t + Δt][1:rows, 1:cols]\n",
    "        hd1[t, :, :] = ons[t, :, :] .* future_frame  \n",
    "        hd2[t, :, :] = ons[t + Δt, :, :] .* current_frame \n",
    "    end\n",
    "\n",
    "    return hd1, hd2\n",
    "end\n",
    "\n",
    "\n"
   ]
  },
  {
   "cell_type": "code",
   "execution_count": 155,
   "metadata": {
    "scrolled": true,
    "slideshow": {
     "slide_type": "subslide"
    }
   },
   "outputs": [
    {
     "data": {
      "image/png": "[encoded data removed]",
      "text/html": [
       "<img src=\"data:image/png;base64,iVBORw0KGgoAAAANSUhEUgAAASkAAABkCAAAAAD/Q5lYAAAABGdBTUEAALGPC/xhBQAAAAFzUkdCAK7OHOkAAAAgY0hSTQAAeiYAAICEAAD6AAAAgOgAAHUwAADqYAAAOpgAABdwnLpRPAAAApVJREFUeAHtwVFOI0EQBcFMqe5/5bf2gI3XDKLEdP9VRDF6itFTjJ5i9BSjpxg9xegpRk8xeorRU4yeYvQUo6cYPcXoKUZPMXqK0VOMnmL0FKOnGD3F6ClGTzF6itFTjJ5i9BSjp7gosltkt8hviotkO9lOflVcF7mLRPaI3EUie0TuIpETxXVyEGQTOQiyiRwEOVOsEtktslvkB8Uqsp1sJz8pRk8xeorRU4yeYvQUC0V2i+wWOVNcFvkkEFkv8kkgsl7kk0DkXXGZvJIN5JVsIK/km2L0FJtEdovsFnkoronsFtkt8qviGvmBrCI/kFXkB/JUjJ5i9BSbRHaL7BZ5KJaJkZvIjWwQIzeRG9kgRm4iN/JULCMSQbYRiSDbiESQN8VFkReyQeSFbBB5ISeKi2Q72U5+VVwVORFZJ3Iisk7kROSpuErOyEJyRhaSM/Kl+LPIbpHdIj3Fn8lD5BB5ilwnD5FD5ClynTxEDpGnyEOxgHyQh8ha8kEeImvJB3mIfCkuiZwSWSRySmSRyCmRp+LPIshWEWSrCNJQ/JlsJ9tJU7FA5Etkg8iXyAaRL5E3xQLyQu4iS8kLuYssJS/kLvJUrBa5kY0iN7JR5Ea+FBdFDpG7KKtFDpG7KKtFDpG7KO+Ki+SDHGQ9+SAHWU8+yEG+K0ZPMXqKtSK7RXaLfFOsJdvJdvJdMXqKdSJ3kW0id5FtIneR/xXryEH2kYPsIwd5UywX2S2yW+R/xXKynWwnb4rRUywW2S2yW+Rd8XeRNxFZKfImIitF3kTkm+Lv5BB5kMXkEHmQxeQQeZAzxWWynWwnvyhGTzF6itFTjJ5i9BSjpxg9xegpRk8xeorRU4yeYvQUo6cYPcXoKUZPMXqK0fMPAY56CbilmRIAAAAASUVORK5C\">"
      ],
      "text/plain": [
       "100×297 Array{Gray{Float64},2} with eltype Gray{Float64}:\n",
       " Gray{Float64}(0.0)  Gray{Float64}(0.0)  …  Gray{Float64}(0.0)\n",
       " Gray{Float64}(0.0)  Gray{Float64}(0.0)     Gray{Float64}(0.0)\n",
       " Gray{Float64}(0.0)  Gray{Float64}(0.0)     Gray{Float64}(0.0)\n",
       " Gray{Float64}(0.0)  Gray{Float64}(0.0)     Gray{Float64}(0.0)\n",
       " Gray{Float64}(0.0)  Gray{Float64}(0.0)     Gray{Float64}(0.0)\n",
       " Gray{Float64}(0.0)  Gray{Float64}(0.0)  …  Gray{Float64}(0.0)\n",
       " Gray{Float64}(0.0)  Gray{Float64}(0.0)     Gray{Float64}(0.0)\n",
       " Gray{Float64}(0.0)  Gray{Float64}(0.0)     Gray{Float64}(0.0)\n",
       " Gray{Float64}(0.0)  Gray{Float64}(0.0)     Gray{Float64}(0.0)\n",
       " Gray{Float64}(0.0)  Gray{Float64}(0.0)     Gray{Float64}(0.0)\n",
       " ⋮                                       ⋱  \n",
       " Gray{Float64}(0.0)  Gray{Float64}(0.0)     Gray{Float64}(0.0)\n",
       " Gray{Float64}(0.0)  Gray{Float64}(0.0)     Gray{Float64}(0.0)\n",
       " Gray{Float64}(0.0)  Gray{Float64}(0.0)     Gray{Float64}(0.0)\n",
       " Gray{Float64}(0.0)  Gray{Float64}(0.0)     Gray{Float64}(0.0)\n",
       " Gray{Float64}(0.0)  Gray{Float64}(0.0)  …  Gray{Float64}(0.0)\n",
       " Gray{Float64}(0.0)  Gray{Float64}(0.0)     Gray{Float64}(0.0)\n",
       " Gray{Float64}(0.0)  Gray{Float64}(0.0)     Gray{Float64}(0.0)\n",
       " Gray{Float64}(0.0)  Gray{Float64}(0.0)     Gray{Float64}(0.0)\n",
       " Gray{Float64}(0.0)  Gray{Float64}(0.0)     Gray{Float64}(0.0)"
      ]
     },
     "metadata": {},
     "output_type": "display_data"
    }
   ],
   "source": [
    "hd1, hd2 = half_detectors(on, 1, 1, 1)\n",
    "unroll(hd1)"
   ]
  },
  {
   "cell_type": "code",
   "execution_count": 156,
   "metadata": {},
   "outputs": [
    {
     "data": {
      "image/png": "[encoded data removed]",
      "text/html": [
       "<img src=\"data:image/png;base64,iVBORw0KGgoAAAANSUhEUgAAASkAAABkCAAAAAD/Q5lYAAAABGdBTUEAALGPC/xhBQAAAAFzUkdCAK7OHOkAAAAgY0hSTQAAeiYAAICEAAD6AAAAgOgAAHUwAADqYAAAOpgAABdwnLpRPAAAApVJREFUeAHtwVFOI0EQBcFMqe5/5bf2gI3XDKLEdP9VRDF6itFTjJ5i9BSjpxg9xegpRk8xeorRU4yeYvQUo6cYPcXoKUZPMXqK0VOMnmL0FKOnGD3F6ClGTzF6itFTjJ5i9BSjp7gosltkt8hviotkO9lOflVcF7mLRPaI3EUie0TuIpETxXVyEGQTOQiyiRwEOVOsEtktslvkB8Uqsp1sJz8pRk8xeorRU4yeYvQUC0V2i+wWOVNcFvkkEFkv8kkgsl7kk0DkXXGZvJIN5JVsIK/km2L0FJtEdovsFnkoronsFtkt8qviGvmBrCI/kFXkB/JUjJ5i9BSbRHaL7BZ5KJaJkZvIjWwQIzeRG9kgRm4iN/JULCMSQbYRiSDbiESQN8VFkReyQeSFbBB5ISeKi2Q72U5+VVwVORFZJ3Iisk7kROSpuErOyEJyRhaSM/Kl+LPIbpHdIj3Fn8lD5BB5ilwnD5FD5ClynTxEDpGnyEOxgHyQh8ha8kEeImvJB3mIfCkuiZwSWSRySmSRyCmRp+LPIshWEWSrCNJQ/JlsJ9tJU7FA5Etkg8iXyAaRL5E3xQLyQu4iS8kLuYssJS/kLvJUrBa5kY0iN7JR5Ea+FBdFDpG7KKtFDpG7KKtFDpG7KO+Ki+SDHGQ9+SAHWU8+yEG+K0ZPMXqKtSK7RXaLfFOsJdvJdvJdMXqKdSJ3kW0id5FtIneR/xXryEH2kYPsIwd5UywX2S2yW+R/xXKynWwnb4rRUywW2S2yW+Rd8XeRNxFZKfImIitF3kTkm+Lv5BB5kMXkEHmQxeQQeZAzxWWynWwnvyhGTzF6itFTjJ5i9BSjpxg9xegpRk8xeorRU4yeYvQUo6cYPcXoKUZPMXqK0fMPAY56CbilmRIAAAAASUVORK5C\">"
      ],
      "text/plain": [
       "100×297 Array{Gray{Float64},2} with eltype Gray{Float64}:\n",
       " Gray{Float64}(0.0)  Gray{Float64}(0.0)  …  Gray{Float64}(0.0)\n",
       " Gray{Float64}(0.0)  Gray{Float64}(0.0)     Gray{Float64}(0.0)\n",
       " Gray{Float64}(0.0)  Gray{Float64}(0.0)     Gray{Float64}(0.0)\n",
       " Gray{Float64}(0.0)  Gray{Float64}(0.0)     Gray{Float64}(0.0)\n",
       " Gray{Float64}(0.0)  Gray{Float64}(0.0)     Gray{Float64}(0.0)\n",
       " Gray{Float64}(0.0)  Gray{Float64}(0.0)  …  Gray{Float64}(0.0)\n",
       " Gray{Float64}(0.0)  Gray{Float64}(0.0)     Gray{Float64}(0.0)\n",
       " Gray{Float64}(0.0)  Gray{Float64}(0.0)     Gray{Float64}(0.0)\n",
       " Gray{Float64}(0.0)  Gray{Float64}(0.0)     Gray{Float64}(0.0)\n",
       " Gray{Float64}(0.0)  Gray{Float64}(0.0)     Gray{Float64}(0.0)\n",
       " ⋮                                       ⋱  \n",
       " Gray{Float64}(0.0)  Gray{Float64}(0.0)     Gray{Float64}(0.0)\n",
       " Gray{Float64}(0.0)  Gray{Float64}(0.0)     Gray{Float64}(0.0)\n",
       " Gray{Float64}(0.0)  Gray{Float64}(0.0)     Gray{Float64}(0.0)\n",
       " Gray{Float64}(0.0)  Gray{Float64}(0.0)     Gray{Float64}(0.0)\n",
       " Gray{Float64}(0.0)  Gray{Float64}(0.0)  …  Gray{Float64}(0.0)\n",
       " Gray{Float64}(0.0)  Gray{Float64}(0.0)     Gray{Float64}(0.0)\n",
       " Gray{Float64}(0.0)  Gray{Float64}(0.0)     Gray{Float64}(0.0)\n",
       " Gray{Float64}(0.0)  Gray{Float64}(0.0)     Gray{Float64}(0.0)\n",
       " Gray{Float64}(0.0)  Gray{Float64}(0.0)     Gray{Float64}(0.0)"
      ]
     },
     "metadata": {},
     "output_type": "display_data"
    }
   ],
   "source": [
    "unroll(hd2)"
   ]
  },
  {
   "attachments": {},
   "cell_type": "markdown",
   "metadata": {
    "slideshow": {
     "slide_type": "subslide"
    }
   },
   "source": [
    "### Full detectors"
   ]
  },
  {
   "attachments": {},
   "cell_type": "markdown",
   "metadata": {},
   "source": [
    "- full detectors take difference of two half-detectors (same spatial offset, opposite direction)"
   ]
  },
  {
   "cell_type": "code",
   "execution_count": 182,
   "metadata": {},
   "outputs": [
    {
     "data": {
      "text/plain": [
       "full_detectors (generic function with 1 method)"
      ]
     },
     "metadata": {},
     "output_type": "display_data"
    }
   ],
   "source": [
    "function full_detectors(hd1s, hd2s)\n",
    "    # ...to be implemented:\n",
    "    return hd1s - hd2s\n",
    "end"
   ]
  },
  {
   "cell_type": "code",
   "execution_count": 183,
   "metadata": {},
   "outputs": [
    {
     "data": {
      "image/png": "[encoded data removed]",
      "text/html": [
       "<img src=\"data:image/png;base64,iVBORw0KGgoAAAANSUhEUgAAASkAAABkCAAAAAD/Q5lYAAAABGdBTUEAALGPC/xhBQAAAAFzUkdCAK7OHOkAAAAgY0hSTQAAeiYAAICEAAD6AAAAgOgAAHUwAADqYAAAOpgAABdwnLpRPAAAAMZJREFUeAHtwTEBAAAAgyAP+2deBQMM5Bq5Rq6Ra+QauUaukWvkGrlGrpFr5Bq5Rq6Ra+QauUaukWvkGrlGrpFr5Bq5Rq6Ra+QauUaukWvkGrlGrpFr5Bq5Rq6Ra+QauUaukWvkGrlGrpFr5Bq5Rq6Ra+QauUaukWvkGrlGrpFr5Bq5Rq6Ra+QauUaukWvkGrlGrpFr5Bq5Rq6Ra+QauUaukWvkGrlGrpFr5Bq5Rq6Ra+QauUaukWvkGrlGrpFr5Bq5Rq6RawZT3AGRibNCJgAAAABJRU5ErkJg\">"
      ],
      "text/plain": [
       "100×297 Array{Gray{Float64},2} with eltype Gray{Float64}:\n",
       " Gray{Float64}(NaN)  Gray{Float64}(NaN)  …  Gray{Float64}(NaN)\n",
       " Gray{Float64}(NaN)  Gray{Float64}(NaN)     Gray{Float64}(NaN)\n",
       " Gray{Float64}(NaN)  Gray{Float64}(NaN)     Gray{Float64}(NaN)\n",
       " Gray{Float64}(NaN)  Gray{Float64}(NaN)     Gray{Float64}(NaN)\n",
       " Gray{Float64}(NaN)  Gray{Float64}(NaN)     Gray{Float64}(NaN)\n",
       " Gray{Float64}(NaN)  Gray{Float64}(NaN)  …  Gray{Float64}(NaN)\n",
       " Gray{Float64}(NaN)  Gray{Float64}(NaN)     Gray{Float64}(NaN)\n",
       " Gray{Float64}(NaN)  Gray{Float64}(NaN)     Gray{Float64}(NaN)\n",
       " Gray{Float64}(NaN)  Gray{Float64}(NaN)     Gray{Float64}(NaN)\n",
       " Gray{Float64}(NaN)  Gray{Float64}(NaN)     Gray{Float64}(NaN)\n",
       " ⋮                                       ⋱  \n",
       " Gray{Float64}(NaN)  Gray{Float64}(NaN)     Gray{Float64}(NaN)\n",
       " Gray{Float64}(NaN)  Gray{Float64}(NaN)     Gray{Float64}(NaN)\n",
       " Gray{Float64}(NaN)  Gray{Float64}(NaN)     Gray{Float64}(NaN)\n",
       " Gray{Float64}(NaN)  Gray{Float64}(NaN)     Gray{Float64}(NaN)\n",
       " Gray{Float64}(NaN)  Gray{Float64}(NaN)  …  Gray{Float64}(NaN)\n",
       " Gray{Float64}(NaN)  Gray{Float64}(NaN)     Gray{Float64}(NaN)\n",
       " Gray{Float64}(NaN)  Gray{Float64}(NaN)     Gray{Float64}(NaN)\n",
       " Gray{Float64}(NaN)  Gray{Float64}(NaN)     Gray{Float64}(NaN)\n",
       " Gray{Float64}(NaN)  Gray{Float64}(NaN)     Gray{Float64}(NaN)"
      ]
     },
     "metadata": {},
     "output_type": "display_data"
    }
   ],
   "source": [
    "fd = full_detectors(hd1, hd2)\n",
    "unroll(fd)"
   ]
  },
  {
   "attachments": {},
   "cell_type": "markdown",
   "metadata": {
    "slideshow": {
     "slide_type": "subslide"
    }
   },
   "source": [
    "### Putting it all together"
   ]
  },
  {
   "cell_type": "code",
   "execution_count": 179,
   "metadata": {},
   "outputs": [
    {
     "data": {
      "text/plain": [
       "hrd (generic function with 1 method)"
      ]
     },
     "metadata": {},
     "output_type": "display_data"
    }
   ],
   "source": [
    "function hrd(imgs, Δx, Δy, Δt)\n",
    "    # ...to be implemented:\n",
    "    ons = on_cells(imgs)\n",
    "    hd1, hd2 = half_detectors(ons, Δx, Δy, Δt)\n",
    "    return full_detectors(hd1, hd2)     \n",
    "end"
   ]
  },
  {
   "cell_type": "code",
   "execution_count": 180,
   "metadata": {
    "slideshow": {
     "slide_type": "subslide"
    }
   },
   "outputs": [
    {
     "data": {
      "image/png": "[encoded data removed]",
      "text/html": [
       "<img src=\"data:image/png;base64,iVBORw0KGgoAAAANSUhEUgAAASkAAABkCAAAAAD/Q5lYAAAABGdBTUEAALGPC/xhBQAAAAFzUkdCAK7OHOkAAAAgY0hSTQAAeiYAAICEAAD6AAAAgOgAAHUwAADqYAAAOpgAABdwnLpRPAAAAMZJREFUeAHtwTEBAAAAgyAP+2deBQMM5Bq5Rq6Ra+QauUaukWvkGrlGrpFr5Bq5Rq6Ra+QauUaukWvkGrlGrpFr5Bq5Rq6Ra+QauUaukWvkGrlGrpFr5Bq5Rq6Ra+QauUaukWvkGrlGrpFr5Bq5Rq6Ra+QauUaukWvkGrlGrpFr5Bq5Rq6Ra+QauUaukWvkGrlGrpFr5Bq5Rq6Ra+QauUaukWvkGrlGrpFr5Bq5Rq6Ra+QauUaukWvkGrlGrpFr5Bq5Rq6RawZT3AGRibNCJgAAAABJRU5ErkJg\">"
      ],
      "text/plain": [
       "100×297 Array{Gray{Float64},2} with eltype Gray{Float64}:\n",
       " Gray{Float64}(NaN)  Gray{Float64}(NaN)  …  Gray{Float64}(NaN)\n",
       " Gray{Float64}(NaN)  Gray{Float64}(NaN)     Gray{Float64}(NaN)\n",
       " Gray{Float64}(NaN)  Gray{Float64}(NaN)     Gray{Float64}(NaN)\n",
       " Gray{Float64}(NaN)  Gray{Float64}(NaN)     Gray{Float64}(NaN)\n",
       " Gray{Float64}(NaN)  Gray{Float64}(NaN)     Gray{Float64}(NaN)\n",
       " Gray{Float64}(NaN)  Gray{Float64}(NaN)  …  Gray{Float64}(NaN)\n",
       " Gray{Float64}(NaN)  Gray{Float64}(NaN)     Gray{Float64}(NaN)\n",
       " Gray{Float64}(NaN)  Gray{Float64}(NaN)     Gray{Float64}(NaN)\n",
       " Gray{Float64}(NaN)  Gray{Float64}(NaN)     Gray{Float64}(NaN)\n",
       " Gray{Float64}(NaN)  Gray{Float64}(NaN)     Gray{Float64}(NaN)\n",
       " ⋮                                       ⋱  \n",
       " Gray{Float64}(NaN)  Gray{Float64}(NaN)     Gray{Float64}(NaN)\n",
       " Gray{Float64}(NaN)  Gray{Float64}(NaN)     Gray{Float64}(NaN)\n",
       " Gray{Float64}(NaN)  Gray{Float64}(NaN)     Gray{Float64}(NaN)\n",
       " Gray{Float64}(NaN)  Gray{Float64}(NaN)     Gray{Float64}(NaN)\n",
       " Gray{Float64}(NaN)  Gray{Float64}(NaN)  …  Gray{Float64}(NaN)\n",
       " Gray{Float64}(NaN)  Gray{Float64}(NaN)     Gray{Float64}(NaN)\n",
       " Gray{Float64}(NaN)  Gray{Float64}(NaN)     Gray{Float64}(NaN)\n",
       " Gray{Float64}(NaN)  Gray{Float64}(NaN)     Gray{Float64}(NaN)\n",
       " Gray{Float64}(NaN)  Gray{Float64}(NaN)     Gray{Float64}(NaN)"
      ]
     },
     "metadata": {},
     "output_type": "display_data"
    }
   ],
   "source": [
    "unroll(hrd(img, 1, 1, 1))"
   ]
  },
  {
   "cell_type": "code",
   "execution_count": 181,
   "metadata": {},
   "outputs": [
    {
     "data": {
      "image/png": "[encoded data removed]",
      "text/html": [
       "<img src=\"data:image/png;base64,iVBORw0KGgoAAAANSUhEUgAAAMYAAABkCAAAAAD4JBBkAAAABGdBTUEAALGPC/xhBQAAAAFzUkdCAK7OHOkAAAAgY0hSTQAAeiYAAICEAAD6AAAAgOgAAHUwAADqYAAAOpgAABdwnLpRPAAAAKtJREFUeAHdwTEBAAAAQDCH/pn1sMmCLMiCLMiCLMiCLMiCLMiCLMiCLMiCLMiCLMiCLMiCLMiCLMiCLMiCLMiCLMiCLMiCLMiCLMiCLMiCLMiCLMiCLMiCLMiCLMiCLMiCLMiCLMiCLMiCLMiCLMiCLMiCLMiCLMiCLMiCLMiCLMiCLMiCLMiCLMiCLMiCLMiCLMiCLMiCLMiCLMiCLMiCLMiCLMiCLMiCLASnpwGRbXfG3AAAAABJRU5ErkJg\">"
      ],
      "text/plain": [
       "100×198 Array{Gray{Float64},2} with eltype Gray{Float64}:\n",
       " Gray{Float64}(NaN)  Gray{Float64}(NaN)  …  Gray{Float64}(NaN)\n",
       " Gray{Float64}(NaN)  Gray{Float64}(NaN)     Gray{Float64}(NaN)\n",
       " Gray{Float64}(NaN)  Gray{Float64}(NaN)     Gray{Float64}(NaN)\n",
       " Gray{Float64}(NaN)  Gray{Float64}(NaN)     Gray{Float64}(NaN)\n",
       " Gray{Float64}(NaN)  Gray{Float64}(NaN)     Gray{Float64}(NaN)\n",
       " Gray{Float64}(NaN)  Gray{Float64}(NaN)  …  Gray{Float64}(NaN)\n",
       " Gray{Float64}(NaN)  Gray{Float64}(NaN)     Gray{Float64}(NaN)\n",
       " Gray{Float64}(NaN)  Gray{Float64}(NaN)     Gray{Float64}(NaN)\n",
       " Gray{Float64}(NaN)  Gray{Float64}(NaN)     Gray{Float64}(NaN)\n",
       " Gray{Float64}(NaN)  Gray{Float64}(NaN)     Gray{Float64}(NaN)\n",
       " ⋮                                       ⋱  \n",
       " Gray{Float64}(NaN)  Gray{Float64}(NaN)     Gray{Float64}(NaN)\n",
       " Gray{Float64}(NaN)  Gray{Float64}(NaN)     Gray{Float64}(NaN)\n",
       " Gray{Float64}(NaN)  Gray{Float64}(NaN)     Gray{Float64}(NaN)\n",
       " Gray{Float64}(NaN)  Gray{Float64}(NaN)     Gray{Float64}(NaN)\n",
       " Gray{Float64}(NaN)  Gray{Float64}(NaN)  …  Gray{Float64}(NaN)\n",
       " Gray{Float64}(NaN)  Gray{Float64}(NaN)     Gray{Float64}(NaN)\n",
       " Gray{Float64}(NaN)  Gray{Float64}(NaN)     Gray{Float64}(NaN)\n",
       " Gray{Float64}(NaN)  Gray{Float64}(NaN)     Gray{Float64}(NaN)\n",
       " Gray{Float64}(NaN)  Gray{Float64}(NaN)     Gray{Float64}(NaN)"
      ]
     },
     "metadata": {},
     "output_type": "display_data"
    }
   ],
   "source": [
    "unroll(hrd(img, 0, 3, 2))"
   ]
  },
  {
   "attachments": {},
   "cell_type": "markdown",
   "metadata": {
    "slideshow": {
     "slide_type": "slide"
    }
   },
   "source": [
    "## Task 2: Motion Integration"
   ]
  },
  {
   "attachments": {},
   "cell_type": "markdown",
   "metadata": {},
   "source": [
    "- Try motion **hypotheses** (each offset in a certain range) and score their quality\n",
    "- **Aggregate** quality over a local neighborhood\n",
    "- Find **best** fitting direction at each location"
   ]
  },
  {
   "attachments": {},
   "cell_type": "markdown",
   "metadata": {
    "slideshow": {
     "slide_type": "subslide"
    }
   },
   "source": [
    "### Help with plotting"
   ]
  },
  {
   "attachments": {},
   "cell_type": "markdown",
   "metadata": {},
   "source": [
    "- Again, start with a utility function (plot all motion hypotheses on 2D grid)"
   ]
  },
  {
   "cell_type": "code",
   "execution_count": 162,
   "metadata": {
    "scrolled": true
   },
   "outputs": [
    {
     "data": {
      "text/plain": [
       "stack4D (generic function with 1 method)"
      ]
     },
     "metadata": {},
     "output_type": "display_data"
    }
   ],
   "source": [
    "function stack4D(imgs)\n",
    "    Gray.(hcat([vcat([imgs[i, j, :, :] for i in 1:size(imgs,1)]...) for j in 1:size(imgs, 2)]...))\n",
    "end"
   ]
  },
  {
   "attachments": {},
   "cell_type": "markdown",
   "metadata": {
    "slideshow": {
     "slide_type": "subslide"
    }
   },
   "source": [
    "### Shift and compare"
   ]
  },
  {
   "attachments": {},
   "cell_type": "markdown",
   "metadata": {},
   "source": [
    "- Implement relative **shift** by padding\n",
    "- **Compare** via square difference (lower = better)"
   ]
  },
  {
   "cell_type": "code",
   "execution_count": 163,
   "metadata": {},
   "outputs": [
    {
     "data": {
      "text/plain": [
       "paddedcomp (generic function with 1 method)"
      ]
     },
     "metadata": {},
     "output_type": "display_data"
    }
   ],
   "source": [
    "function paddedcomp(img1, img2, Δx, Δy; compfun = (x, y) -> (x - y)^2)\n",
    "    # Calculate padding.\n",
    "    # ...to be implemented: \n",
    "    # Apply padding\n",
    "    # ...to be implemented: \n",
    "    # compare element-wise\n",
    "    # ...to be implemented: \n",
    "    # Select original image region from result.\n",
    "    # We assume our result is anchored to img1\n",
    "    # ...to be implemented: \n",
    "end"
   ]
  },
  {
   "attachments": {},
   "cell_type": "markdown",
   "metadata": {
    "slideshow": {
     "slide_type": "subslide"
    }
   },
   "source": [
    "- Perform comparison for every shift in a given range"
   ]
  },
  {
   "cell_type": "code",
   "execution_count": 164,
   "metadata": {},
   "outputs": [
    {
     "data": {
      "text/plain": [
       "shiftcompare (generic function with 1 method)"
      ]
     },
     "metadata": {},
     "output_type": "display_data"
    }
   ],
   "source": [
    "function shiftcompare(img1, img2, Δxs, Δys)\n",
    "    @assert size(img1) == size(img2) \"img1 and img2 must be of same size\"\n",
    "    # ...to be implemented: \n",
    "end"
   ]
  },
  {
   "cell_type": "code",
   "execution_count": 165,
   "metadata": {
    "slideshow": {
     "slide_type": "subslide"
    }
   },
   "outputs": [
    {
     "ename": "MethodError",
     "evalue": "MethodError: no method matching size(::Nothing, ::Int64)\n\nClosest candidates are:\n  size(!Matched::BitVector, ::Integer)\n   @ Base bitarray.jl:107\n  size(!Matched::Type{<:LinearAlgebra.Diagonal{T, StaticArraysCore.SVector{N, T}} where T}, ::Int64) where N\n   @ StaticArrays ~/.julia/packages/StaticArrays/YN0oL/src/SDiagonal.jl:18\n  size(!Matched::Type{<:Union{LinearAlgebra.Adjoint{T, <:Union{StaticArraysCore.StaticArray{Tuple{var\"#s2\"}, T, 1} where var\"#s2\", StaticArraysCore.StaticArray{Tuple{var\"#s3\", var\"#s4\"}, T, 2} where {var\"#s3\", var\"#s4\"}}}, LinearAlgebra.Diagonal{T, <:StaticArraysCore.StaticArray{Tuple{var\"#s14\"}, T, 1} where var\"#s14\"}, LinearAlgebra.Hermitian{T, <:StaticArraysCore.StaticArray{Tuple{var\"#s11\", var\"#s12\"}, T, 2} where {var\"#s11\", var\"#s12\"}}, LinearAlgebra.LowerTriangular{T, <:StaticArraysCore.StaticArray{Tuple{var\"#s19\", var\"#s20\"}, T, 2} where {var\"#s19\", var\"#s20\"}}, LinearAlgebra.Symmetric{T, <:StaticArraysCore.StaticArray{Tuple{var\"#s8\", var\"#s9\"}, T, 2} where {var\"#s8\", var\"#s9\"}}, LinearAlgebra.Transpose{T, <:Union{StaticArraysCore.StaticArray{Tuple{var\"#s2\"}, T, 1} where var\"#s2\", StaticArraysCore.StaticArray{Tuple{var\"#s3\", var\"#s4\"}, T, 2} where {var\"#s3\", var\"#s4\"}}}, LinearAlgebra.UnitLowerTriangular{T, <:StaticArraysCore.StaticArray{Tuple{var\"#s25\", var\"#s26\"}, T, 2} where {var\"#s25\", var\"#s26\"}}, LinearAlgebra.UnitUpperTriangular{T, <:StaticArraysCore.StaticArray{Tuple{var\"#s22\", var\"#s23\"}, T, 2} where {var\"#s22\", var\"#s23\"}}, LinearAlgebra.UpperTriangular{T, <:StaticArraysCore.StaticArray{Tuple{var\"#s16\", var\"#s17\"}, T, 2} where {var\"#s16\", var\"#s17\"}}, StaticArraysCore.StaticArray{Tuple{var\"#s26\"}, T, 1} where var\"#s26\", StaticArraysCore.StaticArray{Tuple{var\"#s1\", var\"#s4\"}, T, 2} where {var\"#s1\", var\"#s4\"}, StaticArraysCore.StaticArray{<:Tuple, T}} where T}, ::Int64)\n   @ StaticArrays ~/.julia/packages/StaticArrays/YN0oL/src/abstractarray.jl:5\n  ...\n",
     "output_type": "error",
     "traceback": [
      "MethodError: no method matching size(::Nothing, ::Int64)\n",
      "\n",
      "Closest candidates are:\n",
      "  size(!Matched::BitVector, ::Integer)\n",
      "   @ Base bitarray.jl:107\n",
      "  size(!Matched::Type{<:LinearAlgebra.Diagonal{T, StaticArraysCore.SVector{N, T}} where T}, ::Int64) where N\n",
      "   @ StaticArrays ~/.julia/packages/StaticArrays/YN0oL/src/SDiagonal.jl:18\n",
      "  size(!Matched::Type{<:Union{LinearAlgebra.Adjoint{T, <:Union{StaticArraysCore.StaticArray{Tuple{var\"#s2\"}, T, 1} where var\"#s2\", StaticArraysCore.StaticArray{Tuple{var\"#s3\", var\"#s4\"}, T, 2} where {var\"#s3\", var\"#s4\"}}}, LinearAlgebra.Diagonal{T, <:StaticArraysCore.StaticArray{Tuple{var\"#s14\"}, T, 1} where var\"#s14\"}, LinearAlgebra.Hermitian{T, <:StaticArraysCore.StaticArray{Tuple{var\"#s11\", var\"#s12\"}, T, 2} where {var\"#s11\", var\"#s12\"}}, LinearAlgebra.LowerTriangular{T, <:StaticArraysCore.StaticArray{Tuple{var\"#s19\", var\"#s20\"}, T, 2} where {var\"#s19\", var\"#s20\"}}, LinearAlgebra.Symmetric{T, <:StaticArraysCore.StaticArray{Tuple{var\"#s8\", var\"#s9\"}, T, 2} where {var\"#s8\", var\"#s9\"}}, LinearAlgebra.Transpose{T, <:Union{StaticArraysCore.StaticArray{Tuple{var\"#s2\"}, T, 1} where var\"#s2\", StaticArraysCore.StaticArray{Tuple{var\"#s3\", var\"#s4\"}, T, 2} where {var\"#s3\", var\"#s4\"}}}, LinearAlgebra.UnitLowerTriangular{T, <:StaticArraysCore.StaticArray{Tuple{var\"#s25\", var\"#s26\"}, T, 2} where {var\"#s25\", var\"#s26\"}}, LinearAlgebra.UnitUpperTriangular{T, <:StaticArraysCore.StaticArray{Tuple{var\"#s22\", var\"#s23\"}, T, 2} where {var\"#s22\", var\"#s23\"}}, LinearAlgebra.UpperTriangular{T, <:StaticArraysCore.StaticArray{Tuple{var\"#s16\", var\"#s17\"}, T, 2} where {var\"#s16\", var\"#s17\"}}, StaticArraysCore.StaticArray{Tuple{var\"#s26\"}, T, 1} where var\"#s26\", StaticArraysCore.StaticArray{Tuple{var\"#s1\", var\"#s4\"}, T, 2} where {var\"#s1\", var\"#s4\"}, StaticArraysCore.StaticArray{<:Tuple, T}} where T}, ::Int64)\n",
      "   @ StaticArrays ~/.julia/packages/StaticArrays/YN0oL/src/abstractarray.jl:5\n",
      "  ...\n",
      "\n",
      "\n",
      "Stacktrace:\n",
      " [1] stack4D(imgs::Nothing)\n",
      "   @ Main ~/vision/Assignment 4/MyPkg-2/MyNB.ipynb:2\n",
      " [2] top-level scope\n",
      "   @ ~/vision/Assignment 4/MyPkg-2/MyNB.ipynb:2"
     ]
    }
   ],
   "source": [
    "comp = shiftcompare(img[1,:,:], img[2,:,:], -3:3, -3:3)\n",
    "stack4D(comp)"
   ]
  },
  {
   "attachments": {},
   "cell_type": "markdown",
   "metadata": {
    "slideshow": {
     "slide_type": "subslide"
    }
   },
   "source": [
    "### Local sum"
   ]
  },
  {
   "cell_type": "code",
   "execution_count": 166,
   "metadata": {},
   "outputs": [
    {
     "data": {
      "text/plain": [
       "localavg (generic function with 1 method)"
      ]
     },
     "metadata": {},
     "output_type": "display_data"
    }
   ],
   "source": [
    "function localavg(comps; ksize=(5,5))\n",
    "    # ...to be implemented: \n",
    "end"
   ]
  },
  {
   "cell_type": "code",
   "execution_count": 167,
   "metadata": {
    "slideshow": {
     "slide_type": "subslide"
    }
   },
   "outputs": [
    {
     "ename": "MethodError",
     "evalue": "MethodError: no method matching size(::Nothing, ::Int64)\n\nClosest candidates are:\n  size(!Matched::BitVector, ::Integer)\n   @ Base bitarray.jl:107\n  size(!Matched::Type{<:LinearAlgebra.Diagonal{T, StaticArraysCore.SVector{N, T}} where T}, ::Int64) where N\n   @ StaticArrays ~/.julia/packages/StaticArrays/YN0oL/src/SDiagonal.jl:18\n  size(!Matched::Type{<:Union{LinearAlgebra.Adjoint{T, <:Union{StaticArraysCore.StaticArray{Tuple{var\"#s2\"}, T, 1} where var\"#s2\", StaticArraysCore.StaticArray{Tuple{var\"#s3\", var\"#s4\"}, T, 2} where {var\"#s3\", var\"#s4\"}}}, LinearAlgebra.Diagonal{T, <:StaticArraysCore.StaticArray{Tuple{var\"#s14\"}, T, 1} where var\"#s14\"}, LinearAlgebra.Hermitian{T, <:StaticArraysCore.StaticArray{Tuple{var\"#s11\", var\"#s12\"}, T, 2} where {var\"#s11\", var\"#s12\"}}, LinearAlgebra.LowerTriangular{T, <:StaticArraysCore.StaticArray{Tuple{var\"#s19\", var\"#s20\"}, T, 2} where {var\"#s19\", var\"#s20\"}}, LinearAlgebra.Symmetric{T, <:StaticArraysCore.StaticArray{Tuple{var\"#s8\", var\"#s9\"}, T, 2} where {var\"#s8\", var\"#s9\"}}, LinearAlgebra.Transpose{T, <:Union{StaticArraysCore.StaticArray{Tuple{var\"#s2\"}, T, 1} where var\"#s2\", StaticArraysCore.StaticArray{Tuple{var\"#s3\", var\"#s4\"}, T, 2} where {var\"#s3\", var\"#s4\"}}}, LinearAlgebra.UnitLowerTriangular{T, <:StaticArraysCore.StaticArray{Tuple{var\"#s25\", var\"#s26\"}, T, 2} where {var\"#s25\", var\"#s26\"}}, LinearAlgebra.UnitUpperTriangular{T, <:StaticArraysCore.StaticArray{Tuple{var\"#s22\", var\"#s23\"}, T, 2} where {var\"#s22\", var\"#s23\"}}, LinearAlgebra.UpperTriangular{T, <:StaticArraysCore.StaticArray{Tuple{var\"#s16\", var\"#s17\"}, T, 2} where {var\"#s16\", var\"#s17\"}}, StaticArraysCore.StaticArray{Tuple{var\"#s26\"}, T, 1} where var\"#s26\", StaticArraysCore.StaticArray{Tuple{var\"#s1\", var\"#s4\"}, T, 2} where {var\"#s1\", var\"#s4\"}, StaticArraysCore.StaticArray{<:Tuple, T}} where T}, ::Int64)\n   @ StaticArrays ~/.julia/packages/StaticArrays/YN0oL/src/abstractarray.jl:5\n  ...\n",
     "output_type": "error",
     "traceback": [
      "MethodError: no method matching size(::Nothing, ::Int64)\n",
      "\n",
      "Closest candidates are:\n",
      "  size(!Matched::BitVector, ::Integer)\n",
      "   @ Base bitarray.jl:107\n",
      "  size(!Matched::Type{<:LinearAlgebra.Diagonal{T, StaticArraysCore.SVector{N, T}} where T}, ::Int64) where N\n",
      "   @ StaticArrays ~/.julia/packages/StaticArrays/YN0oL/src/SDiagonal.jl:18\n",
      "  size(!Matched::Type{<:Union{LinearAlgebra.Adjoint{T, <:Union{StaticArraysCore.StaticArray{Tuple{var\"#s2\"}, T, 1} where var\"#s2\", StaticArraysCore.StaticArray{Tuple{var\"#s3\", var\"#s4\"}, T, 2} where {var\"#s3\", var\"#s4\"}}}, LinearAlgebra.Diagonal{T, <:StaticArraysCore.StaticArray{Tuple{var\"#s14\"}, T, 1} where var\"#s14\"}, LinearAlgebra.Hermitian{T, <:StaticArraysCore.StaticArray{Tuple{var\"#s11\", var\"#s12\"}, T, 2} where {var\"#s11\", var\"#s12\"}}, LinearAlgebra.LowerTriangular{T, <:StaticArraysCore.StaticArray{Tuple{var\"#s19\", var\"#s20\"}, T, 2} where {var\"#s19\", var\"#s20\"}}, LinearAlgebra.Symmetric{T, <:StaticArraysCore.StaticArray{Tuple{var\"#s8\", var\"#s9\"}, T, 2} where {var\"#s8\", var\"#s9\"}}, LinearAlgebra.Transpose{T, <:Union{StaticArraysCore.StaticArray{Tuple{var\"#s2\"}, T, 1} where var\"#s2\", StaticArraysCore.StaticArray{Tuple{var\"#s3\", var\"#s4\"}, T, 2} where {var\"#s3\", var\"#s4\"}}}, LinearAlgebra.UnitLowerTriangular{T, <:StaticArraysCore.StaticArray{Tuple{var\"#s25\", var\"#s26\"}, T, 2} where {var\"#s25\", var\"#s26\"}}, LinearAlgebra.UnitUpperTriangular{T, <:StaticArraysCore.StaticArray{Tuple{var\"#s22\", var\"#s23\"}, T, 2} where {var\"#s22\", var\"#s23\"}}, LinearAlgebra.UpperTriangular{T, <:StaticArraysCore.StaticArray{Tuple{var\"#s16\", var\"#s17\"}, T, 2} where {var\"#s16\", var\"#s17\"}}, StaticArraysCore.StaticArray{Tuple{var\"#s26\"}, T, 1} where var\"#s26\", StaticArraysCore.StaticArray{Tuple{var\"#s1\", var\"#s4\"}, T, 2} where {var\"#s1\", var\"#s4\"}, StaticArraysCore.StaticArray{<:Tuple, T}} where T}, ::Int64)\n",
      "   @ StaticArrays ~/.julia/packages/StaticArrays/YN0oL/src/abstractarray.jl:5\n",
      "  ...\n",
      "\n",
      "\n",
      "Stacktrace:\n",
      " [1] stack4D(imgs::Nothing)\n",
      "   @ Main ~/vision/Assignment 4/MyPkg-2/MyNB.ipynb:2\n",
      " [2] top-level scope\n",
      "   @ ~/vision/Assignment 4/MyPkg-2/MyNB.ipynb:2"
     ]
    }
   ],
   "source": [
    "avg = localavg(comp);\n",
    "stack4D(avg)"
   ]
  },
  {
   "attachments": {},
   "cell_type": "markdown",
   "metadata": {
    "slideshow": {
     "slide_type": "subslide"
    }
   },
   "source": [
    "### Finding motion directions"
   ]
  },
  {
   "attachments": {},
   "cell_type": "markdown",
   "metadata": {},
   "source": [
    "- Find **best** (minimum difference) direction in each location\n",
    "- Check whether optimum is unique"
   ]
  },
  {
   "cell_type": "code",
   "execution_count": 168,
   "metadata": {},
   "outputs": [
    {
     "data": {
      "text/plain": [
       "uniqueminima (generic function with 1 method)"
      ]
     },
     "metadata": {},
     "output_type": "display_data"
    }
   ],
   "source": [
    "function uniqueminima(motions, Δxs, Δys)\n",
    "    # ...to be implemented: \n",
    "    return(xs, ys, Δxₘₐₓ, Δyₘₐₓ)\n",
    "end"
   ]
  },
  {
   "attachments": {},
   "cell_type": "markdown",
   "metadata": {
    "slideshow": {
     "slide_type": "subslide"
    }
   },
   "source": [
    "### Displaying the results"
   ]
  },
  {
   "attachments": {},
   "cell_type": "markdown",
   "metadata": {},
   "source": [
    "- Our `uniqueminima` function returns the results in the correct format for a quiver plot"
   ]
  },
  {
   "cell_type": "code",
   "execution_count": 169,
   "metadata": {},
   "outputs": [
    {
     "ename": "UndefVarError",
     "evalue": "UndefVarError: `xs` not defined",
     "output_type": "error",
     "traceback": [
      "UndefVarError: `xs` not defined\n",
      "\n",
      "Stacktrace:\n",
      " [1] uniqueminima(motions::Nothing, Δxs::UnitRange{Int64}, Δys::UnitRange{Int64})\n",
      "   @ Main ~/vision/Assignment 4/MyPkg-2/MyNB.ipynb:3\n",
      " [2] top-level scope\n",
      "   @ ~/vision/Assignment 4/MyPkg-2/MyNB.ipynb:1"
     ]
    }
   ],
   "source": [
    "xs, ys, Δx, Δy = uniqueminima(avg, -3:3, -3:3);"
   ]
  },
  {
   "cell_type": "code",
   "execution_count": 170,
   "metadata": {},
   "outputs": [
    {
     "ename": "UndefVarError",
     "evalue": "UndefVarError: `xs` not defined",
     "output_type": "error",
     "traceback": [
      "UndefVarError: `xs` not defined\n",
      "\n",
      "Stacktrace:\n",
      " [1] top-level scope\n",
      "   @ ~/vision/Assignment 4/MyPkg-2/MyNB.ipynb:1"
     ]
    }
   ],
   "source": [
    "quiver(ys, 100 .- xs, quiver=(Δy, -Δx))"
   ]
  }
 ],
 "metadata": {
  "@webio": {
   "lastCommId": null,
   "lastKernelId": null
  },
  "celltoolbar": "Slideshow",
  "kernelspec": {
   "display_name": "Julia 1.10.3",
   "language": "julia",
   "name": "julia-1.10"
  },
  "language_info": {
   "file_extension": ".jl",
   "mimetype": "application/julia",
   "name": "julia",
   "version": "1.10.3"
  },
  "rise": {
   "auto_select": "code",
   "scroll": true,
   "theme": "uulm"
  }
 },
 "nbformat": 4,
 "nbformat_minor": 4
}
