{
 "cells": [
  {
   "attachments": {},
   "cell_type": "markdown",
   "metadata": {
    "slideshow": {
     "slide_type": "slide"
    }
   },
   "source": [
    "# Homework 4"
   ]
  },
  {
   "attachments": {},
   "cell_type": "markdown",
   "metadata": {
    "slideshow": {
     "slide_type": "subslide"
    }
   },
   "source": [
    "Topic: Motion\n",
    "- motion detection with Hassenstein-Rechardt detector\n",
    "- motion integration with a local search method"
   ]
  },
  {
   "cell_type": "code",
   "execution_count": 123,
   "metadata": {
    "slideshow": {
     "slide_type": "skip"
    }
   },
   "outputs": [
    {
     "name": "stderr",
     "output_type": "stream",
     "text": [
      "\u001b[32m\u001b[1m  Activating\u001b[22m\u001b[39m project at `~/vision/Assignment 4/MyPkg-2`\n",
      "\u001b[32m\u001b[1m   Resolving\u001b[22m\u001b[39m package versions...\n",
      "\u001b[32m\u001b[1m  No Changes\u001b[22m\u001b[39m to `~/vision/Assignment 4/MyPkg-2/Project.toml`\n",
      "\u001b[32m\u001b[1m  No Changes\u001b[22m\u001b[39m to `~/vision/Assignment 4/MyPkg-2/Manifest.toml`\n"
     ]
    }
   ],
   "source": [
    "# use Julia's packae managing module to activate your current environment\n",
    "using Pkg\n",
    "Pkg.activate(\".\")\n",
    "import Pkg; Pkg.add(\"JLD2\")"
   ]
  },
  {
   "cell_type": "code",
   "execution_count": 124,
   "metadata": {},
   "outputs": [],
   "source": [
    "# telling Julia to load modules that we need for our code, which have been specified as dependencies for our current package\n",
    "using JLD2\n",
    "using Images, ImageFiltering\n",
    "using Plots"
   ]
  },
  {
   "attachments": {},
   "cell_type": "markdown",
   "metadata": {
    "slideshow": {
     "slide_type": "slide"
    }
   },
   "source": [
    "## Example images"
   ]
  },
  {
   "cell_type": "code",
   "execution_count": 125,
   "metadata": {},
   "outputs": [
    {
     "data": {
      "text/plain": [
       "1-element Vector{Symbol}:\n",
       " :img"
      ]
     },
     "metadata": {},
     "output_type": "display_data"
    }
   ],
   "source": [
    "# Load our example stimulus\n",
    "@load \"./material/img.jld2\""
   ]
  },
  {
   "attachments": {},
   "cell_type": "markdown",
   "metadata": {},
   "source": [
    "A few utilities to plot the images:\n",
    "- scale to range [0, 1]\n",
    "- unpack series of images into one horizontal display"
   ]
  },
  {
   "cell_type": "code",
   "execution_count": 126,
   "metadata": {},
   "outputs": [
    {
     "data": {
      "text/plain": [
       "unroll (generic function with 1 method)"
      ]
     },
     "metadata": {},
     "output_type": "display_data"
    }
   ],
   "source": [
    "normalize(img) = (img .- minimum(img)) / (maximum(img) - minimum(img))\n",
    "\n",
    "unroll(imgs) = Gray.(hcat([normalize(imgs[i,:,:]) for i in 1:size(imgs,1)]...))"
   ]
  },
  {
   "cell_type": "code",
   "execution_count": 127,
   "metadata": {
    "scrolled": true
   },
   "outputs": [
    {
     "data": {
      "image/png": "[encoded data removed]",
      "text/html": [
       "<img src=\"data:image/png;base64,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\">"
      ],
      "text/plain": [
       "100×400 Array{Gray{Float64},2} with eltype Gray{Float64}:\n",
       " Gray{Float64}(0.0)  Gray{Float64}(0.0)  …  Gray{Float64}(0.0)\n",
       " Gray{Float64}(0.0)  Gray{Float64}(0.0)     Gray{Float64}(0.0)\n",
       " Gray{Float64}(0.0)  Gray{Float64}(0.0)     Gray{Float64}(0.0)\n",
       " Gray{Float64}(0.0)  Gray{Float64}(0.0)     Gray{Float64}(0.0)\n",
       " Gray{Float64}(0.0)  Gray{Float64}(0.0)     Gray{Float64}(0.0)\n",
       " Gray{Float64}(0.0)  Gray{Float64}(0.0)  …  Gray{Float64}(0.0)\n",
       " Gray{Float64}(0.0)  Gray{Float64}(0.0)     Gray{Float64}(0.0)\n",
       " Gray{Float64}(0.0)  Gray{Float64}(0.0)     Gray{Float64}(0.0)\n",
       " Gray{Float64}(0.0)  Gray{Float64}(0.0)     Gray{Float64}(0.0)\n",
       " Gray{Float64}(0.0)  Gray{Float64}(0.0)     Gray{Float64}(0.0)\n",
       " ⋮                                       ⋱  \n",
       " Gray{Float64}(0.0)  Gray{Float64}(0.0)     Gray{Float64}(0.0)\n",
       " Gray{Float64}(0.0)  Gray{Float64}(0.0)     Gray{Float64}(0.0)\n",
       " Gray{Float64}(0.0)  Gray{Float64}(0.0)     Gray{Float64}(0.0)\n",
       " Gray{Float64}(0.0)  Gray{Float64}(0.0)     Gray{Float64}(0.0)\n",
       " Gray{Float64}(0.0)  Gray{Float64}(0.0)  …  Gray{Float64}(0.0)\n",
       " Gray{Float64}(0.0)  Gray{Float64}(0.0)     Gray{Float64}(0.0)\n",
       " Gray{Float64}(0.0)  Gray{Float64}(0.0)     Gray{Float64}(0.0)\n",
       " Gray{Float64}(0.0)  Gray{Float64}(0.0)     Gray{Float64}(0.0)\n",
       " Gray{Float64}(0.0)  Gray{Float64}(0.0)     Gray{Float64}(0.0)"
      ]
     },
     "metadata": {},
     "output_type": "display_data"
    }
   ],
   "source": [
    "unroll(img)"
   ]
  },
  {
   "attachments": {},
   "cell_type": "markdown",
   "metadata": {
    "slideshow": {
     "slide_type": "slide"
    }
   },
   "source": [
    "## Task 1: Hassenstein-Reichardt Detector"
   ]
  },
  {
   "attachments": {},
   "cell_type": "markdown",
   "metadata": {
    "slideshow": {
     "slide_type": "subslide"
    }
   },
   "source": [
    "### Preprocessing by on-cells"
   ]
  },
  {
   "attachments": {},
   "cell_type": "markdown",
   "metadata": {},
   "source": [
    "- on-cells calculate a **temporal difference**\n",
    "- no spatial offset"
   ]
  },
  {
   "cell_type": "code",
   "execution_count": 128,
   "metadata": {},
   "outputs": [
    {
     "data": {
      "text/plain": [
       "on_cells (generic function with 1 method)"
      ]
     },
     "metadata": {},
     "output_type": "display_data"
    }
   ],
   "source": [
    "function on_cells(imgs)    \n",
    "    diff_imgs = diff(imgs, dims=1)\n",
    "    diff_imgs = max.(diff_imgs, 0)\n",
    "    return diff_imgs\n",
    "end"
   ]
  },
  {
   "cell_type": "code",
   "execution_count": 129,
   "metadata": {},
   "outputs": [
    {
     "data": {
      "image/png": "[encoded data removed]",
      "text/html": [
       "<img src=\"data:image/png;base64,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\">"
      ],
      "text/plain": [
       "100×300 Array{Gray{Float64},2} with eltype Gray{Float64}:\n",
       " Gray{Float64}(0.0)  Gray{Float64}(0.0)  …  Gray{Float64}(0.0)\n",
       " Gray{Float64}(0.0)  Gray{Float64}(0.0)     Gray{Float64}(0.0)\n",
       " Gray{Float64}(0.0)  Gray{Float64}(0.0)     Gray{Float64}(0.0)\n",
       " Gray{Float64}(0.0)  Gray{Float64}(0.0)     Gray{Float64}(0.0)\n",
       " Gray{Float64}(0.0)  Gray{Float64}(0.0)     Gray{Float64}(0.0)\n",
       " Gray{Float64}(0.0)  Gray{Float64}(0.0)  …  Gray{Float64}(0.0)\n",
       " Gray{Float64}(0.0)  Gray{Float64}(0.0)     Gray{Float64}(0.0)\n",
       " Gray{Float64}(0.0)  Gray{Float64}(0.0)     Gray{Float64}(0.0)\n",
       " Gray{Float64}(0.0)  Gray{Float64}(0.0)     Gray{Float64}(0.0)\n",
       " Gray{Float64}(0.0)  Gray{Float64}(0.0)     Gray{Float64}(0.0)\n",
       " ⋮                                       ⋱  \n",
       " Gray{Float64}(0.0)  Gray{Float64}(0.0)     Gray{Float64}(0.0)\n",
       " Gray{Float64}(0.0)  Gray{Float64}(0.0)     Gray{Float64}(0.0)\n",
       " Gray{Float64}(0.0)  Gray{Float64}(0.0)     Gray{Float64}(0.0)\n",
       " Gray{Float64}(0.0)  Gray{Float64}(0.0)     Gray{Float64}(0.0)\n",
       " Gray{Float64}(0.0)  Gray{Float64}(0.0)  …  Gray{Float64}(0.0)\n",
       " Gray{Float64}(0.0)  Gray{Float64}(0.0)     Gray{Float64}(0.0)\n",
       " Gray{Float64}(0.0)  Gray{Float64}(0.0)     Gray{Float64}(0.0)\n",
       " Gray{Float64}(0.0)  Gray{Float64}(0.0)     Gray{Float64}(0.0)\n",
       " Gray{Float64}(0.0)  Gray{Float64}(0.0)     Gray{Float64}(0.0)"
      ]
     },
     "metadata": {},
     "output_type": "display_data"
    }
   ],
   "source": [
    "on = on_cells(img)\n",
    "on_unrolled = unroll(on)"
   ]
  },
  {
   "attachments": {},
   "cell_type": "markdown",
   "metadata": {
    "slideshow": {
     "slide_type": "subslide"
    }
   },
   "source": [
    "### Half-detectors"
   ]
  },
  {
   "attachments": {},
   "cell_type": "markdown",
   "metadata": {},
   "source": [
    "- half-detectors take input from on-cells\n",
    "- perform a spatial shift $(\\Delta x, \\Delta y)$\n",
    "- compare non-delayed and delayed signal"
   ]
  },
  {
   "cell_type": "code",
   "execution_count": 130,
   "metadata": {},
   "outputs": [
    {
     "data": {
      "text/plain": [
       "half_detectors (generic function with 1 method)"
      ]
     },
     "metadata": {},
     "output_type": "display_data"
    }
   ],
   "source": [
    "function half_detectors(ons, Δx, Δy, Δt)\n",
    "    # shift arrays relative to each other\n",
    "    # ...to be implemented:\n",
    "    frames, rows, cols = size(ons)\n",
    "\n",
    "    hd1 = zeros(frames - Δt, rows, cols)\n",
    "    hd2 = zeros(frames - Δt, rows, cols)\n",
    "    \n",
    "    padding_vertical = (max(Δy, 0), max(Δy, 0))\n",
    "    padding_horizontal = (max(Δx, 0), max(Δx, 0))\n",
    "    border = Pad(:symmetric, padding_vertical[1], padding_horizontal[1])\n",
    "\n",
    "    padded_ons = [padarray(ons[t, :, :], border) for t in 1:frames] \n",
    "    # get multiplies with both temporal offsets\n",
    "    # ...to be implemented:\n",
    "    for t in 1:(frames - Δt)\n",
    "        current_frame = padded_ons[t][1:rows, 1:cols]\n",
    "        future_frame = padded_ons[t + Δt][1:rows, 1:cols]\n",
    "        hd1[t, :, :] = ons[t, :, :] .* future_frame  \n",
    "        hd2[t, :, :] = ons[t + Δt, :, :] .* current_frame \n",
    "    end\n",
    "\n",
    "    return hd1, hd2\n",
    "end\n",
    "\n",
    "\n"
   ]
  },
  {
   "cell_type": "code",
   "execution_count": 131,
   "metadata": {
    "scrolled": true,
    "slideshow": {
     "slide_type": "subslide"
    }
   },
   "outputs": [
    {
     "data": {
      "image/png": "[encoded data removed]",
      "text/html": [
       "<img src=\"data:image/png;base64,iVBORw0KGgoAAAANSUhEUgAAAMgAAABkCAAAAADm7SDXAAAABGdBTUEAALGPC/xhBQAAAAFzUkdCAK7OHOkAAAAgY0hSTQAAeiYAAICEAAD6AAAAgOgAAHUwAADqYAAAOpgAABdwnLpRPAAAAKtJREFUeAHdwTEBAAAAQDCH/pn1sMmETMiETMiETMiETMiETMiETMiETMiETMiETMiETMiETMiETMiETMiETMiETMiETMiETMiETMiETMiETMiETMiETMiETMiETMiETMiETMiETMiETMiETMiETMiETMiETMiETMiETMiETMiETMiETMiETMiETMiETMiETMiETMiETMiETMiETMiETMiETMiETMiETMiETARGTgGRiXtgSQAAAABJRU5ErkJg\">"
      ],
      "text/plain": [
       "100×200 Array{Gray{Float64},2} with eltype Gray{Float64}:\n",
       " Gray{Float64}(NaN)  Gray{Float64}(NaN)  …  Gray{Float64}(NaN)\n",
       " Gray{Float64}(NaN)  Gray{Float64}(NaN)     Gray{Float64}(NaN)\n",
       " Gray{Float64}(NaN)  Gray{Float64}(NaN)     Gray{Float64}(NaN)\n",
       " Gray{Float64}(NaN)  Gray{Float64}(NaN)     Gray{Float64}(NaN)\n",
       " Gray{Float64}(NaN)  Gray{Float64}(NaN)     Gray{Float64}(NaN)\n",
       " Gray{Float64}(NaN)  Gray{Float64}(NaN)  …  Gray{Float64}(NaN)\n",
       " Gray{Float64}(NaN)  Gray{Float64}(NaN)     Gray{Float64}(NaN)\n",
       " Gray{Float64}(NaN)  Gray{Float64}(NaN)     Gray{Float64}(NaN)\n",
       " Gray{Float64}(NaN)  Gray{Float64}(NaN)     Gray{Float64}(NaN)\n",
       " Gray{Float64}(NaN)  Gray{Float64}(NaN)     Gray{Float64}(NaN)\n",
       " ⋮                                       ⋱  \n",
       " Gray{Float64}(NaN)  Gray{Float64}(NaN)     Gray{Float64}(NaN)\n",
       " Gray{Float64}(NaN)  Gray{Float64}(NaN)     Gray{Float64}(NaN)\n",
       " Gray{Float64}(NaN)  Gray{Float64}(NaN)     Gray{Float64}(NaN)\n",
       " Gray{Float64}(NaN)  Gray{Float64}(NaN)     Gray{Float64}(NaN)\n",
       " Gray{Float64}(NaN)  Gray{Float64}(NaN)  …  Gray{Float64}(NaN)\n",
       " Gray{Float64}(NaN)  Gray{Float64}(NaN)     Gray{Float64}(NaN)\n",
       " Gray{Float64}(NaN)  Gray{Float64}(NaN)     Gray{Float64}(NaN)\n",
       " Gray{Float64}(NaN)  Gray{Float64}(NaN)     Gray{Float64}(NaN)\n",
       " Gray{Float64}(NaN)  Gray{Float64}(NaN)     Gray{Float64}(NaN)"
      ]
     },
     "metadata": {},
     "output_type": "display_data"
    }
   ],
   "source": [
    "hd1, hd2 = half_detectors(on, 1, 1, 1)\n",
    "unroll(hd1)"
   ]
  },
  {
   "cell_type": "code",
   "execution_count": 132,
   "metadata": {},
   "outputs": [
    {
     "data": {
      "image/png": "[encoded data removed]",
      "text/html": [
       "<img src=\"data:image/png;base64,iVBORw0KGgoAAAANSUhEUgAAAMgAAABkCAAAAADm7SDXAAAABGdBTUEAALGPC/xhBQAAAAFzUkdCAK7OHOkAAAAgY0hSTQAAeiYAAICEAAD6AAAAgOgAAHUwAADqYAAAOpgAABdwnLpRPAAAAKtJREFUeAHdwTEBAAAAQDCH/pn1sMmETMiETMiETMiETMiETMiETMiETMiETMiETMiETMiETMiETMiETMiETMiETMiETMiETMiETMiETMiETMiETMiETMiETMiETMiETMiETMiETMiETMiETMiETMiETMiETMiETMiETMiETMiETMiETMiETMiETMiETMiETMiETMiETMiETMiETMiETMiETMiETMiETMiETARGTgGRiXtgSQAAAABJRU5ErkJg\">"
      ],
      "text/plain": [
       "100×200 Array{Gray{Float64},2} with eltype Gray{Float64}:\n",
       " Gray{Float64}(NaN)  Gray{Float64}(NaN)  …  Gray{Float64}(NaN)\n",
       " Gray{Float64}(NaN)  Gray{Float64}(NaN)     Gray{Float64}(NaN)\n",
       " Gray{Float64}(NaN)  Gray{Float64}(NaN)     Gray{Float64}(NaN)\n",
       " Gray{Float64}(NaN)  Gray{Float64}(NaN)     Gray{Float64}(NaN)\n",
       " Gray{Float64}(NaN)  Gray{Float64}(NaN)     Gray{Float64}(NaN)\n",
       " Gray{Float64}(NaN)  Gray{Float64}(NaN)  …  Gray{Float64}(NaN)\n",
       " Gray{Float64}(NaN)  Gray{Float64}(NaN)     Gray{Float64}(NaN)\n",
       " Gray{Float64}(NaN)  Gray{Float64}(NaN)     Gray{Float64}(NaN)\n",
       " Gray{Float64}(NaN)  Gray{Float64}(NaN)     Gray{Float64}(NaN)\n",
       " Gray{Float64}(NaN)  Gray{Float64}(NaN)     Gray{Float64}(NaN)\n",
       " ⋮                                       ⋱  \n",
       " Gray{Float64}(NaN)  Gray{Float64}(NaN)     Gray{Float64}(NaN)\n",
       " Gray{Float64}(NaN)  Gray{Float64}(NaN)     Gray{Float64}(NaN)\n",
       " Gray{Float64}(NaN)  Gray{Float64}(NaN)     Gray{Float64}(NaN)\n",
       " Gray{Float64}(NaN)  Gray{Float64}(NaN)     Gray{Float64}(NaN)\n",
       " Gray{Float64}(NaN)  Gray{Float64}(NaN)  …  Gray{Float64}(NaN)\n",
       " Gray{Float64}(NaN)  Gray{Float64}(NaN)     Gray{Float64}(NaN)\n",
       " Gray{Float64}(NaN)  Gray{Float64}(NaN)     Gray{Float64}(NaN)\n",
       " Gray{Float64}(NaN)  Gray{Float64}(NaN)     Gray{Float64}(NaN)\n",
       " Gray{Float64}(NaN)  Gray{Float64}(NaN)     Gray{Float64}(NaN)"
      ]
     },
     "metadata": {},
     "output_type": "display_data"
    }
   ],
   "source": [
    "unroll(hd2)"
   ]
  },
  {
   "attachments": {},
   "cell_type": "markdown",
   "metadata": {
    "slideshow": {
     "slide_type": "subslide"
    }
   },
   "source": [
    "### Full detectors"
   ]
  },
  {
   "attachments": {},
   "cell_type": "markdown",
   "metadata": {},
   "source": [
    "- full detectors take difference of two half-detectors (same spatial offset, opposite direction)"
   ]
  },
  {
   "cell_type": "code",
   "execution_count": 133,
   "metadata": {},
   "outputs": [
    {
     "data": {
      "text/plain": [
       "full_detectors (generic function with 1 method)"
      ]
     },
     "metadata": {},
     "output_type": "display_data"
    }
   ],
   "source": [
    "function full_detectors(hd1s, hd2s)\n",
    "    # ...to be implemented:\n",
    "    return hd1s - hd2s\n",
    "end"
   ]
  },
  {
   "cell_type": "code",
   "execution_count": 134,
   "metadata": {},
   "outputs": [
    {
     "data": {
      "image/png": "[encoded data removed]",
      "text/html": [
       "<img src=\"data:image/png;base64,iVBORw0KGgoAAAANSUhEUgAAAMgAAABkCAAAAADm7SDXAAAABGdBTUEAALGPC/xhBQAAAAFzUkdCAK7OHOkAAAAgY0hSTQAAeiYAAICEAAD6AAAAgOgAAHUwAADqYAAAOpgAABdwnLpRPAAAAKtJREFUeAHdwTEBAAAAQDCH/pn1sMmETMiETMiETMiETMiETMiETMiETMiETMiETMiETMiETMiETMiETMiETMiETMiETMiETMiETMiETMiETMiETMiETMiETMiETMiETMiETMiETMiETMiETMiETMiETMiETMiETMiETMiETMiETMiETMiETMiETMiETMiETMiETMiETMiETMiETMiETMiETMiETMiETMiETARGTgGRiXtgSQAAAABJRU5ErkJg\">"
      ],
      "text/plain": [
       "100×200 Array{Gray{Float64},2} with eltype Gray{Float64}:\n",
       " Gray{Float64}(NaN)  Gray{Float64}(NaN)  …  Gray{Float64}(NaN)\n",
       " Gray{Float64}(NaN)  Gray{Float64}(NaN)     Gray{Float64}(NaN)\n",
       " Gray{Float64}(NaN)  Gray{Float64}(NaN)     Gray{Float64}(NaN)\n",
       " Gray{Float64}(NaN)  Gray{Float64}(NaN)     Gray{Float64}(NaN)\n",
       " Gray{Float64}(NaN)  Gray{Float64}(NaN)     Gray{Float64}(NaN)\n",
       " Gray{Float64}(NaN)  Gray{Float64}(NaN)  …  Gray{Float64}(NaN)\n",
       " Gray{Float64}(NaN)  Gray{Float64}(NaN)     Gray{Float64}(NaN)\n",
       " Gray{Float64}(NaN)  Gray{Float64}(NaN)     Gray{Float64}(NaN)\n",
       " Gray{Float64}(NaN)  Gray{Float64}(NaN)     Gray{Float64}(NaN)\n",
       " Gray{Float64}(NaN)  Gray{Float64}(NaN)     Gray{Float64}(NaN)\n",
       " ⋮                                       ⋱  \n",
       " Gray{Float64}(NaN)  Gray{Float64}(NaN)     Gray{Float64}(NaN)\n",
       " Gray{Float64}(NaN)  Gray{Float64}(NaN)     Gray{Float64}(NaN)\n",
       " Gray{Float64}(NaN)  Gray{Float64}(NaN)     Gray{Float64}(NaN)\n",
       " Gray{Float64}(NaN)  Gray{Float64}(NaN)     Gray{Float64}(NaN)\n",
       " Gray{Float64}(NaN)  Gray{Float64}(NaN)  …  Gray{Float64}(NaN)\n",
       " Gray{Float64}(NaN)  Gray{Float64}(NaN)     Gray{Float64}(NaN)\n",
       " Gray{Float64}(NaN)  Gray{Float64}(NaN)     Gray{Float64}(NaN)\n",
       " Gray{Float64}(NaN)  Gray{Float64}(NaN)     Gray{Float64}(NaN)\n",
       " Gray{Float64}(NaN)  Gray{Float64}(NaN)     Gray{Float64}(NaN)"
      ]
     },
     "metadata": {},
     "output_type": "display_data"
    }
   ],
   "source": [
    "fd = full_detectors(hd1, hd2)\n",
    "unroll(fd)"
   ]
  },
  {
   "attachments": {},
   "cell_type": "markdown",
   "metadata": {
    "slideshow": {
     "slide_type": "subslide"
    }
   },
   "source": [
    "### Putting it all together"
   ]
  },
  {
   "cell_type": "code",
   "execution_count": 135,
   "metadata": {},
   "outputs": [
    {
     "data": {
      "text/plain": [
       "hrd (generic function with 1 method)"
      ]
     },
     "metadata": {},
     "output_type": "display_data"
    }
   ],
   "source": [
    "function hrd(imgs, Δx, Δy, Δt)\n",
    "    # ...to be implemented:\n",
    "    ons = on_cells(imgs)\n",
    "    hd1, hd2 = half_detectors(ons, Δx, Δy, Δt)\n",
    "    return full_detectors(hd1, hd2)     \n",
    "end"
   ]
  },
  {
   "cell_type": "code",
   "execution_count": 136,
   "metadata": {
    "slideshow": {
     "slide_type": "subslide"
    }
   },
   "outputs": [
    {
     "data": {
      "image/png": "[encoded data removed]",
      "text/html": [
       "<img src=\"data:image/png;base64,iVBORw0KGgoAAAANSUhEUgAAAMgAAABkCAAAAADm7SDXAAAABGdBTUEAALGPC/xhBQAAAAFzUkdCAK7OHOkAAAAgY0hSTQAAeiYAAICEAAD6AAAAgOgAAHUwAADqYAAAOpgAABdwnLpRPAAAAKtJREFUeAHdwTEBAAAAQDCH/pn1sMmETMiETMiETMiETMiETMiETMiETMiETMiETMiETMiETMiETMiETMiETMiETMiETMiETMiETMiETMiETMiETMiETMiETMiETMiETMiETMiETMiETMiETMiETMiETMiETMiETMiETMiETMiETMiETMiETMiETMiETMiETMiETMiETMiETMiETMiETMiETMiETMiETMiETARGTgGRiXtgSQAAAABJRU5ErkJg\">"
      ],
      "text/plain": [
       "100×200 Array{Gray{Float64},2} with eltype Gray{Float64}:\n",
       " Gray{Float64}(NaN)  Gray{Float64}(NaN)  …  Gray{Float64}(NaN)\n",
       " Gray{Float64}(NaN)  Gray{Float64}(NaN)     Gray{Float64}(NaN)\n",
       " Gray{Float64}(NaN)  Gray{Float64}(NaN)     Gray{Float64}(NaN)\n",
       " Gray{Float64}(NaN)  Gray{Float64}(NaN)     Gray{Float64}(NaN)\n",
       " Gray{Float64}(NaN)  Gray{Float64}(NaN)     Gray{Float64}(NaN)\n",
       " Gray{Float64}(NaN)  Gray{Float64}(NaN)  …  Gray{Float64}(NaN)\n",
       " Gray{Float64}(NaN)  Gray{Float64}(NaN)     Gray{Float64}(NaN)\n",
       " Gray{Float64}(NaN)  Gray{Float64}(NaN)     Gray{Float64}(NaN)\n",
       " Gray{Float64}(NaN)  Gray{Float64}(NaN)     Gray{Float64}(NaN)\n",
       " Gray{Float64}(NaN)  Gray{Float64}(NaN)     Gray{Float64}(NaN)\n",
       " ⋮                                       ⋱  \n",
       " Gray{Float64}(NaN)  Gray{Float64}(NaN)     Gray{Float64}(NaN)\n",
       " Gray{Float64}(NaN)  Gray{Float64}(NaN)     Gray{Float64}(NaN)\n",
       " Gray{Float64}(NaN)  Gray{Float64}(NaN)     Gray{Float64}(NaN)\n",
       " Gray{Float64}(NaN)  Gray{Float64}(NaN)     Gray{Float64}(NaN)\n",
       " Gray{Float64}(NaN)  Gray{Float64}(NaN)  …  Gray{Float64}(NaN)\n",
       " Gray{Float64}(NaN)  Gray{Float64}(NaN)     Gray{Float64}(NaN)\n",
       " Gray{Float64}(NaN)  Gray{Float64}(NaN)     Gray{Float64}(NaN)\n",
       " Gray{Float64}(NaN)  Gray{Float64}(NaN)     Gray{Float64}(NaN)\n",
       " Gray{Float64}(NaN)  Gray{Float64}(NaN)     Gray{Float64}(NaN)"
      ]
     },
     "metadata": {},
     "output_type": "display_data"
    }
   ],
   "source": [
    "unroll(hrd(img, 1, 1, 1))"
   ]
  },
  {
   "cell_type": "code",
   "execution_count": 137,
   "metadata": {},
   "outputs": [
    {
     "data": {
      "image/png": "[encoded data removed]",
      "text/html": [
       "<img src=\"data:image/png;base64,iVBORw0KGgoAAAANSUhEUgAAAGQAAABkCAAAAABVicqIAAAABGdBTUEAALGPC/xhBQAAAAFzUkdCAK7OHOkAAAAgY0hSTQAAeiYAAICEAAD6AAAAgOgAAHUwAADqYAAAOpgAABdwnLpRPAAAAJ5JREFUaAW9wTEBAAAAQDCH/pm1sMlABjKQgQxkIAMZyEAGMpCBDGQgAxnIQAYykIEMZCADGchABjKQgQxkIAMZyEAGMpCBDGQgAxnIQAYykIEMZCADGchABjKQgQxkIAMZyEAGMpCBDGQgAxnIQAYykIEMZCADGchABjKQgQxkIAMZyEAGMpCBDGQgAxnIQAYykIEMZCADGchABjKQQUrNAZGi1ymhAAAAAElFTkSuQmCC\">"
      ],
      "text/plain": [
       "100×100 Array{Gray{Float64},2} with eltype Gray{Float64}:\n",
       " Gray{Float64}(NaN)  Gray{Float64}(NaN)  …  Gray{Float64}(NaN)\n",
       " Gray{Float64}(NaN)  Gray{Float64}(NaN)     Gray{Float64}(NaN)\n",
       " Gray{Float64}(NaN)  Gray{Float64}(NaN)     Gray{Float64}(NaN)\n",
       " Gray{Float64}(NaN)  Gray{Float64}(NaN)     Gray{Float64}(NaN)\n",
       " Gray{Float64}(NaN)  Gray{Float64}(NaN)     Gray{Float64}(NaN)\n",
       " Gray{Float64}(NaN)  Gray{Float64}(NaN)  …  Gray{Float64}(NaN)\n",
       " Gray{Float64}(NaN)  Gray{Float64}(NaN)     Gray{Float64}(NaN)\n",
       " Gray{Float64}(NaN)  Gray{Float64}(NaN)     Gray{Float64}(NaN)\n",
       " Gray{Float64}(NaN)  Gray{Float64}(NaN)     Gray{Float64}(NaN)\n",
       " Gray{Float64}(NaN)  Gray{Float64}(NaN)     Gray{Float64}(NaN)\n",
       " ⋮                                       ⋱  \n",
       " Gray{Float64}(NaN)  Gray{Float64}(NaN)     Gray{Float64}(NaN)\n",
       " Gray{Float64}(NaN)  Gray{Float64}(NaN)     Gray{Float64}(NaN)\n",
       " Gray{Float64}(NaN)  Gray{Float64}(NaN)     Gray{Float64}(NaN)\n",
       " Gray{Float64}(NaN)  Gray{Float64}(NaN)     Gray{Float64}(NaN)\n",
       " Gray{Float64}(NaN)  Gray{Float64}(NaN)  …  Gray{Float64}(NaN)\n",
       " Gray{Float64}(NaN)  Gray{Float64}(NaN)     Gray{Float64}(NaN)\n",
       " Gray{Float64}(NaN)  Gray{Float64}(NaN)     Gray{Float64}(NaN)\n",
       " Gray{Float64}(NaN)  Gray{Float64}(NaN)     Gray{Float64}(NaN)\n",
       " Gray{Float64}(NaN)  Gray{Float64}(NaN)     Gray{Float64}(NaN)"
      ]
     },
     "metadata": {},
     "output_type": "display_data"
    }
   ],
   "source": [
    "unroll(hrd(img, 0, 3, 2))"
   ]
  },
  {
   "attachments": {},
   "cell_type": "markdown",
   "metadata": {
    "slideshow": {
     "slide_type": "slide"
    }
   },
   "source": [
    "## Task 2: Motion Integration"
   ]
  },
  {
   "attachments": {},
   "cell_type": "markdown",
   "metadata": {},
   "source": [
    "- Try motion **hypotheses** (each offset in a certain range) and score their quality\n",
    "- **Aggregate** quality over a local neighborhood\n",
    "- Find **best** fitting direction at each location"
   ]
  },
  {
   "attachments": {},
   "cell_type": "markdown",
   "metadata": {
    "slideshow": {
     "slide_type": "subslide"
    }
   },
   "source": [
    "### Help with plotting"
   ]
  },
  {
   "attachments": {},
   "cell_type": "markdown",
   "metadata": {},
   "source": [
    "- Again, start with a utility function (plot all motion hypotheses on 2D grid)"
   ]
  },
  {
   "cell_type": "code",
   "execution_count": 138,
   "metadata": {
    "scrolled": true
   },
   "outputs": [
    {
     "data": {
      "text/plain": [
       "stack4D (generic function with 1 method)"
      ]
     },
     "metadata": {},
     "output_type": "display_data"
    }
   ],
   "source": [
    "function stack4D(imgs)\n",
    "    Gray.(hcat([vcat([imgs[i, j, :, :] for i in 1:size(imgs,1)]...) for j in 1:size(imgs, 2)]...))\n",
    "end"
   ]
  },
  {
   "attachments": {},
   "cell_type": "markdown",
   "metadata": {
    "slideshow": {
     "slide_type": "subslide"
    }
   },
   "source": [
    "### Shift and compare"
   ]
  },
  {
   "attachments": {},
   "cell_type": "markdown",
   "metadata": {},
   "source": [
    "- Implement relative **shift** by padding\n",
    "- **Compare** via square difference (lower = better)"
   ]
  },
  {
   "cell_type": "code",
   "execution_count": 139,
   "metadata": {},
   "outputs": [],
   "source": [
    "# function paddedcomp(img1, img2, Δx, Δy; compfun = (x, y) -> (x - y)^2)\n",
    "#      # Calculate padding\n",
    "#     pad_top = max(Δy, 0)\n",
    "#     pad_bottom = max(-Δy, 0)\n",
    "#     pad_left = max(Δx, 0)\n",
    "#     pad_right = max(-Δx, 0)\n",
    "\n",
    "#     # Apply symmetric padding\n",
    "#     padded = padarray(img2, Pad(:symmetric, (pad_top, pad_bottom), (pad_left, pad_right)))\n",
    "\n",
    "#     # Circshift, then select the central part that matches the original dimensions of img1\n",
    "#     shifted = circshift(padded, (Δy, Δx))\n",
    "#     central_part = shifted[pad_top + 1:end - pad_bottom, pad_left + 1:end - pad_right]\n",
    "\n",
    "#     # Ensure the central part has the same dimensions as img1\n",
    "#     if size(central_part) != size(img1)\n",
    "#         error(\"Dimension mismatch: Expected $(size(img1)), got $(size(central_part))\")\n",
    "#     end\n",
    "\n",
    "#     # Compute the squared difference\n",
    "#     return compfun.(img1, central_part)\n",
    "#     # Calculate padding.\n",
    "#     # ...to be implemented: \n",
    "#     # Apply padding\n",
    "#     # ...to be implemented: \n",
    "#     # compare element-wise\n",
    "#     # ...to be implemented: \n",
    "#     # Select original image region from result.\n",
    "#     # We assume our result is anchored to img1\n",
    "#     # ...to be implemented: \n",
    "# end"
   ]
  },
  {
   "cell_type": "code",
   "execution_count": 157,
   "metadata": {},
   "outputs": [
    {
     "data": {
      "text/plain": [
       "paddedcomp (generic function with 1 method)"
      ]
     },
     "metadata": {},
     "output_type": "display_data"
    }
   ],
   "source": [
    "\n",
    "function paddedcomp(img1, img2, Δx, Δy; compfun = (x, y) -> (x - y)^2)\n",
    "    # Calculate padding, ensure to cover the full shift range\n",
    "    pad_top = max(Δy, 0)\n",
    "    pad_bottom = max(-Δy, 0)\n",
    "    pad_left = max(Δx, 0)\n",
    "    pad_right = max(-Δx, 0)\n",
    "\n",
    "    println(size(img2))\n",
    "\n",
    "    # Symmetric padding to handle boundaries\n",
    "    padded = padarray(img2, Pad(:symmetric, (pad_top, pad_bottom), (pad_left, pad_right)))\n",
    "    println(size(padded))\n",
    "    # Shift the padded image\n",
    "    shifted = circshift(padded, (Δy, Δx))\n",
    "    println(size(shifted))\n",
    "    println(size(img1))\n",
    "\n",
    "    # Compute the squared difference\n",
    "    return compfun.(img1, shifted)\n",
    "end\n"
   ]
  },
  {
   "attachments": {},
   "cell_type": "markdown",
   "metadata": {
    "slideshow": {
     "slide_type": "subslide"
    }
   },
   "source": [
    "- Perform comparison for every shift in a given range"
   ]
  },
  {
   "cell_type": "code",
   "execution_count": 158,
   "metadata": {},
   "outputs": [
    {
     "data": {
      "text/plain": [
       "shiftcompare (generic function with 1 method)"
      ]
     },
     "metadata": {},
     "output_type": "display_data"
    }
   ],
   "source": [
    "function shiftcompare(img1, img2, Δxs, Δys)\n",
    "    @assert size(img1) == size(img2) \"img1 and img2 must be of same size\"\n",
    "    # ...to be implemented:\n",
    "     # Initialize a container to hold the comparison results for each shift\n",
    "     results = Dict()\n",
    "\n",
    "     # Iterate over all specified Δx and Δy shifts\n",
    "     for Δy in Δys\n",
    "         for Δx in Δxs\n",
    "             # Use paddedcomp to perform the shift and comparison\n",
    "             comparison_result = paddedcomp(img1, img2, Δx, Δy)\n",
    " \n",
    "             # Store the result in a dictionary with the shift as the key\n",
    "             results[(Δx, Δy)] = comparison_result\n",
    "         end\n",
    "     end\n",
    " \n",
    "     return results \n",
    "end"
   ]
  },
  {
   "cell_type": "code",
   "execution_count": 159,
   "metadata": {
    "slideshow": {
     "slide_type": "subslide"
    }
   },
   "outputs": [
    {
     "name": "stdout",
     "output_type": "stream",
     "text": [
      "(100, 100)\n",
      "(100, 106)\n",
      "(100, 106)\n",
      "(100, 100)\n"
     ]
    },
    {
     "ename": "DimensionMismatch",
     "evalue": "DimensionMismatch: arrays could not be broadcast to a common size; got a dimension with lengths 100 and 106",
     "output_type": "error",
     "traceback": [
      "DimensionMismatch: arrays could not be broadcast to a common size; got a dimension with lengths 100 and 106\n",
      "\n",
      "Stacktrace:\n",
      "  [1] _bcs1\n",
      "    @ ./broadcast.jl:555 [inlined]\n",
      "  [2] _bcs\n",
      "    @ ./broadcast.jl:549 [inlined]\n",
      "  [3] _bcs(shape::Tuple{Base.OneTo{Int64}, Base.OneTo{Int64}}, newshape::Tuple{OffsetArrays.IdOffsetRange{Int64, Base.OneTo{Int64}}, OffsetArrays.IdOffsetRange{Int64, Base.OneTo{Int64}}})\n",
      "    @ Base.Broadcast ./broadcast.jl:549\n",
      "  [4] broadcast_shape\n",
      "    @ ./broadcast.jl:543 [inlined]\n",
      "  [5] combine_axes\n",
      "    @ ./broadcast.jl:524 [inlined]\n",
      "  [6] instantiate\n",
      "    @ ./broadcast.jl:306 [inlined]\n",
      "  [7] materialize(bc::Base.Broadcast.Broadcasted{Base.Broadcast.DefaultArrayStyle{2}, Nothing, var\"#190#192\", Tuple{Matrix{Float64}, OffsetArrays.OffsetMatrix{Float64, Matrix{Float64}}}})\n",
      "    @ Base.Broadcast ./broadcast.jl:903\n",
      "  [8] paddedcomp(img1::Matrix{Float64}, img2::Matrix{Float64}, Δx::Int64, Δy::Int64; compfun::Function)\n",
      "    @ Main ~/vision/Assignment 4/MyPkg-2/MyNB.ipynb:20\n",
      "  [9] paddedcomp\n",
      "    @ ~/vision/Assignment 4/MyPkg-2/MyNB.ipynb:2 [inlined]\n",
      " [10] shiftcompare(img1::Matrix{Float64}, img2::Matrix{Float64}, Δxs::UnitRange{Int64}, Δys::UnitRange{Int64})\n",
      "    @ Main ~/vision/Assignment 4/MyPkg-2/MyNB.ipynb:11\n",
      " [11] top-level scope\n",
      "    @ ~/vision/Assignment 4/MyPkg-2/MyNB.ipynb:1"
     ]
    }
   ],
   "source": [
    "comp = shiftcompare(img[1,:,:], img[2,:,:], -3:3, -3:3)\n",
    "stack4D(comp)"
   ]
  },
  {
   "attachments": {},
   "cell_type": "markdown",
   "metadata": {
    "slideshow": {
     "slide_type": "subslide"
    }
   },
   "source": [
    "### Local sum"
   ]
  },
  {
   "cell_type": "code",
   "execution_count": 148,
   "metadata": {},
   "outputs": [
    {
     "data": {
      "text/plain": [
       "localavg (generic function with 1 method)"
      ]
     },
     "metadata": {},
     "output_type": "display_data"
    }
   ],
   "source": [
    "function localavg(comps; ksize=(5,5))\n",
    "    # Create a kernel for averaging (uniform filter)\n",
    "    kernel = ones(ksize...) / prod(ksize)\n",
    "\n",
    "    # Apply the kernel to each comparison result\n",
    "    # Assuming comps is a dictionary with keys as (Δx, Δy) and values as matrices of squared differences\n",
    "    averaged_comps = Dict()\n",
    "    for (shift, comp) in comps\n",
    "        # Convolve the comparison matrix with the averaging kernel\n",
    "        averaged_comps[shift] = imfilter(comp, kernel, \"replicate\")  # Using \"replicate\" to handle borders\n",
    "    end\n",
    "    return averaged_comps# ...to be implemented: \n",
    "end"
   ]
  },
  {
   "cell_type": "code",
   "execution_count": 149,
   "metadata": {
    "slideshow": {
     "slide_type": "subslide"
    }
   },
   "outputs": [
    {
     "ename": "MethodError",
     "evalue": "MethodError: no method matching iterate(::Nothing)\n\nClosest candidates are:\n  iterate(!Matched::Base.MethodSpecializations)\n   @ Base reflection.jl:1148\n  iterate(!Matched::Base.MethodSpecializations, !Matched::Nothing)\n   @ Base reflection.jl:1154\n  iterate(!Matched::Base.MethodSpecializations, !Matched::Int64)\n   @ Base reflection.jl:1155\n  ...\n",
     "output_type": "error",
     "traceback": [
      "MethodError: no method matching iterate(::Nothing)\n",
      "\n",
      "Closest candidates are:\n",
      "  iterate(!Matched::Base.MethodSpecializations)\n",
      "   @ Base reflection.jl:1148\n",
      "  iterate(!Matched::Base.MethodSpecializations, !Matched::Nothing)\n",
      "   @ Base reflection.jl:1154\n",
      "  iterate(!Matched::Base.MethodSpecializations, !Matched::Int64)\n",
      "   @ Base reflection.jl:1155\n",
      "  ...\n",
      "\n",
      "\n",
      "Stacktrace:\n",
      " [1] localavg(comps::Nothing; ksize::Tuple{Int64, Int64})\n",
      "   @ Main ~/vision/Assignment 4/MyPkg-2/MyNB.ipynb:8\n",
      " [2] localavg(comps::Nothing)\n",
      "   @ Main ~/vision/Assignment 4/MyPkg-2/MyNB.ipynb:1\n",
      " [3] top-level scope\n",
      "   @ ~/vision/Assignment 4/MyPkg-2/MyNB.ipynb:1"
     ]
    }
   ],
   "source": [
    "avg = localavg(comp);\n",
    "stack4D(avg)"
   ]
  },
  {
   "attachments": {},
   "cell_type": "markdown",
   "metadata": {
    "slideshow": {
     "slide_type": "subslide"
    }
   },
   "source": [
    "### Finding motion directions"
   ]
  },
  {
   "attachments": {},
   "cell_type": "markdown",
   "metadata": {},
   "source": [
    "- Find **best** (minimum difference) direction in each location\n",
    "- Check whether optimum is unique"
   ]
  },
  {
   "cell_type": "code",
   "execution_count": 145,
   "metadata": {},
   "outputs": [
    {
     "data": {
      "text/plain": [
       "uniqueminima (generic function with 1 method)"
      ]
     },
     "metadata": {},
     "output_type": "display_data"
    }
   ],
   "source": [
    "function uniqueminima(motions, Δxs, Δys)\n",
    "    # ...to be implemented: \n",
    "    return(xs, ys, Δxₘₐₓ, Δyₘₐₓ)\n",
    "end"
   ]
  },
  {
   "attachments": {},
   "cell_type": "markdown",
   "metadata": {
    "slideshow": {
     "slide_type": "subslide"
    }
   },
   "source": [
    "### Displaying the results"
   ]
  },
  {
   "attachments": {},
   "cell_type": "markdown",
   "metadata": {},
   "source": [
    "- Our `uniqueminima` function returns the results in the correct format for a quiver plot"
   ]
  },
  {
   "cell_type": "code",
   "execution_count": 146,
   "metadata": {},
   "outputs": [
    {
     "ename": "UndefVarError",
     "evalue": "UndefVarError: `xs` not defined",
     "output_type": "error",
     "traceback": [
      "UndefVarError: `xs` not defined\n",
      "\n",
      "Stacktrace:\n",
      " [1] uniqueminima(motions::Nothing, Δxs::UnitRange{Int64}, Δys::UnitRange{Int64})\n",
      "   @ Main ~/vision/Assignment 4/MyPkg-2/MyNB.ipynb:3\n",
      " [2] top-level scope\n",
      "   @ ~/vision/Assignment 4/MyPkg-2/MyNB.ipynb:1"
     ]
    }
   ],
   "source": [
    "xs, ys, Δx, Δy = uniqueminima(avg, -3:3, -3:3);"
   ]
  },
  {
   "cell_type": "code",
   "execution_count": 147,
   "metadata": {},
   "outputs": [
    {
     "ename": "UndefVarError",
     "evalue": "UndefVarError: `xs` not defined",
     "output_type": "error",
     "traceback": [
      "UndefVarError: `xs` not defined\n",
      "\n",
      "Stacktrace:\n",
      " [1] top-level scope\n",
      "   @ ~/vision/Assignment 4/MyPkg-2/MyNB.ipynb:1"
     ]
    }
   ],
   "source": [
    "quiver(ys, 100 .- xs, quiver=(Δy, -Δx))"
   ]
  }
 ],
 "metadata": {
  "@webio": {
   "lastCommId": null,
   "lastKernelId": null
  },
  "celltoolbar": "Slideshow",
  "kernelspec": {
   "display_name": "Julia 1.10.3",
   "language": "julia",
   "name": "julia-1.10"
  },
  "language_info": {
   "file_extension": ".jl",
   "mimetype": "application/julia",
   "name": "julia",
   "version": "1.10.3"
  },
  "rise": {
   "auto_select": "code",
   "scroll": true,
   "theme": "uulm"
  }
 },
 "nbformat": 4,
 "nbformat_minor": 4
}
