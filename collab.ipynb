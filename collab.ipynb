{
 "cells": [
  {
   "attachments": {},
   "cell_type": "markdown",
   "metadata": {
    "slideshow": {
     "slide_type": "slide"
    }
   },
   "source": [
    "# Homework 2"
   ]
  },
  {
   "cell_type": "code",
   "execution_count": 1,
   "metadata": {},
   "outputs": [
    {
     "name": "stderr",
     "output_type": "stream",
     "text": [
      "\u001b[32m\u001b[1m  Activating\u001b[22m\u001b[39m project at `c:\\Users\\macca\\JULIA\\Assignment2\\MyPkg\\vision`\n",
      "\u001b[32m\u001b[1mPrecompiling\u001b[22m\u001b[39m project...\n",
      "┌ Warning: attempting to remove probably stale pidfile\n",
      "│   path = C:\\Users\\macca\\.julia\\compiled\\v1.10\\Plots\\ld3vC_70wMv.ji.pidfile\n",
      "└ @ FileWatching.Pidfile C:\\Users\\macca\\AppData\\Local\\Programs\\Julia-1.10.3\\share\\julia\\stdlib\\v1.10\\FileWatching\\src\\pidfile.jl:244\n",
      "\u001b[32m  ✓ \u001b[39mPlots\n",
      "\u001b[32m  ✓ \u001b[39m\u001b[90mPlots → FileIOExt\u001b[39m\n",
      "\u001b[32m  ✓ \u001b[39m\u001b[90mPlots → UnitfulExt\u001b[39m\n",
      "  3 dependencies successfully precompiled in 111 seconds. 264 already precompiled.\n"
     ]
    }
   ],
   "source": [
    "# use Julia's packae managing module to activate your current environment\n",
    "using Pkg\n",
    "Pkg.activate(\".\")\n",
    "Pkg.instantiate()"
   ]
  },
  {
   "attachments": {},
   "cell_type": "markdown",
   "metadata": {
    "slideshow": {
     "slide_type": "subslide"
    }
   },
   "source": [
    "Objective:\n",
    "\n",
    "- investigate normalization\n",
    "- model LGN as a center-surround filter with normalization\n",
    "- look at effect in image processing"
   ]
  },
  {
   "cell_type": "code",
   "execution_count": 2,
   "metadata": {
    "slideshow": {
     "slide_type": "subslide"
    }
   },
   "outputs": [
    {
     "name": "stderr",
     "output_type": "stream",
     "text": [
      "\u001b[32m\u001b[1m    Updating\u001b[22m\u001b[39m registry at `C:\\Users\\macca\\.julia\\registries\\General.toml`\n",
      "\u001b[32m\u001b[1m   Resolving\u001b[22m\u001b[39m package versions...\n",
      "\u001b[32m\u001b[1m  No Changes\u001b[22m\u001b[39m to `C:\\Users\\macca\\JULIA\\Assignment2\\MyPkg\\vision\\Project.toml`\n",
      "\u001b[32m\u001b[1m  No Changes\u001b[22m\u001b[39m to `C:\\Users\\macca\\JULIA\\Assignment2\\MyPkg\\vision\\Manifest.toml`\n",
      "\u001b[32m\u001b[1m   Resolving\u001b[22m\u001b[39m package versions...\n",
      "\u001b[32m\u001b[1m  No Changes\u001b[22m\u001b[39m to `C:\\Users\\macca\\JULIA\\Assignment2\\MyPkg\\vision\\Project.toml`\n",
      "\u001b[32m\u001b[1m  No Changes\u001b[22m\u001b[39m to `C:\\Users\\macca\\JULIA\\Assignment2\\MyPkg\\vision\\Manifest.toml`\n",
      "\u001b[32m\u001b[1m   Resolving\u001b[22m\u001b[39m package versions...\n",
      "\u001b[32m\u001b[1m  No Changes\u001b[22m\u001b[39m to `C:\\Users\\macca\\JULIA\\Assignment2\\MyPkg\\vision\\Project.toml`\n",
      "\u001b[32m\u001b[1m  No Changes\u001b[22m\u001b[39m to `C:\\Users\\macca\\JULIA\\Assignment2\\MyPkg\\vision\\Manifest.toml`\n"
     ]
    }
   ],
   "source": [
    "# telling Julia to load modules that we need for our code, which have been specified as dependencies for our current package\n",
    "Pkg.add(\"Images\")\n",
    "Pkg.add(\"ImageFiltering\")\n",
    "Pkg.add(\"Plots\")\n",
    "using Images, ImageFiltering\n",
    "using TestImages\n",
    "using Statistics\n",
    "using Plots\n"
   ]
  },
  {
   "cell_type": "code",
   "execution_count": 3,
   "metadata": {
    "slideshow": {
     "slide_type": "fragment"
    }
   },
   "outputs": [],
   "source": [
    "# load the additional Utils module provided with the exercise\n",
    "include(\"material/utils.jl\")\n",
    "using .Utils"
   ]
  },
  {
   "cell_type": "markdown",
   "metadata": {},
   "source": [
    "Hello!"
   ]
  },
  {
   "attachments": {},
   "cell_type": "markdown",
   "metadata": {
    "slideshow": {
     "slide_type": "slide"
    }
   },
   "source": [
    "## LGN Model"
   ]
  },
  {
   "attachments": {},
   "cell_type": "markdown",
   "metadata": {},
   "source": [
    "- Model from Bonin, Mante & Carandini (2005), Journal of Neuroscience 25(47), 10844-10856.\n",
    "- Hints: \n",
    "    - Check the paper for model parameters\n",
    "    - Check the provided `utils.jl` for additional, helpful implementations\n",
    "    - Dependent on your implementation, Julia's `mapwindow` function might be helpful for computing the summation part of `c_local`, or `imfilter` might be easier"
   ]
  },
  {
   "cell_type": "code",
   "execution_count": 5,
   "metadata": {
    "slideshow": {
     "slide_type": "subslide"
    }
   },
   "outputs": [
    {
     "data": {
      "text/plain": [
       "lgn (generic function with 1 method)"
      ]
     },
     "metadata": {},
     "output_type": "display_data"
    }
   ],
   "source": [
    "# ...to be implemented:\n",
    "function lgn(stimulus; standard_cell)\n",
    "    r_f = customDoG(standard_cell[:σᶜᵉⁿ,:σˢʳᵈ,:kˢʳᵈ]) #Calculates Receptive Field as a DoG\n",
    "    l = imfilter(stimulus,r_f) #Applies DoG to stimulus\n",
    "    f_b = customDoG(standard_cell[:σᵘ, :σᵈ, :kᵈ]) #Calculates Filterbanks as DoG\n",
    "    s_prime = imfilter(stimulus, f_b) #Applies DoG to Stimulus\n",
    "    g_sf = kernel.Gaussian(standard_cell[:σˢᶠ]) #Used as a Gaussian window for the sum\n",
    "    c_local = sqrt.(sum((s_prime^2).*g_sf)) #nonlinear operation for local contrast\n",
    "    v = vᵐᵃˣ * (l./(standard_cell[:c⁵⁰] + c_local)) #calculation of first output\n",
    "    r = maximum(v - standard_cell[:v⁰]) # rectification respect to threshold\n",
    "    r_norm = normalize(r) #normalization\n",
    "    return r_norm     \n",
    "end"
   ]
  },
  {
   "attachments": {},
   "cell_type": "markdown",
   "metadata": {
    "slideshow": {
     "slide_type": "subslide"
    }
   },
   "source": [
    "- Use of keyword arguments to make model easily parametrizable\n",
    "- Large number of keyword arguments can be passed with a dictionary"
   ]
  },
  {
   "cell_type": "code",
   "execution_count": 8,
   "metadata": {},
   "outputs": [
    {
     "data": {
      "text/plain": [
       "0.5"
      ]
     },
     "metadata": {},
     "output_type": "display_data"
    }
   ],
   "source": [
    "# ...to be implemented: \n",
    "standard_cell = Dict([\n",
    "    :vᵐᵃˣ => 212\n",
    "    :v⁰ => -7.8\n",
    "    :σᶜᵉⁿ => 0.5\n",
    "    :σˢʳᵈ => 1.5\n",
    "    :kˢʳᵈ => 0.9\n",
    "    :σˢᶠ => 1.4\n",
    "    :c⁵⁰ => 0.1\n",
    "    :σᵘ => 0.3\n",
    "    :σᵈ => 0.5\n",
    "    :kᵈ => 0.5\n",
    "])\n",
    "\n"
   ]
  },
  {
   "attachments": {},
   "cell_type": "markdown",
   "metadata": {
    "slideshow": {
     "slide_type": "slide"
    }
   },
   "source": [
    "## Testing the model"
   ]
  },
  {
   "attachments": {},
   "cell_type": "markdown",
   "metadata": {
    "slideshow": {
     "slide_type": "subslide"
    }
   },
   "source": [
    "- As in the original paper, test the model with sine gratings\n",
    "- Use `stimulus()` function from `utils.jl` to generate stimuli\n",
    "- Original paper used moving stimuli; we will just use maximum response over stationary stimulus"
   ]
  },
  {
   "cell_type": "code",
   "execution_count": 11,
   "metadata": {},
   "outputs": [
    {
     "data": {
      "image/png": "[encoded data removed]",
      "text/html": [
       "<img src=\"data:image/png;base64,iVBORw0KGgoAAAANSUhEUgAAAMkAAADJCAAAAACsrUnZAAAABGdBTUEAALGPC/xhBQAAAAFzUkdCAK7OHOkAAAAgY0hSTQAAeiYAAICEAAD6AAAAgOgAAHUwAADqYAAAOpgAABdwnLpRPAAAA2FJREFUeAHdwTtI3XcYgOHX+taWFEnSBEIl0FBwyFAQmjFgp+KSJYMEspolu0sy65LdpVkFydDFpWRKoKNCIINDFwMlRYiXVGsTiVpz93LO8X+OR8/v+55HspCTcG7Ht2fPnj19urf3m1M/cBzk5P39Vc+XdtNm0iFbXdtbb76mfaSTVl+/+q+f9pBOe7K2NkQbSAEevFwZ5aikDHeXJzgaKcWNpcVZjkAKcmlxlZZJq/pebFASac3g0iJlkVaMLC1SGmne+PIy5ZFmTb5coUTSpOl/KJM0ZWZtlUJJM+b+pVhS3cKrdcolla28pmRS0cabDYom1WxuUjipZHuL0kkV25RPKtgkADnUukQgh1khBjnEAkFIY8+IQhqaIwxpZIY4pIFHBCL1TROJ1DVJKFLPBLFIFlLHOMFIbaNEIzWNEI7Ucp14pIZBApIs5KAfiUgO6CMkyUL26yEmCap3lb0kC4nq0jx7SFg/zbKbZCFx/fKQXSQLCezGFJ9JFhLZ7Qk+kSwktLtjfCRZSGz3RvlAspDgfr3Fe5KFZCHRPRjmHclCwvt9iLckC8lC4vvjKjskC8lCEngyAEgWkoVkIRn82Q+ShWQhWUgWksJfF5EsJAvJQrKQHF6clywkC8lCspAsJAvJQrKQLCQLyUKykCwkiVVJoleykCwkC8lCspAsJAvJQrKQLCQLyUKykBzOI1lIFpKFZCEpXATJQrKQLCQLyaAfkCwkC8lCEhhgh2QhWUh8V3lLspAsJLwh3pEsJLph3pMsJAsJ7hYfSBYS2ygfSRYS2hifSBYS2QSfSRYS2BS7SBYS10N2kywkrFn2kKjm2UuykKBW2Uf22yAmyUIOeH6OiOSgp4MEJFlIDY+vE4/U8tsI4UhN90eJRmq7N04wUsedCWKRLKSe25OEInXdnCYSqe/aIwKRBn6eIQ5p5MocYUhDl58RhTT2/QJByCEurBCDHObMOiHIoU6xSQBSQfc25ZMqurYpnlTStUnppJruDQonFfWwQtGksjMLlEyqu8Ac5ZJmXJ6hWNKUK0xTKGnStUnKJM26yTglkubdYYTySCvuM0hppDWP6aMs0qrnlEUKMs8RSCmmOBopwxhHJQUYpg2k0wZoD+mkXtpHOuQL2kxO3nccBzkJi4scu/8BKpSBIvBOktsAAAAASUVORK5C\">"
      ],
      "text/plain": [
       "201×201 Array{Gray{Float64},2} with eltype Gray{Float64}:\n",
       " Gray{Float64}(-0.0)  Gray{Float64}(-0.0)  …  Gray{Float64}(0.0)\n",
       " Gray{Float64}(-0.0)  Gray{Float64}(-0.0)     Gray{Float64}(0.0)\n",
       " Gray{Float64}(-0.0)  Gray{Float64}(-0.0)     Gray{Float64}(0.0)\n",
       " Gray{Float64}(-0.0)  Gray{Float64}(-0.0)     Gray{Float64}(0.0)\n",
       " Gray{Float64}(-0.0)  Gray{Float64}(-0.0)     Gray{Float64}(0.0)\n",
       " Gray{Float64}(-0.0)  Gray{Float64}(-0.0)  …  Gray{Float64}(0.0)\n",
       " Gray{Float64}(-0.0)  Gray{Float64}(-0.0)     Gray{Float64}(0.0)\n",
       " Gray{Float64}(-0.0)  Gray{Float64}(-0.0)     Gray{Float64}(0.0)\n",
       " Gray{Float64}(-0.0)  Gray{Float64}(-0.0)     Gray{Float64}(0.0)\n",
       " Gray{Float64}(-0.0)  Gray{Float64}(-0.0)     Gray{Float64}(0.0)\n",
       " ⋮                                         ⋱  ⋮\n",
       " Gray{Float64}(-0.0)  Gray{Float64}(-0.0)     Gray{Float64}(0.0)\n",
       " Gray{Float64}(-0.0)  Gray{Float64}(-0.0)     Gray{Float64}(0.0)\n",
       " Gray{Float64}(-0.0)  Gray{Float64}(-0.0)     Gray{Float64}(0.0)\n",
       " Gray{Float64}(-0.0)  Gray{Float64}(-0.0)  …  Gray{Float64}(0.0)\n",
       " Gray{Float64}(-0.0)  Gray{Float64}(-0.0)     Gray{Float64}(0.0)\n",
       " Gray{Float64}(-0.0)  Gray{Float64}(-0.0)     Gray{Float64}(0.0)\n",
       " Gray{Float64}(-0.0)  Gray{Float64}(-0.0)     Gray{Float64}(0.0)\n",
       " Gray{Float64}(-0.0)  Gray{Float64}(-0.0)     Gray{Float64}(0.0)\n",
       " Gray{Float64}(-0.0)  Gray{Float64}(-0.0)  …  Gray{Float64}(0.0)"
      ]
     },
     "metadata": {},
     "output_type": "display_data"
    }
   ],
   "source": [
    "# ...to be implemented (optional): visualize the stimulus\n",
    "ppd = Utils.ppd\n",
    "st_1 = Utils.stimulus(;imsize=200, radius=10.0*ppd, θ=0.24/ppd)\n",
    "Gray.(st_1)"
   ]
  },
  {
   "cell_type": "code",
   "execution_count": 12,
   "metadata": {},
   "outputs": [
    {
     "data": {
      "image/png": "[encoded data removed]",
      "image/svg+xml": [
       "<?xml version=\"1.0\" encoding=\"utf-8\"?>\n",
       "<svg xmlns=\"http://www.w3.org/2000/svg\" xmlns:xlink=\"http://www.w3.org/1999/xlink\" width=\"600\" height=\"400\" viewBox=\"0 0 2400 1600\">\n",
       "<defs>\n",
       "  <clipPath id=\"clip330\">\n",
       "    <rect x=\"0\" y=\"0\" width=\"2400\" height=\"1600\"/>\n",
       "  </clipPath>\n",
       "</defs>\n",
       "<path clip-path=\"url(#clip330)\" d=\"M0 1600 L2400 1600 L2400 0 L0 0  Z\" fill=\"#ffffff\" fill-rule=\"evenodd\" fill-opacity=\"1\"/>\n",
       "<defs>\n",
       "  <clipPath id=\"clip331\">\n",
       "    <rect x=\"480\" y=\"0\" width=\"1681\" height=\"1600\"/>\n",
       "  </clipPath>\n",
       "</defs>\n",
       "<path clip-path=\"url(#clip330)\" d=\"M193.936 1486.45 L2352.76 1486.45 L2352.76 47.2441 L193.936 47.2441  Z\" fill=\"#ffffff\" fill-rule=\"evenodd\" fill-opacity=\"1\"/>\n",
       "<defs>\n",
       "  <clipPath id=\"clip332\">\n",
       "    <rect x=\"193\" y=\"47\" width=\"2160\" height=\"1440\"/>\n",
       "  </clipPath>\n",
       "</defs>\n",
       "<polyline clip-path=\"url(#clip332)\" style=\"stroke:#000000; stroke-linecap:round; stroke-linejoin:round; stroke-width:2; stroke-opacity:0.1; fill:none\" points=\"244.852,1486.45 244.852,47.2441 \"/>\n",
       "<polyline clip-path=\"url(#clip332)\" style=\"stroke:#000000; stroke-linecap:round; stroke-linejoin:round; stroke-width:2; stroke-opacity:0.1; fill:none\" points=\"754.007,1486.45 754.007,47.2441 \"/>\n",
       "<polyline clip-path=\"url(#clip332)\" style=\"stroke:#000000; stroke-linecap:round; stroke-linejoin:round; stroke-width:2; stroke-opacity:0.1; fill:none\" points=\"1263.16,1486.45 1263.16,47.2441 \"/>\n",
       "<polyline clip-path=\"url(#clip332)\" style=\"stroke:#000000; stroke-linecap:round; stroke-linejoin:round; stroke-width:2; stroke-opacity:0.1; fill:none\" points=\"1772.32,1486.45 1772.32,47.2441 \"/>\n",
       "<polyline clip-path=\"url(#clip332)\" style=\"stroke:#000000; stroke-linecap:round; stroke-linejoin:round; stroke-width:2; stroke-opacity:0.1; fill:none\" points=\"2281.47,1486.45 2281.47,47.2441 \"/>\n",
       "<polyline clip-path=\"url(#clip330)\" style=\"stroke:#000000; stroke-linecap:round; stroke-linejoin:round; stroke-width:4; stroke-opacity:1; fill:none\" points=\"193.936,1486.45 2352.76,1486.45 \"/>\n",
       "<polyline clip-path=\"url(#clip330)\" style=\"stroke:#000000; stroke-linecap:round; stroke-linejoin:round; stroke-width:4; stroke-opacity:1; fill:none\" points=\"244.852,1486.45 244.852,1467.55 \"/>\n",
       "<polyline clip-path=\"url(#clip330)\" style=\"stroke:#000000; stroke-linecap:round; stroke-linejoin:round; stroke-width:4; stroke-opacity:1; fill:none\" points=\"754.007,1486.45 754.007,1467.55 \"/>\n",
       "<polyline clip-path=\"url(#clip330)\" style=\"stroke:#000000; stroke-linecap:round; stroke-linejoin:round; stroke-width:4; stroke-opacity:1; fill:none\" points=\"1263.16,1486.45 1263.16,1467.55 \"/>\n",
       "<polyline clip-path=\"url(#clip330)\" style=\"stroke:#000000; stroke-linecap:round; stroke-linejoin:round; stroke-width:4; stroke-opacity:1; fill:none\" points=\"1772.32,1486.45 1772.32,1467.55 \"/>\n",
       "<polyline clip-path=\"url(#clip330)\" style=\"stroke:#000000; stroke-linecap:round; stroke-linejoin:round; stroke-width:4; stroke-opacity:1; fill:none\" points=\"2281.47,1486.45 2281.47,1467.55 \"/>\n",
       "<path clip-path=\"url(#clip330)\" d=\"M244.852 1517.37 Q241.24 1517.37 239.412 1520.93 Q237.606 1524.47 237.606 1531.6 Q237.606 1538.71 239.412 1542.27 Q241.24 1545.82 244.852 1545.82 Q248.486 1545.82 250.291 1542.27 Q252.12 1538.71 252.12 1531.6 Q252.12 1524.47 250.291 1520.93 Q248.486 1517.37 244.852 1517.37 M244.852 1513.66 Q250.662 1513.66 253.717 1518.27 Q256.796 1522.85 256.796 1531.6 Q256.796 1540.33 253.717 1544.94 Q250.662 1549.52 244.852 1549.52 Q239.041 1549.52 235.963 1544.94 Q232.907 1540.33 232.907 1531.6 Q232.907 1522.85 235.963 1518.27 Q239.041 1513.66 244.852 1513.66 Z\" fill=\"#000000\" fill-rule=\"nonzero\" fill-opacity=\"1\" /><path clip-path=\"url(#clip330)\" d=\"M728.706 1514.29 L747.063 1514.29 L747.063 1518.22 L732.989 1518.22 L732.989 1526.7 Q734.007 1526.35 735.026 1526.19 Q736.044 1526 737.063 1526 Q742.85 1526 746.229 1529.17 Q749.609 1532.34 749.609 1537.76 Q749.609 1543.34 746.137 1546.44 Q742.665 1549.52 736.345 1549.52 Q734.169 1549.52 731.901 1549.15 Q729.655 1548.78 727.248 1548.04 L727.248 1543.34 Q729.331 1544.47 731.554 1545.03 Q733.776 1545.58 736.253 1545.58 Q740.257 1545.58 742.595 1543.48 Q744.933 1541.37 744.933 1537.76 Q744.933 1534.15 742.595 1532.04 Q740.257 1529.94 736.253 1529.94 Q734.378 1529.94 732.503 1530.35 Q730.651 1530.77 728.706 1531.65 L728.706 1514.29 Z\" fill=\"#000000\" fill-rule=\"nonzero\" fill-opacity=\"1\" /><path clip-path=\"url(#clip330)\" d=\"M768.822 1517.37 Q765.211 1517.37 763.382 1520.93 Q761.577 1524.47 761.577 1531.6 Q761.577 1538.71 763.382 1542.27 Q765.211 1545.82 768.822 1545.82 Q772.456 1545.82 774.262 1542.27 Q776.09 1538.71 776.09 1531.6 Q776.09 1524.47 774.262 1520.93 Q772.456 1517.37 768.822 1517.37 M768.822 1513.66 Q774.632 1513.66 777.688 1518.27 Q780.766 1522.85 780.766 1531.6 Q780.766 1540.33 777.688 1544.94 Q774.632 1549.52 768.822 1549.52 Q763.012 1549.52 759.933 1544.94 Q756.878 1540.33 756.878 1531.6 Q756.878 1522.85 759.933 1518.27 Q763.012 1513.66 768.822 1513.66 Z\" fill=\"#000000\" fill-rule=\"nonzero\" fill-opacity=\"1\" /><path clip-path=\"url(#clip330)\" d=\"M1222.77 1544.91 L1230.41 1544.91 L1230.41 1518.55 L1222.1 1520.21 L1222.1 1515.95 L1230.36 1514.29 L1235.04 1514.29 L1235.04 1544.91 L1242.68 1544.91 L1242.68 1548.85 L1222.77 1548.85 L1222.77 1544.91 Z\" fill=\"#000000\" fill-rule=\"nonzero\" fill-opacity=\"1\" /><path clip-path=\"url(#clip330)\" d=\"M1262.12 1517.37 Q1258.51 1517.37 1256.68 1520.93 Q1254.88 1524.47 1254.88 1531.6 Q1254.88 1538.71 1256.68 1542.27 Q1258.51 1545.82 1262.12 1545.82 Q1265.76 1545.82 1267.56 1542.27 Q1269.39 1538.71 1269.39 1531.6 Q1269.39 1524.47 1267.56 1520.93 Q1265.76 1517.37 1262.12 1517.37 M1262.12 1513.66 Q1267.93 1513.66 1270.99 1518.27 Q1274.07 1522.85 1274.07 1531.6 Q1274.07 1540.33 1270.99 1544.94 Q1267.93 1549.52 1262.12 1549.52 Q1256.31 1549.52 1253.23 1544.94 Q1250.18 1540.33 1250.18 1531.6 Q1250.18 1522.85 1253.23 1518.27 Q1256.31 1513.66 1262.12 1513.66 Z\" fill=\"#000000\" fill-rule=\"nonzero\" fill-opacity=\"1\" /><path clip-path=\"url(#clip330)\" d=\"M1292.28 1517.37 Q1288.67 1517.37 1286.84 1520.93 Q1285.04 1524.47 1285.04 1531.6 Q1285.04 1538.71 1286.84 1542.27 Q1288.67 1545.82 1292.28 1545.82 Q1295.92 1545.82 1297.72 1542.27 Q1299.55 1538.71 1299.55 1531.6 Q1299.55 1524.47 1297.72 1520.93 Q1295.92 1517.37 1292.28 1517.37 M1292.28 1513.66 Q1298.09 1513.66 1301.15 1518.27 Q1304.23 1522.85 1304.23 1531.6 Q1304.23 1540.33 1301.15 1544.94 Q1298.09 1549.52 1292.28 1549.52 Q1286.47 1549.52 1283.39 1544.94 Q1280.34 1540.33 1280.34 1531.6 Q1280.34 1522.85 1283.39 1518.27 Q1286.47 1513.66 1292.28 1513.66 Z\" fill=\"#000000\" fill-rule=\"nonzero\" fill-opacity=\"1\" /><path clip-path=\"url(#clip330)\" d=\"M1731.93 1544.91 L1739.56 1544.91 L1739.56 1518.55 L1731.25 1520.21 L1731.25 1515.95 L1739.52 1514.29 L1744.19 1514.29 L1744.19 1544.91 L1751.83 1544.91 L1751.83 1548.85 L1731.93 1548.85 L1731.93 1544.91 Z\" fill=\"#000000\" fill-rule=\"nonzero\" fill-opacity=\"1\" /><path clip-path=\"url(#clip330)\" d=\"M1761.32 1514.29 L1779.68 1514.29 L1779.68 1518.22 L1765.61 1518.22 L1765.61 1526.7 Q1766.62 1526.35 1767.64 1526.19 Q1768.66 1526 1769.68 1526 Q1775.47 1526 1778.85 1529.17 Q1782.23 1532.34 1782.23 1537.76 Q1782.23 1543.34 1778.75 1546.44 Q1775.28 1549.52 1768.96 1549.52 Q1766.79 1549.52 1764.52 1549.15 Q1762.27 1548.78 1759.86 1548.04 L1759.86 1543.34 Q1761.95 1544.47 1764.17 1545.03 Q1766.39 1545.58 1768.87 1545.58 Q1772.87 1545.58 1775.21 1543.48 Q1777.55 1541.37 1777.55 1537.76 Q1777.55 1534.15 1775.21 1532.04 Q1772.87 1529.94 1768.87 1529.94 Q1766.99 1529.94 1765.12 1530.35 Q1763.27 1530.77 1761.32 1531.65 L1761.32 1514.29 Z\" fill=\"#000000\" fill-rule=\"nonzero\" fill-opacity=\"1\" /><path clip-path=\"url(#clip330)\" d=\"M1801.44 1517.37 Q1797.83 1517.37 1796 1520.93 Q1794.19 1524.47 1794.19 1531.6 Q1794.19 1538.71 1796 1542.27 Q1797.83 1545.82 1801.44 1545.82 Q1805.07 1545.82 1806.88 1542.27 Q1808.71 1538.71 1808.71 1531.6 Q1808.71 1524.47 1806.88 1520.93 Q1805.07 1517.37 1801.44 1517.37 M1801.44 1513.66 Q1807.25 1513.66 1810.3 1518.27 Q1813.38 1522.85 1813.38 1531.6 Q1813.38 1540.33 1810.3 1544.94 Q1807.25 1549.52 1801.44 1549.52 Q1795.63 1549.52 1792.55 1544.94 Q1789.49 1540.33 1789.49 1531.6 Q1789.49 1522.85 1792.55 1518.27 Q1795.63 1513.66 1801.44 1513.66 Z\" fill=\"#000000\" fill-rule=\"nonzero\" fill-opacity=\"1\" /><path clip-path=\"url(#clip330)\" d=\"M2245.17 1544.91 L2261.49 1544.91 L2261.49 1548.85 L2239.54 1548.85 L2239.54 1544.91 Q2242.2 1542.16 2246.79 1537.53 Q2251.39 1532.88 2252.57 1531.53 Q2254.82 1529.01 2255.7 1527.27 Q2256.6 1525.51 2256.6 1523.82 Q2256.6 1521.07 2254.66 1519.33 Q2252.74 1517.6 2249.63 1517.6 Q2247.43 1517.6 2244.98 1518.36 Q2242.55 1519.13 2239.77 1520.68 L2239.77 1515.95 Q2242.6 1514.82 2245.05 1514.24 Q2247.5 1513.66 2249.54 1513.66 Q2254.91 1513.66 2258.11 1516.35 Q2261.3 1519.03 2261.3 1523.52 Q2261.3 1525.65 2260.49 1527.57 Q2259.7 1529.47 2257.6 1532.07 Q2257.02 1532.74 2253.92 1535.95 Q2250.81 1539.15 2245.17 1544.91 Z\" fill=\"#000000\" fill-rule=\"nonzero\" fill-opacity=\"1\" /><path clip-path=\"url(#clip330)\" d=\"M2281.3 1517.37 Q2277.69 1517.37 2275.86 1520.93 Q2274.06 1524.47 2274.06 1531.6 Q2274.06 1538.71 2275.86 1542.27 Q2277.69 1545.82 2281.3 1545.82 Q2284.93 1545.82 2286.74 1542.27 Q2288.57 1538.71 2288.57 1531.6 Q2288.57 1524.47 2286.74 1520.93 Q2284.93 1517.37 2281.3 1517.37 M2281.3 1513.66 Q2287.11 1513.66 2290.17 1518.27 Q2293.24 1522.85 2293.24 1531.6 Q2293.24 1540.33 2290.17 1544.94 Q2287.11 1549.52 2281.3 1549.52 Q2275.49 1549.52 2272.41 1544.94 Q2269.36 1540.33 2269.36 1531.6 Q2269.36 1522.85 2272.41 1518.27 Q2275.49 1513.66 2281.3 1513.66 Z\" fill=\"#000000\" fill-rule=\"nonzero\" fill-opacity=\"1\" /><path clip-path=\"url(#clip330)\" d=\"M2311.46 1517.37 Q2307.85 1517.37 2306.02 1520.93 Q2304.22 1524.47 2304.22 1531.6 Q2304.22 1538.71 2306.02 1542.27 Q2307.85 1545.82 2311.46 1545.82 Q2315.1 1545.82 2316.9 1542.27 Q2318.73 1538.71 2318.73 1531.6 Q2318.73 1524.47 2316.9 1520.93 Q2315.1 1517.37 2311.46 1517.37 M2311.46 1513.66 Q2317.27 1513.66 2320.33 1518.27 Q2323.41 1522.85 2323.41 1531.6 Q2323.41 1540.33 2320.33 1544.94 Q2317.27 1549.52 2311.46 1549.52 Q2305.65 1549.52 2302.57 1544.94 Q2299.52 1540.33 2299.52 1531.6 Q2299.52 1522.85 2302.57 1518.27 Q2305.65 1513.66 2311.46 1513.66 Z\" fill=\"#000000\" fill-rule=\"nonzero\" fill-opacity=\"1\" /><polyline clip-path=\"url(#clip332)\" style=\"stroke:#000000; stroke-linecap:round; stroke-linejoin:round; stroke-width:2; stroke-opacity:0.1; fill:none\" points=\"193.936,1445.77 2352.76,1445.77 \"/>\n",
       "<polyline clip-path=\"url(#clip332)\" style=\"stroke:#000000; stroke-linecap:round; stroke-linejoin:round; stroke-width:2; stroke-opacity:0.1; fill:none\" points=\"193.936,1106.31 2352.76,1106.31 \"/>\n",
       "<polyline clip-path=\"url(#clip332)\" style=\"stroke:#000000; stroke-linecap:round; stroke-linejoin:round; stroke-width:2; stroke-opacity:0.1; fill:none\" points=\"193.936,766.846 2352.76,766.846 \"/>\n",
       "<polyline clip-path=\"url(#clip332)\" style=\"stroke:#000000; stroke-linecap:round; stroke-linejoin:round; stroke-width:2; stroke-opacity:0.1; fill:none\" points=\"193.936,427.384 2352.76,427.384 \"/>\n",
       "<polyline clip-path=\"url(#clip332)\" style=\"stroke:#000000; stroke-linecap:round; stroke-linejoin:round; stroke-width:2; stroke-opacity:0.1; fill:none\" points=\"193.936,87.9227 2352.76,87.9227 \"/>\n",
       "<polyline clip-path=\"url(#clip330)\" style=\"stroke:#000000; stroke-linecap:round; stroke-linejoin:round; stroke-width:4; stroke-opacity:1; fill:none\" points=\"193.936,1486.45 193.936,47.2441 \"/>\n",
       "<polyline clip-path=\"url(#clip330)\" style=\"stroke:#000000; stroke-linecap:round; stroke-linejoin:round; stroke-width:4; stroke-opacity:1; fill:none\" points=\"193.936,1445.77 212.834,1445.77 \"/>\n",
       "<polyline clip-path=\"url(#clip330)\" style=\"stroke:#000000; stroke-linecap:round; stroke-linejoin:round; stroke-width:4; stroke-opacity:1; fill:none\" points=\"193.936,1106.31 212.834,1106.31 \"/>\n",
       "<polyline clip-path=\"url(#clip330)\" style=\"stroke:#000000; stroke-linecap:round; stroke-linejoin:round; stroke-width:4; stroke-opacity:1; fill:none\" points=\"193.936,766.846 212.834,766.846 \"/>\n",
       "<polyline clip-path=\"url(#clip330)\" style=\"stroke:#000000; stroke-linecap:round; stroke-linejoin:round; stroke-width:4; stroke-opacity:1; fill:none\" points=\"193.936,427.384 212.834,427.384 \"/>\n",
       "<polyline clip-path=\"url(#clip330)\" style=\"stroke:#000000; stroke-linecap:round; stroke-linejoin:round; stroke-width:4; stroke-opacity:1; fill:none\" points=\"193.936,87.9227 212.834,87.9227 \"/>\n",
       "<path clip-path=\"url(#clip330)\" d=\"M50.9921 1446.22 L80.6679 1446.22 L80.6679 1450.16 L50.9921 1450.16 L50.9921 1446.22 Z\" fill=\"#000000\" fill-rule=\"nonzero\" fill-opacity=\"1\" /><path clip-path=\"url(#clip330)\" d=\"M91.5706 1459.11 L99.2095 1459.11 L99.2095 1432.75 L90.8993 1434.42 L90.8993 1430.16 L99.1632 1428.49 L103.839 1428.49 L103.839 1459.11 L111.478 1459.11 L111.478 1463.05 L91.5706 1463.05 L91.5706 1459.11 Z\" fill=\"#000000\" fill-rule=\"nonzero\" fill-opacity=\"1\" /><path clip-path=\"url(#clip330)\" d=\"M120.922 1457.17 L125.807 1457.17 L125.807 1463.05 L120.922 1463.05 L120.922 1457.17 Z\" fill=\"#000000\" fill-rule=\"nonzero\" fill-opacity=\"1\" /><path clip-path=\"url(#clip330)\" d=\"M145.992 1431.57 Q142.381 1431.57 140.552 1435.13 Q138.746 1438.67 138.746 1445.8 Q138.746 1452.91 140.552 1456.48 Q142.381 1460.02 145.992 1460.02 Q149.626 1460.02 151.431 1456.48 Q153.26 1452.91 153.26 1445.8 Q153.26 1438.67 151.431 1435.13 Q149.626 1431.57 145.992 1431.57 M145.992 1427.86 Q151.802 1427.86 154.857 1432.47 Q157.936 1437.05 157.936 1445.8 Q157.936 1454.53 154.857 1459.14 Q151.802 1463.72 145.992 1463.72 Q140.181 1463.72 137.103 1459.14 Q134.047 1454.53 134.047 1445.8 Q134.047 1437.05 137.103 1432.47 Q140.181 1427.86 145.992 1427.86 Z\" fill=\"#000000\" fill-rule=\"nonzero\" fill-opacity=\"1\" /><path clip-path=\"url(#clip330)\" d=\"M51.9875 1106.76 L81.6633 1106.76 L81.6633 1110.69 L51.9875 1110.69 L51.9875 1106.76 Z\" fill=\"#000000\" fill-rule=\"nonzero\" fill-opacity=\"1\" /><path clip-path=\"url(#clip330)\" d=\"M101.756 1092.11 Q98.1447 1092.11 96.316 1095.67 Q94.5104 1099.21 94.5104 1106.34 Q94.5104 1113.45 96.316 1117.01 Q98.1447 1120.56 101.756 1120.56 Q105.39 1120.56 107.196 1117.01 Q109.024 1113.45 109.024 1106.34 Q109.024 1099.21 107.196 1095.67 Q105.39 1092.11 101.756 1092.11 M101.756 1088.4 Q107.566 1088.4 110.621 1093.01 Q113.7 1097.59 113.7 1106.34 Q113.7 1115.07 110.621 1119.68 Q107.566 1124.26 101.756 1124.26 Q95.9456 1124.26 92.8669 1119.68 Q89.8114 1115.07 89.8114 1106.34 Q89.8114 1097.59 92.8669 1093.01 Q95.9456 1088.4 101.756 1088.4 Z\" fill=\"#000000\" fill-rule=\"nonzero\" fill-opacity=\"1\" /><path clip-path=\"url(#clip330)\" d=\"M121.918 1117.71 L126.802 1117.71 L126.802 1123.59 L121.918 1123.59 L121.918 1117.71 Z\" fill=\"#000000\" fill-rule=\"nonzero\" fill-opacity=\"1\" /><path clip-path=\"url(#clip330)\" d=\"M137.033 1089.03 L155.39 1089.03 L155.39 1092.96 L141.316 1092.96 L141.316 1101.43 Q142.334 1101.09 143.353 1100.93 Q144.371 1100.74 145.39 1100.74 Q151.177 1100.74 154.556 1103.91 Q157.936 1107.08 157.936 1112.5 Q157.936 1118.08 154.464 1121.18 Q150.992 1124.26 144.672 1124.26 Q142.496 1124.26 140.228 1123.89 Q137.982 1123.52 135.575 1122.78 L135.575 1118.08 Q137.658 1119.21 139.881 1119.77 Q142.103 1120.32 144.58 1120.32 Q148.584 1120.32 150.922 1118.22 Q153.26 1116.11 153.26 1112.5 Q153.26 1108.89 150.922 1106.78 Q148.584 1104.68 144.58 1104.68 Q142.705 1104.68 140.83 1105.09 Q138.978 1105.51 137.033 1106.39 L137.033 1089.03 Z\" fill=\"#000000\" fill-rule=\"nonzero\" fill-opacity=\"1\" /><path clip-path=\"url(#clip330)\" d=\"M100.76 752.645 Q97.1493 752.645 95.3206 756.209 Q93.515 759.751 93.515 766.881 Q93.515 773.987 95.3206 777.552 Q97.1493 781.094 100.76 781.094 Q104.395 781.094 106.2 777.552 Q108.029 773.987 108.029 766.881 Q108.029 759.751 106.2 756.209 Q104.395 752.645 100.76 752.645 M100.76 748.941 Q106.571 748.941 109.626 753.547 Q112.705 758.131 112.705 766.881 Q112.705 775.608 109.626 780.214 Q106.571 784.797 100.76 784.797 Q94.9502 784.797 91.8715 780.214 Q88.816 775.608 88.816 766.881 Q88.816 758.131 91.8715 753.547 Q94.9502 748.941 100.76 748.941 Z\" fill=\"#000000\" fill-rule=\"nonzero\" fill-opacity=\"1\" /><path clip-path=\"url(#clip330)\" d=\"M120.922 778.246 L125.807 778.246 L125.807 784.126 L120.922 784.126 L120.922 778.246 Z\" fill=\"#000000\" fill-rule=\"nonzero\" fill-opacity=\"1\" /><path clip-path=\"url(#clip330)\" d=\"M145.992 752.645 Q142.381 752.645 140.552 756.209 Q138.746 759.751 138.746 766.881 Q138.746 773.987 140.552 777.552 Q142.381 781.094 145.992 781.094 Q149.626 781.094 151.431 777.552 Q153.26 773.987 153.26 766.881 Q153.26 759.751 151.431 756.209 Q149.626 752.645 145.992 752.645 M145.992 748.941 Q151.802 748.941 154.857 753.547 Q157.936 758.131 157.936 766.881 Q157.936 775.608 154.857 780.214 Q151.802 784.797 145.992 784.797 Q140.181 784.797 137.103 780.214 Q134.047 775.608 134.047 766.881 Q134.047 758.131 137.103 753.547 Q140.181 748.941 145.992 748.941 Z\" fill=\"#000000\" fill-rule=\"nonzero\" fill-opacity=\"1\" /><path clip-path=\"url(#clip330)\" d=\"M101.756 413.183 Q98.1447 413.183 96.316 416.748 Q94.5104 420.289 94.5104 427.419 Q94.5104 434.525 96.316 438.09 Q98.1447 441.632 101.756 441.632 Q105.39 441.632 107.196 438.09 Q109.024 434.525 109.024 427.419 Q109.024 420.289 107.196 416.748 Q105.39 413.183 101.756 413.183 M101.756 409.479 Q107.566 409.479 110.621 414.086 Q113.7 418.669 113.7 427.419 Q113.7 436.146 110.621 440.752 Q107.566 445.336 101.756 445.336 Q95.9456 445.336 92.8669 440.752 Q89.8114 436.146 89.8114 427.419 Q89.8114 418.669 92.8669 414.086 Q95.9456 409.479 101.756 409.479 Z\" fill=\"#000000\" fill-rule=\"nonzero\" fill-opacity=\"1\" /><path clip-path=\"url(#clip330)\" d=\"M121.918 438.785 L126.802 438.785 L126.802 444.664 L121.918 444.664 L121.918 438.785 Z\" fill=\"#000000\" fill-rule=\"nonzero\" fill-opacity=\"1\" /><path clip-path=\"url(#clip330)\" d=\"M137.033 410.104 L155.39 410.104 L155.39 414.039 L141.316 414.039 L141.316 422.512 Q142.334 422.164 143.353 422.002 Q144.371 421.817 145.39 421.817 Q151.177 421.817 154.556 424.989 Q157.936 428.16 157.936 433.576 Q157.936 439.155 154.464 442.257 Q150.992 445.336 144.672 445.336 Q142.496 445.336 140.228 444.965 Q137.982 444.595 135.575 443.854 L135.575 439.155 Q137.658 440.289 139.881 440.845 Q142.103 441.4 144.58 441.4 Q148.584 441.4 150.922 439.294 Q153.26 437.188 153.26 433.576 Q153.26 429.965 150.922 427.859 Q148.584 425.752 144.58 425.752 Q142.705 425.752 140.83 426.169 Q138.978 426.586 137.033 427.465 L137.033 410.104 Z\" fill=\"#000000\" fill-rule=\"nonzero\" fill-opacity=\"1\" /><path clip-path=\"url(#clip330)\" d=\"M91.5706 101.268 L99.2095 101.268 L99.2095 74.9019 L90.8993 76.5686 L90.8993 72.3093 L99.1632 70.6427 L103.839 70.6427 L103.839 101.268 L111.478 101.268 L111.478 105.203 L91.5706 105.203 L91.5706 101.268 Z\" fill=\"#000000\" fill-rule=\"nonzero\" fill-opacity=\"1\" /><path clip-path=\"url(#clip330)\" d=\"M120.922 99.3231 L125.807 99.3231 L125.807 105.203 L120.922 105.203 L120.922 99.3231 Z\" fill=\"#000000\" fill-rule=\"nonzero\" fill-opacity=\"1\" /><path clip-path=\"url(#clip330)\" d=\"M145.992 73.7214 Q142.381 73.7214 140.552 77.2862 Q138.746 80.8278 138.746 87.9574 Q138.746 95.0638 140.552 98.6286 Q142.381 102.17 145.992 102.17 Q149.626 102.17 151.431 98.6286 Q153.26 95.0638 153.26 87.9574 Q153.26 80.8278 151.431 77.2862 Q149.626 73.7214 145.992 73.7214 M145.992 70.0177 Q151.802 70.0177 154.857 74.6241 Q157.936 79.2074 157.936 87.9574 Q157.936 96.6842 154.857 101.291 Q151.802 105.874 145.992 105.874 Q140.181 105.874 137.103 101.291 Q134.047 96.6842 134.047 87.9574 Q134.047 79.2074 137.103 74.6241 Q140.181 70.0177 145.992 70.0177 Z\" fill=\"#000000\" fill-rule=\"nonzero\" fill-opacity=\"1\" /><polyline clip-path=\"url(#clip332)\" style=\"stroke:#009af9; stroke-linecap:round; stroke-linejoin:round; stroke-width:4; stroke-opacity:1; fill:none\" points=\"255.035,1412.54 265.218,1394.9 275.401,1373.7 285.584,1349.04 295.767,1321.08 305.95,1289.97 316.133,1255.88 326.316,1219.02 336.5,1179.58 346.683,1137.81 356.866,1093.92 367.049,1048.18 377.232,1000.83 387.415,952.159 397.598,902.434 407.781,851.938 417.964,800.958 428.148,749.785 438.331,698.708 448.514,648.019 458.697,598.005 468.88,548.95 479.063,501.133 489.246,454.827 499.429,410.293 509.612,367.785 519.796,327.545 529.979,289.801 540.162,254.767 550.345,222.643 560.528,193.612 570.711,167.838 580.894,145.467 591.077,126.628 601.261,111.426 611.444,99.9483 621.627,92.2601 631.81,88.4051 641.993,88.4051 652.176,92.2601 662.359,99.9483 672.542,111.426 682.725,126.628 692.909,145.467 703.092,167.838 713.275,193.612 723.458,222.643 733.641,254.767 743.824,289.801 754.007,327.545 764.19,367.785 774.373,410.293 784.557,454.827 794.74,501.133 804.923,548.95 815.106,598.005 825.289,648.019 835.472,698.708 845.655,749.785 855.838,800.958 866.021,851.938 876.205,902.434 886.388,952.159 896.571,1000.83 906.754,1048.18 916.937,1093.92 927.12,1137.81 937.303,1179.58 947.486,1219.02 957.669,1255.88 967.853,1289.97 978.036,1321.08 988.219,1349.04 998.402,1373.7 1008.59,1394.9 1018.77,1412.54 1028.95,1426.51 1039.13,1436.73 1049.32,1443.14 1059.5,1445.72 1069.68,1444.43 1079.87,1439.29 1090.05,1430.34 1100.23,1417.61 1110.42,1401.18 1120.6,1381.15 1130.78,1357.63 1140.97,1330.76 1151.15,1300.68 1161.33,1267.56 1171.51,1231.6 1181.7,1193 1191.88,1151.98 1202.06,1108.77 1212.25,1063.61 1222.43,1016.77 1232.61,968.514 1242.8,919.109 1252.98,868.838 1263.16,817.987 1273.35,766.846 1283.53,715.705 1293.71,664.854 1303.9,614.583 1314.08,565.178 1324.26,516.918 1334.44,470.078 1344.63,424.924 1354.81,381.714 1364.99,340.692 1375.18,302.091 1385.36,266.131 1395.54,233.016 1405.73,202.935 1415.91,176.058 1426.09,152.538 1436.28,132.508 1446.46,116.083 1456.64,103.356 1466.83,94.3986 1477.01,89.2624 1487.19,87.9763 1497.37,90.5477 1507.56,96.9619 1517.74,107.183 1527.92,121.152 1538.11,138.79 1548.29,159.996 1558.47,184.651 1568.66,212.614 1578.84,243.727 1589.02,277.811 1599.21,314.675 1609.39,354.108 1619.57,395.886 1629.75,439.772 1639.94,485.517 1650.12,532.86 1660.3,581.533 1670.49,631.258 1680.67,681.754 1690.85,732.734 1701.04,783.907 1711.22,834.984 1721.4,885.673 1731.59,935.687 1741.77,984.742 1751.95,1032.56 1762.14,1078.87 1772.32,1123.4 1782.5,1165.91 1792.68,1206.15 1802.87,1243.89 1813.05,1278.92 1823.23,1311.05 1833.42,1340.08 1843.6,1365.85 1853.78,1388.22 1863.97,1407.06 1874.15,1422.27 1884.33,1433.74 1894.52,1441.43 1904.7,1445.29 1914.88,1445.29 1925.07,1441.43 1935.25,1433.74 1945.43,1422.27 1955.61,1407.06 1965.8,1388.22 1975.98,1365.85 1986.16,1340.08 1996.35,1311.05 2006.53,1278.92 2016.71,1243.89 2026.9,1206.15 2037.08,1165.91 2047.26,1123.4 2057.45,1078.87 2067.63,1032.56 2077.81,984.742 2087.99,935.687 2098.18,885.673 2108.36,834.984 2118.54,783.907 2128.73,732.734 2138.91,681.754 2149.09,631.258 2159.28,581.533 2169.46,532.86 2179.64,485.517 2189.83,439.772 2200.01,395.886 2210.19,354.108 2220.38,314.675 2230.56,277.811 2240.74,243.727 2250.92,212.614 2261.11,184.651 2271.29,159.996 2281.47,138.79 2291.66,121.152 \"/>\n",
       "<path clip-path=\"url(#clip330)\" d=\"M2012.48 198.898 L2280.8 198.898 L2280.8 95.2176 L2012.48 95.2176  Z\" fill=\"#ffffff\" fill-rule=\"evenodd\" fill-opacity=\"1\"/>\n",
       "<polyline clip-path=\"url(#clip330)\" style=\"stroke:#000000; stroke-linecap:round; stroke-linejoin:round; stroke-width:4; stroke-opacity:1; fill:none\" points=\"2012.48,198.898 2280.8,198.898 2280.8,95.2176 2012.48,95.2176 2012.48,198.898 \"/>\n",
       "<polyline clip-path=\"url(#clip330)\" style=\"stroke:#009af9; stroke-linecap:round; stroke-linejoin:round; stroke-width:4; stroke-opacity:1; fill:none\" points=\"2036.47,147.058 2180.39,147.058 \"/>\n",
       "<path clip-path=\"url(#clip330)\" d=\"M2218.22 166.745 Q2216.42 171.375 2214.7 172.787 Q2212.99 174.199 2210.12 174.199 L2206.72 174.199 L2206.72 170.634 L2209.22 170.634 Q2210.98 170.634 2211.95 169.8 Q2212.92 168.967 2214.1 165.865 L2214.86 163.921 L2204.38 138.412 L2208.89 138.412 L2216.99 158.689 L2225.1 138.412 L2229.61 138.412 L2218.22 166.745 Z\" fill=\"#000000\" fill-rule=\"nonzero\" fill-opacity=\"1\" /><path clip-path=\"url(#clip330)\" d=\"M2236.9 160.402 L2244.54 160.402 L2244.54 134.037 L2236.23 135.703 L2236.23 131.444 L2244.49 129.778 L2249.17 129.778 L2249.17 160.402 L2256.81 160.402 L2256.81 164.338 L2236.9 164.338 L2236.9 160.402 Z\" fill=\"#000000\" fill-rule=\"nonzero\" fill-opacity=\"1\" /></svg>\n"
      ],
      "text/html": [
       "<?xml version=\"1.0\" encoding=\"utf-8\"?>\n",
       "<svg xmlns=\"http://www.w3.org/2000/svg\" xmlns:xlink=\"http://www.w3.org/1999/xlink\" width=\"600\" height=\"400\" viewBox=\"0 0 2400 1600\">\n",
       "<defs>\n",
       "  <clipPath id=\"clip380\">\n",
       "    <rect x=\"0\" y=\"0\" width=\"2400\" height=\"1600\"/>\n",
       "  </clipPath>\n",
       "</defs>\n",
       "<path clip-path=\"url(#clip380)\" d=\"M0 1600 L2400 1600 L2400 0 L0 0  Z\" fill=\"#ffffff\" fill-rule=\"evenodd\" fill-opacity=\"1\"/>\n",
       "<defs>\n",
       "  <clipPath id=\"clip381\">\n",
       "    <rect x=\"480\" y=\"0\" width=\"1681\" height=\"1600\"/>\n",
       "  </clipPath>\n",
       "</defs>\n",
       "<path clip-path=\"url(#clip380)\" d=\"M193.936 1486.45 L2352.76 1486.45 L2352.76 47.2441 L193.936 47.2441  Z\" fill=\"#ffffff\" fill-rule=\"evenodd\" fill-opacity=\"1\"/>\n",
       "<defs>\n",
       "  <clipPath id=\"clip382\">\n",
       "    <rect x=\"193\" y=\"47\" width=\"2160\" height=\"1440\"/>\n",
       "  </clipPath>\n",
       "</defs>\n",
       "<polyline clip-path=\"url(#clip382)\" style=\"stroke:#000000; stroke-linecap:round; stroke-linejoin:round; stroke-width:2; stroke-opacity:0.1; fill:none\" points=\"244.852,1486.45 244.852,47.2441 \"/>\n",
       "<polyline clip-path=\"url(#clip382)\" style=\"stroke:#000000; stroke-linecap:round; stroke-linejoin:round; stroke-width:2; stroke-opacity:0.1; fill:none\" points=\"754.007,1486.45 754.007,47.2441 \"/>\n",
       "<polyline clip-path=\"url(#clip382)\" style=\"stroke:#000000; stroke-linecap:round; stroke-linejoin:round; stroke-width:2; stroke-opacity:0.1; fill:none\" points=\"1263.16,1486.45 1263.16,47.2441 \"/>\n",
       "<polyline clip-path=\"url(#clip382)\" style=\"stroke:#000000; stroke-linecap:round; stroke-linejoin:round; stroke-width:2; stroke-opacity:0.1; fill:none\" points=\"1772.32,1486.45 1772.32,47.2441 \"/>\n",
       "<polyline clip-path=\"url(#clip382)\" style=\"stroke:#000000; stroke-linecap:round; stroke-linejoin:round; stroke-width:2; stroke-opacity:0.1; fill:none\" points=\"2281.47,1486.45 2281.47,47.2441 \"/>\n",
       "<polyline clip-path=\"url(#clip380)\" style=\"stroke:#000000; stroke-linecap:round; stroke-linejoin:round; stroke-width:4; stroke-opacity:1; fill:none\" points=\"193.936,1486.45 2352.76,1486.45 \"/>\n",
       "<polyline clip-path=\"url(#clip380)\" style=\"stroke:#000000; stroke-linecap:round; stroke-linejoin:round; stroke-width:4; stroke-opacity:1; fill:none\" points=\"244.852,1486.45 244.852,1467.55 \"/>\n",
       "<polyline clip-path=\"url(#clip380)\" style=\"stroke:#000000; stroke-linecap:round; stroke-linejoin:round; stroke-width:4; stroke-opacity:1; fill:none\" points=\"754.007,1486.45 754.007,1467.55 \"/>\n",
       "<polyline clip-path=\"url(#clip380)\" style=\"stroke:#000000; stroke-linecap:round; stroke-linejoin:round; stroke-width:4; stroke-opacity:1; fill:none\" points=\"1263.16,1486.45 1263.16,1467.55 \"/>\n",
       "<polyline clip-path=\"url(#clip380)\" style=\"stroke:#000000; stroke-linecap:round; stroke-linejoin:round; stroke-width:4; stroke-opacity:1; fill:none\" points=\"1772.32,1486.45 1772.32,1467.55 \"/>\n",
       "<polyline clip-path=\"url(#clip380)\" style=\"stroke:#000000; stroke-linecap:round; stroke-linejoin:round; stroke-width:4; stroke-opacity:1; fill:none\" points=\"2281.47,1486.45 2281.47,1467.55 \"/>\n",
       "<path clip-path=\"url(#clip380)\" d=\"M244.852 1517.37 Q241.24 1517.37 239.412 1520.93 Q237.606 1524.47 237.606 1531.6 Q237.606 1538.71 239.412 1542.27 Q241.24 1545.82 244.852 1545.82 Q248.486 1545.82 250.291 1542.27 Q252.12 1538.71 252.12 1531.6 Q252.12 1524.47 250.291 1520.93 Q248.486 1517.37 244.852 1517.37 M244.852 1513.66 Q250.662 1513.66 253.717 1518.27 Q256.796 1522.85 256.796 1531.6 Q256.796 1540.33 253.717 1544.94 Q250.662 1549.52 244.852 1549.52 Q239.041 1549.52 235.963 1544.94 Q232.907 1540.33 232.907 1531.6 Q232.907 1522.85 235.963 1518.27 Q239.041 1513.66 244.852 1513.66 Z\" fill=\"#000000\" fill-rule=\"nonzero\" fill-opacity=\"1\" /><path clip-path=\"url(#clip380)\" d=\"M728.706 1514.29 L747.063 1514.29 L747.063 1518.22 L732.989 1518.22 L732.989 1526.7 Q734.007 1526.35 735.026 1526.19 Q736.044 1526 737.063 1526 Q742.85 1526 746.229 1529.17 Q749.609 1532.34 749.609 1537.76 Q749.609 1543.34 746.137 1546.44 Q742.665 1549.52 736.345 1549.52 Q734.169 1549.52 731.901 1549.15 Q729.655 1548.78 727.248 1548.04 L727.248 1543.34 Q729.331 1544.47 731.554 1545.03 Q733.776 1545.58 736.253 1545.58 Q740.257 1545.58 742.595 1543.48 Q744.933 1541.37 744.933 1537.76 Q744.933 1534.15 742.595 1532.04 Q740.257 1529.94 736.253 1529.94 Q734.378 1529.94 732.503 1530.35 Q730.651 1530.77 728.706 1531.65 L728.706 1514.29 Z\" fill=\"#000000\" fill-rule=\"nonzero\" fill-opacity=\"1\" /><path clip-path=\"url(#clip380)\" d=\"M768.822 1517.37 Q765.211 1517.37 763.382 1520.93 Q761.577 1524.47 761.577 1531.6 Q761.577 1538.71 763.382 1542.27 Q765.211 1545.82 768.822 1545.82 Q772.456 1545.82 774.262 1542.27 Q776.09 1538.71 776.09 1531.6 Q776.09 1524.47 774.262 1520.93 Q772.456 1517.37 768.822 1517.37 M768.822 1513.66 Q774.632 1513.66 777.688 1518.27 Q780.766 1522.85 780.766 1531.6 Q780.766 1540.33 777.688 1544.94 Q774.632 1549.52 768.822 1549.52 Q763.012 1549.52 759.933 1544.94 Q756.878 1540.33 756.878 1531.6 Q756.878 1522.85 759.933 1518.27 Q763.012 1513.66 768.822 1513.66 Z\" fill=\"#000000\" fill-rule=\"nonzero\" fill-opacity=\"1\" /><path clip-path=\"url(#clip380)\" d=\"M1222.77 1544.91 L1230.41 1544.91 L1230.41 1518.55 L1222.1 1520.21 L1222.1 1515.95 L1230.36 1514.29 L1235.04 1514.29 L1235.04 1544.91 L1242.68 1544.91 L1242.68 1548.85 L1222.77 1548.85 L1222.77 1544.91 Z\" fill=\"#000000\" fill-rule=\"nonzero\" fill-opacity=\"1\" /><path clip-path=\"url(#clip380)\" d=\"M1262.12 1517.37 Q1258.51 1517.37 1256.68 1520.93 Q1254.88 1524.47 1254.88 1531.6 Q1254.88 1538.71 1256.68 1542.27 Q1258.51 1545.82 1262.12 1545.82 Q1265.76 1545.82 1267.56 1542.27 Q1269.39 1538.71 1269.39 1531.6 Q1269.39 1524.47 1267.56 1520.93 Q1265.76 1517.37 1262.12 1517.37 M1262.12 1513.66 Q1267.93 1513.66 1270.99 1518.27 Q1274.07 1522.85 1274.07 1531.6 Q1274.07 1540.33 1270.99 1544.94 Q1267.93 1549.52 1262.12 1549.52 Q1256.31 1549.52 1253.23 1544.94 Q1250.18 1540.33 1250.18 1531.6 Q1250.18 1522.85 1253.23 1518.27 Q1256.31 1513.66 1262.12 1513.66 Z\" fill=\"#000000\" fill-rule=\"nonzero\" fill-opacity=\"1\" /><path clip-path=\"url(#clip380)\" d=\"M1292.28 1517.37 Q1288.67 1517.37 1286.84 1520.93 Q1285.04 1524.47 1285.04 1531.6 Q1285.04 1538.71 1286.84 1542.27 Q1288.67 1545.82 1292.28 1545.82 Q1295.92 1545.82 1297.72 1542.27 Q1299.55 1538.71 1299.55 1531.6 Q1299.55 1524.47 1297.72 1520.93 Q1295.92 1517.37 1292.28 1517.37 M1292.28 1513.66 Q1298.09 1513.66 1301.15 1518.27 Q1304.23 1522.85 1304.23 1531.6 Q1304.23 1540.33 1301.15 1544.94 Q1298.09 1549.52 1292.28 1549.52 Q1286.47 1549.52 1283.39 1544.94 Q1280.34 1540.33 1280.34 1531.6 Q1280.34 1522.85 1283.39 1518.27 Q1286.47 1513.66 1292.28 1513.66 Z\" fill=\"#000000\" fill-rule=\"nonzero\" fill-opacity=\"1\" /><path clip-path=\"url(#clip380)\" d=\"M1731.93 1544.91 L1739.56 1544.91 L1739.56 1518.55 L1731.25 1520.21 L1731.25 1515.95 L1739.52 1514.29 L1744.19 1514.29 L1744.19 1544.91 L1751.83 1544.91 L1751.83 1548.85 L1731.93 1548.85 L1731.93 1544.91 Z\" fill=\"#000000\" fill-rule=\"nonzero\" fill-opacity=\"1\" /><path clip-path=\"url(#clip380)\" d=\"M1761.32 1514.29 L1779.68 1514.29 L1779.68 1518.22 L1765.61 1518.22 L1765.61 1526.7 Q1766.62 1526.35 1767.64 1526.19 Q1768.66 1526 1769.68 1526 Q1775.47 1526 1778.85 1529.17 Q1782.23 1532.34 1782.23 1537.76 Q1782.23 1543.34 1778.75 1546.44 Q1775.28 1549.52 1768.96 1549.52 Q1766.79 1549.52 1764.52 1549.15 Q1762.27 1548.78 1759.86 1548.04 L1759.86 1543.34 Q1761.95 1544.47 1764.17 1545.03 Q1766.39 1545.58 1768.87 1545.58 Q1772.87 1545.58 1775.21 1543.48 Q1777.55 1541.37 1777.55 1537.76 Q1777.55 1534.15 1775.21 1532.04 Q1772.87 1529.94 1768.87 1529.94 Q1766.99 1529.94 1765.12 1530.35 Q1763.27 1530.77 1761.32 1531.65 L1761.32 1514.29 Z\" fill=\"#000000\" fill-rule=\"nonzero\" fill-opacity=\"1\" /><path clip-path=\"url(#clip380)\" d=\"M1801.44 1517.37 Q1797.83 1517.37 1796 1520.93 Q1794.19 1524.47 1794.19 1531.6 Q1794.19 1538.71 1796 1542.27 Q1797.83 1545.82 1801.44 1545.82 Q1805.07 1545.82 1806.88 1542.27 Q1808.71 1538.71 1808.71 1531.6 Q1808.71 1524.47 1806.88 1520.93 Q1805.07 1517.37 1801.44 1517.37 M1801.44 1513.66 Q1807.25 1513.66 1810.3 1518.27 Q1813.38 1522.85 1813.38 1531.6 Q1813.38 1540.33 1810.3 1544.94 Q1807.25 1549.52 1801.44 1549.52 Q1795.63 1549.52 1792.55 1544.94 Q1789.49 1540.33 1789.49 1531.6 Q1789.49 1522.85 1792.55 1518.27 Q1795.63 1513.66 1801.44 1513.66 Z\" fill=\"#000000\" fill-rule=\"nonzero\" fill-opacity=\"1\" /><path clip-path=\"url(#clip380)\" d=\"M2245.17 1544.91 L2261.49 1544.91 L2261.49 1548.85 L2239.54 1548.85 L2239.54 1544.91 Q2242.2 1542.16 2246.79 1537.53 Q2251.39 1532.88 2252.57 1531.53 Q2254.82 1529.01 2255.7 1527.27 Q2256.6 1525.51 2256.6 1523.82 Q2256.6 1521.07 2254.66 1519.33 Q2252.74 1517.6 2249.63 1517.6 Q2247.43 1517.6 2244.98 1518.36 Q2242.55 1519.13 2239.77 1520.68 L2239.77 1515.95 Q2242.6 1514.82 2245.05 1514.24 Q2247.5 1513.66 2249.54 1513.66 Q2254.91 1513.66 2258.11 1516.35 Q2261.3 1519.03 2261.3 1523.52 Q2261.3 1525.65 2260.49 1527.57 Q2259.7 1529.47 2257.6 1532.07 Q2257.02 1532.74 2253.92 1535.95 Q2250.81 1539.15 2245.17 1544.91 Z\" fill=\"#000000\" fill-rule=\"nonzero\" fill-opacity=\"1\" /><path clip-path=\"url(#clip380)\" d=\"M2281.3 1517.37 Q2277.69 1517.37 2275.86 1520.93 Q2274.06 1524.47 2274.06 1531.6 Q2274.06 1538.71 2275.86 1542.27 Q2277.69 1545.82 2281.3 1545.82 Q2284.93 1545.82 2286.74 1542.27 Q2288.57 1538.71 2288.57 1531.6 Q2288.57 1524.47 2286.74 1520.93 Q2284.93 1517.37 2281.3 1517.37 M2281.3 1513.66 Q2287.11 1513.66 2290.17 1518.27 Q2293.24 1522.85 2293.24 1531.6 Q2293.24 1540.33 2290.17 1544.94 Q2287.11 1549.52 2281.3 1549.52 Q2275.49 1549.52 2272.41 1544.94 Q2269.36 1540.33 2269.36 1531.6 Q2269.36 1522.85 2272.41 1518.27 Q2275.49 1513.66 2281.3 1513.66 Z\" fill=\"#000000\" fill-rule=\"nonzero\" fill-opacity=\"1\" /><path clip-path=\"url(#clip380)\" d=\"M2311.46 1517.37 Q2307.85 1517.37 2306.02 1520.93 Q2304.22 1524.47 2304.22 1531.6 Q2304.22 1538.71 2306.02 1542.27 Q2307.85 1545.82 2311.46 1545.82 Q2315.1 1545.82 2316.9 1542.27 Q2318.73 1538.71 2318.73 1531.6 Q2318.73 1524.47 2316.9 1520.93 Q2315.1 1517.37 2311.46 1517.37 M2311.46 1513.66 Q2317.27 1513.66 2320.33 1518.27 Q2323.41 1522.85 2323.41 1531.6 Q2323.41 1540.33 2320.33 1544.94 Q2317.27 1549.52 2311.46 1549.52 Q2305.65 1549.52 2302.57 1544.94 Q2299.52 1540.33 2299.52 1531.6 Q2299.52 1522.85 2302.57 1518.27 Q2305.65 1513.66 2311.46 1513.66 Z\" fill=\"#000000\" fill-rule=\"nonzero\" fill-opacity=\"1\" /><polyline clip-path=\"url(#clip382)\" style=\"stroke:#000000; stroke-linecap:round; stroke-linejoin:round; stroke-width:2; stroke-opacity:0.1; fill:none\" points=\"193.936,1445.77 2352.76,1445.77 \"/>\n",
       "<polyline clip-path=\"url(#clip382)\" style=\"stroke:#000000; stroke-linecap:round; stroke-linejoin:round; stroke-width:2; stroke-opacity:0.1; fill:none\" points=\"193.936,1106.31 2352.76,1106.31 \"/>\n",
       "<polyline clip-path=\"url(#clip382)\" style=\"stroke:#000000; stroke-linecap:round; stroke-linejoin:round; stroke-width:2; stroke-opacity:0.1; fill:none\" points=\"193.936,766.846 2352.76,766.846 \"/>\n",
       "<polyline clip-path=\"url(#clip382)\" style=\"stroke:#000000; stroke-linecap:round; stroke-linejoin:round; stroke-width:2; stroke-opacity:0.1; fill:none\" points=\"193.936,427.384 2352.76,427.384 \"/>\n",
       "<polyline clip-path=\"url(#clip382)\" style=\"stroke:#000000; stroke-linecap:round; stroke-linejoin:round; stroke-width:2; stroke-opacity:0.1; fill:none\" points=\"193.936,87.9227 2352.76,87.9227 \"/>\n",
       "<polyline clip-path=\"url(#clip380)\" style=\"stroke:#000000; stroke-linecap:round; stroke-linejoin:round; stroke-width:4; stroke-opacity:1; fill:none\" points=\"193.936,1486.45 193.936,47.2441 \"/>\n",
       "<polyline clip-path=\"url(#clip380)\" style=\"stroke:#000000; stroke-linecap:round; stroke-linejoin:round; stroke-width:4; stroke-opacity:1; fill:none\" points=\"193.936,1445.77 212.834,1445.77 \"/>\n",
       "<polyline clip-path=\"url(#clip380)\" style=\"stroke:#000000; stroke-linecap:round; stroke-linejoin:round; stroke-width:4; stroke-opacity:1; fill:none\" points=\"193.936,1106.31 212.834,1106.31 \"/>\n",
       "<polyline clip-path=\"url(#clip380)\" style=\"stroke:#000000; stroke-linecap:round; stroke-linejoin:round; stroke-width:4; stroke-opacity:1; fill:none\" points=\"193.936,766.846 212.834,766.846 \"/>\n",
       "<polyline clip-path=\"url(#clip380)\" style=\"stroke:#000000; stroke-linecap:round; stroke-linejoin:round; stroke-width:4; stroke-opacity:1; fill:none\" points=\"193.936,427.384 212.834,427.384 \"/>\n",
       "<polyline clip-path=\"url(#clip380)\" style=\"stroke:#000000; stroke-linecap:round; stroke-linejoin:round; stroke-width:4; stroke-opacity:1; fill:none\" points=\"193.936,87.9227 212.834,87.9227 \"/>\n",
       "<path clip-path=\"url(#clip380)\" d=\"M50.9921 1446.22 L80.6679 1446.22 L80.6679 1450.16 L50.9921 1450.16 L50.9921 1446.22 Z\" fill=\"#000000\" fill-rule=\"nonzero\" fill-opacity=\"1\" /><path clip-path=\"url(#clip380)\" d=\"M91.5706 1459.11 L99.2095 1459.11 L99.2095 1432.75 L90.8993 1434.42 L90.8993 1430.16 L99.1632 1428.49 L103.839 1428.49 L103.839 1459.11 L111.478 1459.11 L111.478 1463.05 L91.5706 1463.05 L91.5706 1459.11 Z\" fill=\"#000000\" fill-rule=\"nonzero\" fill-opacity=\"1\" /><path clip-path=\"url(#clip380)\" d=\"M120.922 1457.17 L125.807 1457.17 L125.807 1463.05 L120.922 1463.05 L120.922 1457.17 Z\" fill=\"#000000\" fill-rule=\"nonzero\" fill-opacity=\"1\" /><path clip-path=\"url(#clip380)\" d=\"M145.992 1431.57 Q142.381 1431.57 140.552 1435.13 Q138.746 1438.67 138.746 1445.8 Q138.746 1452.91 140.552 1456.48 Q142.381 1460.02 145.992 1460.02 Q149.626 1460.02 151.431 1456.48 Q153.26 1452.91 153.26 1445.8 Q153.26 1438.67 151.431 1435.13 Q149.626 1431.57 145.992 1431.57 M145.992 1427.86 Q151.802 1427.86 154.857 1432.47 Q157.936 1437.05 157.936 1445.8 Q157.936 1454.53 154.857 1459.14 Q151.802 1463.72 145.992 1463.72 Q140.181 1463.72 137.103 1459.14 Q134.047 1454.53 134.047 1445.8 Q134.047 1437.05 137.103 1432.47 Q140.181 1427.86 145.992 1427.86 Z\" fill=\"#000000\" fill-rule=\"nonzero\" fill-opacity=\"1\" /><path clip-path=\"url(#clip380)\" d=\"M51.9875 1106.76 L81.6633 1106.76 L81.6633 1110.69 L51.9875 1110.69 L51.9875 1106.76 Z\" fill=\"#000000\" fill-rule=\"nonzero\" fill-opacity=\"1\" /><path clip-path=\"url(#clip380)\" d=\"M101.756 1092.11 Q98.1447 1092.11 96.316 1095.67 Q94.5104 1099.21 94.5104 1106.34 Q94.5104 1113.45 96.316 1117.01 Q98.1447 1120.56 101.756 1120.56 Q105.39 1120.56 107.196 1117.01 Q109.024 1113.45 109.024 1106.34 Q109.024 1099.21 107.196 1095.67 Q105.39 1092.11 101.756 1092.11 M101.756 1088.4 Q107.566 1088.4 110.621 1093.01 Q113.7 1097.59 113.7 1106.34 Q113.7 1115.07 110.621 1119.68 Q107.566 1124.26 101.756 1124.26 Q95.9456 1124.26 92.8669 1119.68 Q89.8114 1115.07 89.8114 1106.34 Q89.8114 1097.59 92.8669 1093.01 Q95.9456 1088.4 101.756 1088.4 Z\" fill=\"#000000\" fill-rule=\"nonzero\" fill-opacity=\"1\" /><path clip-path=\"url(#clip380)\" d=\"M121.918 1117.71 L126.802 1117.71 L126.802 1123.59 L121.918 1123.59 L121.918 1117.71 Z\" fill=\"#000000\" fill-rule=\"nonzero\" fill-opacity=\"1\" /><path clip-path=\"url(#clip380)\" d=\"M137.033 1089.03 L155.39 1089.03 L155.39 1092.96 L141.316 1092.96 L141.316 1101.43 Q142.334 1101.09 143.353 1100.93 Q144.371 1100.74 145.39 1100.74 Q151.177 1100.74 154.556 1103.91 Q157.936 1107.08 157.936 1112.5 Q157.936 1118.08 154.464 1121.18 Q150.992 1124.26 144.672 1124.26 Q142.496 1124.26 140.228 1123.89 Q137.982 1123.52 135.575 1122.78 L135.575 1118.08 Q137.658 1119.21 139.881 1119.77 Q142.103 1120.32 144.58 1120.32 Q148.584 1120.32 150.922 1118.22 Q153.26 1116.11 153.26 1112.5 Q153.26 1108.89 150.922 1106.78 Q148.584 1104.68 144.58 1104.68 Q142.705 1104.68 140.83 1105.09 Q138.978 1105.51 137.033 1106.39 L137.033 1089.03 Z\" fill=\"#000000\" fill-rule=\"nonzero\" fill-opacity=\"1\" /><path clip-path=\"url(#clip380)\" d=\"M100.76 752.645 Q97.1493 752.645 95.3206 756.209 Q93.515 759.751 93.515 766.881 Q93.515 773.987 95.3206 777.552 Q97.1493 781.094 100.76 781.094 Q104.395 781.094 106.2 777.552 Q108.029 773.987 108.029 766.881 Q108.029 759.751 106.2 756.209 Q104.395 752.645 100.76 752.645 M100.76 748.941 Q106.571 748.941 109.626 753.547 Q112.705 758.131 112.705 766.881 Q112.705 775.608 109.626 780.214 Q106.571 784.797 100.76 784.797 Q94.9502 784.797 91.8715 780.214 Q88.816 775.608 88.816 766.881 Q88.816 758.131 91.8715 753.547 Q94.9502 748.941 100.76 748.941 Z\" fill=\"#000000\" fill-rule=\"nonzero\" fill-opacity=\"1\" /><path clip-path=\"url(#clip380)\" d=\"M120.922 778.246 L125.807 778.246 L125.807 784.126 L120.922 784.126 L120.922 778.246 Z\" fill=\"#000000\" fill-rule=\"nonzero\" fill-opacity=\"1\" /><path clip-path=\"url(#clip380)\" d=\"M145.992 752.645 Q142.381 752.645 140.552 756.209 Q138.746 759.751 138.746 766.881 Q138.746 773.987 140.552 777.552 Q142.381 781.094 145.992 781.094 Q149.626 781.094 151.431 777.552 Q153.26 773.987 153.26 766.881 Q153.26 759.751 151.431 756.209 Q149.626 752.645 145.992 752.645 M145.992 748.941 Q151.802 748.941 154.857 753.547 Q157.936 758.131 157.936 766.881 Q157.936 775.608 154.857 780.214 Q151.802 784.797 145.992 784.797 Q140.181 784.797 137.103 780.214 Q134.047 775.608 134.047 766.881 Q134.047 758.131 137.103 753.547 Q140.181 748.941 145.992 748.941 Z\" fill=\"#000000\" fill-rule=\"nonzero\" fill-opacity=\"1\" /><path clip-path=\"url(#clip380)\" d=\"M101.756 413.183 Q98.1447 413.183 96.316 416.748 Q94.5104 420.289 94.5104 427.419 Q94.5104 434.525 96.316 438.09 Q98.1447 441.632 101.756 441.632 Q105.39 441.632 107.196 438.09 Q109.024 434.525 109.024 427.419 Q109.024 420.289 107.196 416.748 Q105.39 413.183 101.756 413.183 M101.756 409.479 Q107.566 409.479 110.621 414.086 Q113.7 418.669 113.7 427.419 Q113.7 436.146 110.621 440.752 Q107.566 445.336 101.756 445.336 Q95.9456 445.336 92.8669 440.752 Q89.8114 436.146 89.8114 427.419 Q89.8114 418.669 92.8669 414.086 Q95.9456 409.479 101.756 409.479 Z\" fill=\"#000000\" fill-rule=\"nonzero\" fill-opacity=\"1\" /><path clip-path=\"url(#clip380)\" d=\"M121.918 438.785 L126.802 438.785 L126.802 444.664 L121.918 444.664 L121.918 438.785 Z\" fill=\"#000000\" fill-rule=\"nonzero\" fill-opacity=\"1\" /><path clip-path=\"url(#clip380)\" d=\"M137.033 410.104 L155.39 410.104 L155.39 414.039 L141.316 414.039 L141.316 422.512 Q142.334 422.164 143.353 422.002 Q144.371 421.817 145.39 421.817 Q151.177 421.817 154.556 424.989 Q157.936 428.16 157.936 433.576 Q157.936 439.155 154.464 442.257 Q150.992 445.336 144.672 445.336 Q142.496 445.336 140.228 444.965 Q137.982 444.595 135.575 443.854 L135.575 439.155 Q137.658 440.289 139.881 440.845 Q142.103 441.4 144.58 441.4 Q148.584 441.4 150.922 439.294 Q153.26 437.188 153.26 433.576 Q153.26 429.965 150.922 427.859 Q148.584 425.752 144.58 425.752 Q142.705 425.752 140.83 426.169 Q138.978 426.586 137.033 427.465 L137.033 410.104 Z\" fill=\"#000000\" fill-rule=\"nonzero\" fill-opacity=\"1\" /><path clip-path=\"url(#clip380)\" d=\"M91.5706 101.268 L99.2095 101.268 L99.2095 74.9019 L90.8993 76.5686 L90.8993 72.3093 L99.1632 70.6427 L103.839 70.6427 L103.839 101.268 L111.478 101.268 L111.478 105.203 L91.5706 105.203 L91.5706 101.268 Z\" fill=\"#000000\" fill-rule=\"nonzero\" fill-opacity=\"1\" /><path clip-path=\"url(#clip380)\" d=\"M120.922 99.3231 L125.807 99.3231 L125.807 105.203 L120.922 105.203 L120.922 99.3231 Z\" fill=\"#000000\" fill-rule=\"nonzero\" fill-opacity=\"1\" /><path clip-path=\"url(#clip380)\" d=\"M145.992 73.7214 Q142.381 73.7214 140.552 77.2862 Q138.746 80.8278 138.746 87.9574 Q138.746 95.0638 140.552 98.6286 Q142.381 102.17 145.992 102.17 Q149.626 102.17 151.431 98.6286 Q153.26 95.0638 153.26 87.9574 Q153.26 80.8278 151.431 77.2862 Q149.626 73.7214 145.992 73.7214 M145.992 70.0177 Q151.802 70.0177 154.857 74.6241 Q157.936 79.2074 157.936 87.9574 Q157.936 96.6842 154.857 101.291 Q151.802 105.874 145.992 105.874 Q140.181 105.874 137.103 101.291 Q134.047 96.6842 134.047 87.9574 Q134.047 79.2074 137.103 74.6241 Q140.181 70.0177 145.992 70.0177 Z\" fill=\"#000000\" fill-rule=\"nonzero\" fill-opacity=\"1\" /><polyline clip-path=\"url(#clip382)\" style=\"stroke:#009af9; stroke-linecap:round; stroke-linejoin:round; stroke-width:4; stroke-opacity:1; fill:none\" points=\"255.035,1412.54 265.218,1394.9 275.401,1373.7 285.584,1349.04 295.767,1321.08 305.95,1289.97 316.133,1255.88 326.316,1219.02 336.5,1179.58 346.683,1137.81 356.866,1093.92 367.049,1048.18 377.232,1000.83 387.415,952.159 397.598,902.434 407.781,851.938 417.964,800.958 428.148,749.785 438.331,698.708 448.514,648.019 458.697,598.005 468.88,548.95 479.063,501.133 489.246,454.827 499.429,410.293 509.612,367.785 519.796,327.545 529.979,289.801 540.162,254.767 550.345,222.643 560.528,193.612 570.711,167.838 580.894,145.467 591.077,126.628 601.261,111.426 611.444,99.9483 621.627,92.2601 631.81,88.4051 641.993,88.4051 652.176,92.2601 662.359,99.9483 672.542,111.426 682.725,126.628 692.909,145.467 703.092,167.838 713.275,193.612 723.458,222.643 733.641,254.767 743.824,289.801 754.007,327.545 764.19,367.785 774.373,410.293 784.557,454.827 794.74,501.133 804.923,548.95 815.106,598.005 825.289,648.019 835.472,698.708 845.655,749.785 855.838,800.958 866.021,851.938 876.205,902.434 886.388,952.159 896.571,1000.83 906.754,1048.18 916.937,1093.92 927.12,1137.81 937.303,1179.58 947.486,1219.02 957.669,1255.88 967.853,1289.97 978.036,1321.08 988.219,1349.04 998.402,1373.7 1008.59,1394.9 1018.77,1412.54 1028.95,1426.51 1039.13,1436.73 1049.32,1443.14 1059.5,1445.72 1069.68,1444.43 1079.87,1439.29 1090.05,1430.34 1100.23,1417.61 1110.42,1401.18 1120.6,1381.15 1130.78,1357.63 1140.97,1330.76 1151.15,1300.68 1161.33,1267.56 1171.51,1231.6 1181.7,1193 1191.88,1151.98 1202.06,1108.77 1212.25,1063.61 1222.43,1016.77 1232.61,968.514 1242.8,919.109 1252.98,868.838 1263.16,817.987 1273.35,766.846 1283.53,715.705 1293.71,664.854 1303.9,614.583 1314.08,565.178 1324.26,516.918 1334.44,470.078 1344.63,424.924 1354.81,381.714 1364.99,340.692 1375.18,302.091 1385.36,266.131 1395.54,233.016 1405.73,202.935 1415.91,176.058 1426.09,152.538 1436.28,132.508 1446.46,116.083 1456.64,103.356 1466.83,94.3986 1477.01,89.2624 1487.19,87.9763 1497.37,90.5477 1507.56,96.9619 1517.74,107.183 1527.92,121.152 1538.11,138.79 1548.29,159.996 1558.47,184.651 1568.66,212.614 1578.84,243.727 1589.02,277.811 1599.21,314.675 1609.39,354.108 1619.57,395.886 1629.75,439.772 1639.94,485.517 1650.12,532.86 1660.3,581.533 1670.49,631.258 1680.67,681.754 1690.85,732.734 1701.04,783.907 1711.22,834.984 1721.4,885.673 1731.59,935.687 1741.77,984.742 1751.95,1032.56 1762.14,1078.87 1772.32,1123.4 1782.5,1165.91 1792.68,1206.15 1802.87,1243.89 1813.05,1278.92 1823.23,1311.05 1833.42,1340.08 1843.6,1365.85 1853.78,1388.22 1863.97,1407.06 1874.15,1422.27 1884.33,1433.74 1894.52,1441.43 1904.7,1445.29 1914.88,1445.29 1925.07,1441.43 1935.25,1433.74 1945.43,1422.27 1955.61,1407.06 1965.8,1388.22 1975.98,1365.85 1986.16,1340.08 1996.35,1311.05 2006.53,1278.92 2016.71,1243.89 2026.9,1206.15 2037.08,1165.91 2047.26,1123.4 2057.45,1078.87 2067.63,1032.56 2077.81,984.742 2087.99,935.687 2098.18,885.673 2108.36,834.984 2118.54,783.907 2128.73,732.734 2138.91,681.754 2149.09,631.258 2159.28,581.533 2169.46,532.86 2179.64,485.517 2189.83,439.772 2200.01,395.886 2210.19,354.108 2220.38,314.675 2230.56,277.811 2240.74,243.727 2250.92,212.614 2261.11,184.651 2271.29,159.996 2281.47,138.79 2291.66,121.152 \"/>\n",
       "<path clip-path=\"url(#clip380)\" d=\"M2012.48 198.898 L2280.8 198.898 L2280.8 95.2176 L2012.48 95.2176  Z\" fill=\"#ffffff\" fill-rule=\"evenodd\" fill-opacity=\"1\"/>\n",
       "<polyline clip-path=\"url(#clip380)\" style=\"stroke:#000000; stroke-linecap:round; stroke-linejoin:round; stroke-width:4; stroke-opacity:1; fill:none\" points=\"2012.48,198.898 2280.8,198.898 2280.8,95.2176 2012.48,95.2176 2012.48,198.898 \"/>\n",
       "<polyline clip-path=\"url(#clip380)\" style=\"stroke:#009af9; stroke-linecap:round; stroke-linejoin:round; stroke-width:4; stroke-opacity:1; fill:none\" points=\"2036.47,147.058 2180.39,147.058 \"/>\n",
       "<path clip-path=\"url(#clip380)\" d=\"M2218.22 166.745 Q2216.42 171.375 2214.7 172.787 Q2212.99 174.199 2210.12 174.199 L2206.72 174.199 L2206.72 170.634 L2209.22 170.634 Q2210.98 170.634 2211.95 169.8 Q2212.92 168.967 2214.1 165.865 L2214.86 163.921 L2204.38 138.412 L2208.89 138.412 L2216.99 158.689 L2225.1 138.412 L2229.61 138.412 L2218.22 166.745 Z\" fill=\"#000000\" fill-rule=\"nonzero\" fill-opacity=\"1\" /><path clip-path=\"url(#clip380)\" d=\"M2236.9 160.402 L2244.54 160.402 L2244.54 134.037 L2236.23 135.703 L2236.23 131.444 L2244.49 129.778 L2249.17 129.778 L2249.17 160.402 L2256.81 160.402 L2256.81 164.338 L2236.9 164.338 L2236.9 160.402 Z\" fill=\"#000000\" fill-rule=\"nonzero\" fill-opacity=\"1\" /></svg>\n"
      ]
     },
     "metadata": {},
     "output_type": "display_data"
    }
   ],
   "source": [
    "plot(st_1[101,:])"
   ]
  },
  {
   "attachments": {},
   "cell_type": "markdown",
   "metadata": {
    "slideshow": {
     "slide_type": "subslide"
    }
   },
   "source": [
    "- First experiment: measure response for various contrast levels\n",
    "- Observation in paper: saturating (sublinear) curve"
   ]
  },
  {
   "cell_type": "code",
   "execution_count": 12,
   "metadata": {},
   "outputs": [],
   "source": [
    "# ...to be implemented: "
   ]
  },
  {
   "attachments": {},
   "cell_type": "markdown",
   "metadata": {
    "slideshow": {
     "slide_type": "subslide"
    }
   },
   "source": [
    "- Second experiment: measure response for increasing stimulus sizes\n",
    "- Observation in paper: steep increase to optimal stimulus, then smaller decrease"
   ]
  },
  {
   "cell_type": "code",
   "execution_count": 13,
   "metadata": {},
   "outputs": [],
   "source": [
    "# ...to be implemented: "
   ]
  },
  {
   "attachments": {},
   "cell_type": "markdown",
   "metadata": {
    "slideshow": {
     "slide_type": "slide"
    }
   },
   "source": [
    "## Using the LGN model for image processing"
   ]
  },
  {
   "cell_type": "code",
   "execution_count": 14,
   "metadata": {},
   "outputs": [],
   "source": [
    "# ...to be implemented: Load the testimage `lake`"
   ]
  },
  {
   "attachments": {},
   "cell_type": "markdown",
   "metadata": {
    "slideshow": {
     "slide_type": "subslide"
    }
   },
   "source": [
    "- First experiment: **LGN model** with normalization"
   ]
  },
  {
   "cell_type": "code",
   "execution_count": 15,
   "metadata": {},
   "outputs": [],
   "source": [
    "# ...to be implemented: "
   ]
  },
  {
   "attachments": {},
   "cell_type": "markdown",
   "metadata": {
    "slideshow": {
     "slide_type": "fragment"
    }
   },
   "source": [
    "*...to be replaced:* What's your observation?"
   ]
  },
  {
   "attachments": {},
   "cell_type": "markdown",
   "metadata": {
    "slideshow": {
     "slide_type": "subslide"
    }
   },
   "source": [
    "- Second experiment: use the **custom DoG-filter** from the model"
   ]
  },
  {
   "cell_type": "code",
   "execution_count": 16,
   "metadata": {},
   "outputs": [],
   "source": [
    "# ...to be implemented: "
   ]
  },
  {
   "attachments": {},
   "cell_type": "markdown",
   "metadata": {
    "slideshow": {
     "slide_type": "fragment"
    }
   },
   "source": [
    "*...to be replaced:* What's your observation?"
   ]
  },
  {
   "attachments": {},
   "cell_type": "markdown",
   "metadata": {
    "slideshow": {
     "slide_type": "subslide"
    }
   },
   "source": [
    "- Third experiment: **standard DoG** center-surround filter"
   ]
  },
  {
   "cell_type": "code",
   "execution_count": 17,
   "metadata": {},
   "outputs": [],
   "source": [
    "# ...to be implemented: "
   ]
  },
  {
   "attachments": {},
   "cell_type": "markdown",
   "metadata": {
    "slideshow": {
     "slide_type": "fragment"
    }
   },
   "source": [
    "*...to be replaced:* What's your observation?"
   ]
  },
  {
   "attachments": {},
   "cell_type": "markdown",
   "metadata": {},
   "source": [
    "*...to be replaced:* What are the differences between the filters?"
   ]
  }
 ],
 "metadata": {
  "@webio": {
   "lastCommId": null,
   "lastKernelId": null
  },
  "kernelspec": {
   "display_name": "Julia 1.10.3",
   "language": "julia",
   "name": "julia-1.10"
  },
  "language_info": {
   "file_extension": ".jl",
   "mimetype": "application/julia",
   "name": "julia",
   "version": "1.10.3"
  },
  "rise": {
   "auto_select": "code",
   "scroll": true,
   "theme": "uulm"
  }
 },
 "nbformat": 4,
 "nbformat_minor": 4
}
