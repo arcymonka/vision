{
 "cells": [
  {
   "attachments": {},
   "cell_type": "markdown",
   "metadata": {
    "slideshow": {
     "slide_type": "slide"
    }
   },
   "source": [
    "# Homework 2"
   ]
  },
  {
   "cell_type": "code",
   "execution_count": 6,
   "metadata": {},
   "outputs": [
    {
     "name": "stderr",
     "output_type": "stream",
     "text": [
      "\u001b[32m\u001b[1m  Activating\u001b[22m\u001b[39m project at `~/julia/MyPkg-2`\n"
     ]
    }
   ],
   "source": [
    "# use Julia's packae managing module to activate your current environment\n",
    "using Pkg\n",
    "Pkg.activate(\".\")\n",
    "Pkg.instantiate()"
   ]
  },
  {
   "attachments": {},
   "cell_type": "markdown",
   "metadata": {
    "slideshow": {
     "slide_type": "subslide"
    }
   },
   "source": [
    "Objective:\n",
    "\n",
    "- investigate normalization\n",
    "- model LGN as a center-surround filter with normalization\n",
    "- look at effect in image processing"
   ]
  },
  {
   "cell_type": "code",
   "execution_count": 7,
   "metadata": {
    "slideshow": {
     "slide_type": "subslide"
    }
   },
   "outputs": [],
   "source": [
    "# telling Julia to load modules that we need for our code, which have been specified as dependencies for our current package\n",
    "using Images, ImageFiltering\n",
    "using TestImages\n",
    "using Statistics\n",
    "using Plots"
   ]
  },
  {
   "cell_type": "code",
   "execution_count": 8,
   "metadata": {
    "slideshow": {
     "slide_type": "fragment"
    }
   },
   "outputs": [
    {
     "name": "stderr",
     "output_type": "stream",
     "text": [
      "WARNING: replacing module Utils.\n"
     ]
    }
   ],
   "source": [
    "# load the additional Utils module provided with the exercise\n",
    "include(\"material/utils.jl\")\n",
    "using .Utils"
   ]
  },
  {
   "cell_type": "markdown",
   "metadata": {},
   "source": [
    "Hello!"
   ]
  },
  {
   "attachments": {},
   "cell_type": "markdown",
   "metadata": {
    "slideshow": {
     "slide_type": "slide"
    }
   },
   "source": [
    "## LGN Model"
   ]
  },
  {
   "attachments": {},
   "cell_type": "markdown",
   "metadata": {},
   "source": [
    "- Model from Bonin, Mante & Carandini (2005), Journal of Neuroscience 25(47), 10844-10856.\n",
    "- Hints: \n",
    "    - Check the paper for model parameters\n",
    "    - Check the provided `utils.jl` for additional, helpful implementations\n",
    "    - Dependent on your implementation, Julia's `mapwindow` function might be helpful for computing the summation part of `c_local`, or `imfilter` might be easier"
   ]
  },
  {
   "cell_type": "code",
   "execution_count": 9,
   "metadata": {
    "slideshow": {
     "slide_type": "subslide"
    }
   },
   "outputs": [
    {
     "ename": "Base.Meta.ParseError",
     "evalue": "ParseError:\n# Error @ /Users/helena/julia/MyPkg-2/MyNB.ipynb:2:31\n# ...to be implemented:\nfunction lgn(stimulus; vᵐᵃˣ = ..., v⁰ = ..., σᶜᵉⁿ = ..., σˢʳᵈ = ..., kˢʳᵈ = ..., σˢᶠ = ..., c⁵⁰ = ..., σᵘ = ..., σᵈ = ..., kᵈ = ...)    \n#                             └─┘ ── invalid identifier",
     "output_type": "error",
     "traceback": [
      "ParseError:\n",
      "# Error @ /Users/helena/julia/MyPkg-2/MyNB.ipynb:2:31\n",
      "# ...to be implemented:\n",
      "function lgn(stimulus; vᵐᵃˣ = ..., v⁰ = ..., σᶜᵉⁿ = ..., σˢʳᵈ = ..., kˢʳᵈ = ..., σˢᶠ = ..., c⁵⁰ = ..., σᵘ = ..., σᵈ = ..., kᵈ = ...)    \n",
      "#                             └─┘ ── invalid identifier\n",
      "\n",
      "Stacktrace:\n",
      " [1] top-level scope\n",
      "   @ ~/julia/MyPkg-2/MyNB.ipynb:2"
     ]
    }
   ],
   "source": [
    "# ...to be implemented:\n",
    "function lgn(stimulus; vᵐᵃˣ = ..., v⁰ = ..., σᶜᵉⁿ = ..., σˢʳᵈ = ..., kˢʳᵈ = ..., σˢᶠ = ..., c⁵⁰ = ..., σᵘ = ..., σᵈ = ..., kᵈ = ...)\n",
    "        \n",
    "end"
   ]
  },
  {
   "attachments": {},
   "cell_type": "markdown",
   "metadata": {
    "slideshow": {
     "slide_type": "subslide"
    }
   },
   "source": [
    "- Use of keyword arguments to make model easily parametrizable\n",
    "- Large number of keyword arguments can be passed with a dictionary"
   ]
  },
  {
   "cell_type": "code",
   "execution_count": 10,
   "metadata": {},
   "outputs": [
    {
     "ename": "Base.Meta.ParseError",
     "evalue": "ParseError:\n# Error @ /Users/helena/julia/MyPkg-2/MyNB.ipynb:3:14\nstandard_cell = Dict(\n    :vᵐᵃˣ => ...,\n#            └─┘ ── invalid identifier",
     "output_type": "error",
     "traceback": [
      "ParseError:\n",
      "# Error @ /Users/helena/julia/MyPkg-2/MyNB.ipynb:3:14\n",
      "standard_cell = Dict(\n",
      "    :vᵐᵃˣ => ...,\n",
      "#            └─┘ ── invalid identifier\n",
      "\n",
      "Stacktrace:\n",
      " [1] top-level scope\n",
      "   @ ~/julia/MyPkg-2/MyNB.ipynb:3"
     ]
    }
   ],
   "source": [
    "# ...to be implemented: \n",
    "standard_cell = Dict(\n",
    "    :vᵐᵃˣ => ...,\n",
    "    :v⁰ => ...,\n",
    "    :σᶜᵉⁿ => ...,\n",
    "    :σˢʳᵈ => ...,\n",
    "    :kˢʳᵈ => ...,\n",
    "    :σˢᶠ => ...,\n",
    "    :c⁵⁰ => ...,\n",
    "    :σᵘ => ...,\n",
    "    :σᵈ => ...,\n",
    "    :kᵈ => ...\n",
    ")"
   ]
  },
  {
   "attachments": {},
   "cell_type": "markdown",
   "metadata": {
    "slideshow": {
     "slide_type": "slide"
    }
   },
   "source": [
    "## Testing the model"
   ]
  },
  {
   "attachments": {},
   "cell_type": "markdown",
   "metadata": {
    "slideshow": {
     "slide_type": "subslide"
    }
   },
   "source": [
    "- As in the original paper, test the model with sine gratings\n",
    "- Use `stimulus()` function from `utils.jl` to generate stimuli\n",
    "- Original paper used moving stimuli; we will just use maximum response over stationary stimulus"
   ]
  },
  {
   "cell_type": "code",
   "execution_count": 11,
   "metadata": {},
   "outputs": [],
   "source": [
    "# ...to be implemented (optional): visualize the stimulus"
   ]
  },
  {
   "attachments": {},
   "cell_type": "markdown",
   "metadata": {
    "slideshow": {
     "slide_type": "subslide"
    }
   },
   "source": [
    "- First experiment: measure response for various contrast levels\n",
    "- Observation in paper: saturating (sublinear) curve"
   ]
  },
  {
   "cell_type": "code",
   "execution_count": 12,
   "metadata": {},
   "outputs": [],
   "source": [
    "# ...to be implemented: "
   ]
  },
  {
   "attachments": {},
   "cell_type": "markdown",
   "metadata": {
    "slideshow": {
     "slide_type": "subslide"
    }
   },
   "source": [
    "- Second experiment: measure response for increasing stimulus sizes\n",
    "- Observation in paper: steep increase to optimal stimulus, then smaller decrease"
   ]
  },
  {
   "cell_type": "code",
   "execution_count": 13,
   "metadata": {},
   "outputs": [],
   "source": [
    "# ...to be implemented: "
   ]
  },
  {
   "attachments": {},
   "cell_type": "markdown",
   "metadata": {
    "slideshow": {
     "slide_type": "slide"
    }
   },
   "source": [
    "## Using the LGN model for image processing"
   ]
  },
  {
   "cell_type": "code",
   "execution_count": 14,
   "metadata": {},
   "outputs": [],
   "source": [
    "# ...to be implemented: Load the testimage `lake`"
   ]
  },
  {
   "attachments": {},
   "cell_type": "markdown",
   "metadata": {
    "slideshow": {
     "slide_type": "subslide"
    }
   },
   "source": [
    "- First experiment: **LGN model** with normalization"
   ]
  },
  {
   "cell_type": "code",
   "execution_count": 15,
   "metadata": {},
   "outputs": [],
   "source": [
    "# ...to be implemented: "
   ]
  },
  {
   "attachments": {},
   "cell_type": "markdown",
   "metadata": {
    "slideshow": {
     "slide_type": "fragment"
    }
   },
   "source": [
    "*...to be replaced:* What's your observation?"
   ]
  },
  {
   "attachments": {},
   "cell_type": "markdown",
   "metadata": {
    "slideshow": {
     "slide_type": "subslide"
    }
   },
   "source": [
    "- Second experiment: use the **custom DoG-filter** from the model"
   ]
  },
  {
   "cell_type": "code",
   "execution_count": 16,
   "metadata": {},
   "outputs": [],
   "source": [
    "# ...to be implemented: "
   ]
  },
  {
   "attachments": {},
   "cell_type": "markdown",
   "metadata": {
    "slideshow": {
     "slide_type": "fragment"
    }
   },
   "source": [
    "*...to be replaced:* What's your observation?"
   ]
  },
  {
   "attachments": {},
   "cell_type": "markdown",
   "metadata": {
    "slideshow": {
     "slide_type": "subslide"
    }
   },
   "source": [
    "- Third experiment: **standard DoG** center-surround filter"
   ]
  },
  {
   "cell_type": "code",
   "execution_count": 17,
   "metadata": {},
   "outputs": [],
   "source": [
    "# ...to be implemented: "
   ]
  },
  {
   "attachments": {},
   "cell_type": "markdown",
   "metadata": {
    "slideshow": {
     "slide_type": "fragment"
    }
   },
   "source": [
    "*...to be replaced:* What's your observation?"
   ]
  },
  {
   "attachments": {},
   "cell_type": "markdown",
   "metadata": {},
   "source": [
    "*...to be replaced:* What are the differences between the filters?"
   ]
  }
 ],
 "metadata": {
  "@webio": {
   "lastCommId": null,
   "lastKernelId": null
  },
  "kernelspec": {
   "display_name": "Julia 1.10.3",
   "language": "julia",
   "name": "julia-1.10"
  },
  "language_info": {
   "file_extension": ".jl",
   "mimetype": "application/julia",
   "name": "julia",
   "version": "1.10.3"
  },
  "rise": {
   "auto_select": "code",
   "scroll": true,
   "theme": "uulm"
  }
 },
 "nbformat": 4,
 "nbformat_minor": 4
}
