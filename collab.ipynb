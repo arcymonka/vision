{
 "cells": [
  {
   "attachments": {},
   "cell_type": "markdown",
   "metadata": {
    "slideshow": {
     "slide_type": "slide"
    }
   },
   "source": [
    "# Homework 2"
   ]
  },
  {
   "cell_type": "code",
   "execution_count": 17,
   "metadata": {},
   "outputs": [
    {
     "name": "stderr",
     "output_type": "stream",
     "text": [
      "\u001b[32m\u001b[1m  Activating\u001b[22m\u001b[39m project at `~/julia/vision`\n",
      "\u001b[32m\u001b[1m  No Changes\u001b[22m\u001b[39m to `~/julia/vision/Project.toml`\n",
      "\u001b[32m\u001b[1m  No Changes\u001b[22m\u001b[39m to `~/julia/vision/Manifest.toml`\n",
      "\u001b[32m\u001b[1m    Updating\u001b[22m\u001b[39m registry at `~/.julia/registries/General.toml`\n",
      "\u001b[32m\u001b[1m  No Changes\u001b[22m\u001b[39m to `~/julia/vision/Project.toml`\n",
      "\u001b[32m\u001b[1m  No Changes\u001b[22m\u001b[39m to `~/julia/vision/Manifest.toml`\n"
     ]
    }
   ],
   "source": [
    "# use Julia's packae managing module to activate your current environment\n",
    "using Pkg\n",
    "Pkg.activate(\".\")\n",
    "Pkg.resolve()\n",
    "Pkg.update()\n",
    "Pkg.instantiate()"
   ]
  },
  {
   "attachments": {},
   "cell_type": "markdown",
   "metadata": {
    "slideshow": {
     "slide_type": "subslide"
    }
   },
   "source": [
    "Objective:\n",
    "\n",
    "- investigate normalization\n",
    "- model LGN as a center-surround filter with normalization\n",
    "- look at effect in image processing"
   ]
  },
  {
   "cell_type": "code",
   "execution_count": 18,
   "metadata": {
    "slideshow": {
     "slide_type": "subslide"
    }
   },
   "outputs": [],
   "source": [
    "# telling Julia to load modules that we need for our code, which have been specified as dependencies for our current package\n",
    "using Images, ImageFiltering\n",
    "using TestImages\n",
    "using Statistics\n",
    "using Plots"
   ]
  },
  {
   "cell_type": "code",
   "execution_count": 19,
   "metadata": {
    "slideshow": {
     "slide_type": "fragment"
    }
   },
   "outputs": [
    {
     "name": "stderr",
     "output_type": "stream",
     "text": [
      "WARNING: replacing module Utils.\n"
     ]
    }
   ],
   "source": [
    "# load the additional Utils module provided with the exercise\n",
    "include(\"material/utils.jl\")\n",
    "using .Utils"
   ]
  },
  {
   "cell_type": "markdown",
   "metadata": {},
   "source": [
    "Hello!"
   ]
  },
  {
   "attachments": {},
   "cell_type": "markdown",
   "metadata": {
    "slideshow": {
     "slide_type": "slide"
    }
   },
   "source": [
    "## LGN Model"
   ]
  },
  {
   "attachments": {},
   "cell_type": "markdown",
   "metadata": {},
   "source": [
    "- Model from Bonin, Mante & Carandini (2005), Journal of Neuroscience 25(47), 10844-10856.\n",
    "- Hints: \n",
    "    - Check the paper for model parameters\n",
    "    - Check the provided `utils.jl` for additional, helpful implementations\n",
    "    - Dependent on your implementation, Julia's `mapwindow` function might be helpful for computing the summation part of `c_local`, or `imfilter` might be easier"
   ]
  },
  {
   "cell_type": "code",
   "execution_count": 20,
   "metadata": {
    "slideshow": {
     "slide_type": "subslide"
    }
   },
   "outputs": [
    {
     "data": {
      "text/plain": [
       "lgn (generic function with 1 method)"
      ]
     },
     "metadata": {},
     "output_type": "display_data"
    }
   ],
   "source": [
    "# ...to be implemented:\n",
    "function lgn(stimulus; standard_cell, ppd)\n",
    "    \n",
    "    frf = Utils.customDoG(standard_cell[:σᶜᵉⁿ]*ppd, standard_cell[:σˢʳᵈ]*ppd, standard_cell[:kˢʳᵈ])\n",
    "    \n",
    "    L = imfilter(stimulus, frf)\n",
    "\n",
    "    \n",
    "    H = Utils.customDoG(standard_cell[:σᵘ]*ppd, standard_cell[:σᵈ]*ppd, standard_cell[:kᵈ])\n",
    "    Gsf = Kernel.gaussian(standard_cell[:σˢᶠ]*ppd)\n",
    "\n",
    "    clocal = imfilter(stimulus, H) .^ 2\n",
    "    clocal = imfilter(clocal, Gsf)\n",
    "\n",
    "    V = standard_cell[:vᵐᵃˣ] .* L ./ (standard_cell[:c⁵⁰] .+ clocal)\n",
    "\n",
    "    R = max.(V .- standard_cell[:v⁰], 0.0)\n",
    "\n",
    "    \n",
    "    R = Utils.normalize(R)\n",
    "\n",
    "    return R\n",
    "\n",
    "end\n"
   ]
  },
  {
   "attachments": {},
   "cell_type": "markdown",
   "metadata": {
    "slideshow": {
     "slide_type": "subslide"
    }
   },
   "source": [
    "- Use of keyword arguments to make model easily parametrizable\n",
    "- Large number of keyword arguments can be passed with a dictionary"
   ]
  },
  {
   "cell_type": "code",
   "execution_count": 21,
   "metadata": {},
   "outputs": [
    {
     "data": {
      "text/plain": [
       "Dict{Symbol, Real} with 10 entries:\n",
       "  :σᶜᵉⁿ => 0.6\n",
       "  :kˢʳᵈ => 0.8\n",
       "  :σᵘ   => 0.4\n",
       "  :σˢᶠ  => 2.5\n",
       "  :c⁵⁰  => 0.3\n",
       "  :kᵈ   => 0.4\n",
       "  :vᵐᵃˣ => 212\n",
       "  :v⁰   => -7.8\n",
       "  :σˢʳᵈ => 2.0\n",
       "  :σᵈ   => 1.8"
      ]
     },
     "metadata": {},
     "output_type": "display_data"
    }
   ],
   "source": [
    "# ...to be implemented: \n",
    "standard_cell = Dict(\n",
    "    :vᵐᵃˣ => 212,\n",
    "    :v⁰ => -7.8,\n",
    "    :σᶜᵉⁿ => 0.6,\n",
    "    :σˢʳᵈ => 2.0,\n",
    "    :kˢʳᵈ => 0.8,\n",
    "    :σˢᶠ => 2.5,\n",
    "    :c⁵⁰ => 0.3,\n",
    "    :σᵘ => 0.4,\n",
    "    :σᵈ => 1.8,\n",
    "    :kᵈ => 0.4\n",
    ")"
   ]
  },
  {
   "attachments": {},
   "cell_type": "markdown",
   "metadata": {
    "slideshow": {
     "slide_type": "slide"
    }
   },
   "source": [
    "## Testing the model"
   ]
  },
  {
   "attachments": {},
   "cell_type": "markdown",
   "metadata": {
    "slideshow": {
     "slide_type": "subslide"
    }
   },
   "source": [
    "- As in the original paper, test the model with sine gratings\n",
    "- Use `stimulus()` function from `utils.jl` to generate stimuli\n",
    "- Original paper used moving stimuli; we will just use maximum response over stationary stimulus"
   ]
  },
  {
   "cell_type": "code",
   "execution_count": 22,
   "metadata": {},
   "outputs": [
    {
     "data": {
      "image/png": "[encoded data removed]",
      "text/html": [
       "<img src=\"data:image/png;base64,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\">"
      ],
      "text/plain": [
       "401×401 Array{Gray{Float64},2} with eltype Gray{Float64}:\n",
       " Gray{Float64}(0.0274125)  …  Gray{Float64}(0.0274125)\n",
       " Gray{Float64}(0.0274125)     Gray{Float64}(0.0274125)\n",
       " Gray{Float64}(0.0274125)     Gray{Float64}(0.0274125)\n",
       " Gray{Float64}(0.0274125)     Gray{Float64}(0.0274125)\n",
       " Gray{Float64}(0.0274125)     Gray{Float64}(0.0274125)\n",
       " Gray{Float64}(0.0274125)  …  Gray{Float64}(0.0274125)\n",
       " Gray{Float64}(0.0274125)     Gray{Float64}(0.0274125)\n",
       " Gray{Float64}(0.0274125)     Gray{Float64}(0.0274125)\n",
       " Gray{Float64}(0.0274125)     Gray{Float64}(0.0274125)\n",
       " Gray{Float64}(0.0274125)     Gray{Float64}(0.0274125)\n",
       " ⋮                         ⋱  ⋮\n",
       " Gray{Float64}(0.0274125)     Gray{Float64}(0.0274125)\n",
       " Gray{Float64}(0.0274125)     Gray{Float64}(0.0274125)\n",
       " Gray{Float64}(0.0274125)     Gray{Float64}(0.0274125)\n",
       " Gray{Float64}(0.0274125)  …  Gray{Float64}(0.0274125)\n",
       " Gray{Float64}(0.0274125)     Gray{Float64}(0.0274125)\n",
       " Gray{Float64}(0.0274125)     Gray{Float64}(0.0274125)\n",
       " Gray{Float64}(0.0274125)     Gray{Float64}(0.0274125)\n",
       " Gray{Float64}(0.0274125)     Gray{Float64}(0.0274125)\n",
       " Gray{Float64}(0.0274125)  …  Gray{Float64}(0.0274125)"
      ]
     },
     "metadata": {},
     "output_type": "display_data"
    }
   ],
   "source": [
    "# ...to be implemented (optional): visualize the stimulus\n",
    "stimulus = Utils.stimulus()\n",
    "\n",
    "response = lgn(stimulus; \n",
    "               standard_cell=standard_cell,\n",
    "               ppd=ppd)\n",
    "\n",
    "grayscale_img = Gray.(response)\n",
    "\n"
   ]
  },
  {
   "attachments": {},
   "cell_type": "markdown",
   "metadata": {
    "slideshow": {
     "slide_type": "subslide"
    }
   },
   "source": [
    "- First experiment: measure response for various contrast levels\n",
    "- Observation in paper: saturating (sublinear) curve"
   ]
  },
  {
   "cell_type": "code",
   "execution_count": 23,
   "metadata": {},
   "outputs": [],
   "source": [
    "# ...to be implemented: "
   ]
  },
  {
   "attachments": {},
   "cell_type": "markdown",
   "metadata": {
    "slideshow": {
     "slide_type": "subslide"
    }
   },
   "source": [
    "- Second experiment: measure response for increasing stimulus sizes\n",
    "- Observation in paper: steep increase to optimal stimulus, then smaller decrease"
   ]
  },
  {
   "cell_type": "code",
   "execution_count": 24,
   "metadata": {},
   "outputs": [],
   "source": [
    "# ...to be implemented: "
   ]
  },
  {
   "attachments": {},
   "cell_type": "markdown",
   "metadata": {
    "slideshow": {
     "slide_type": "slide"
    }
   },
   "source": [
    "## Using the LGN model for image processing"
   ]
  },
  {
   "cell_type": "code",
   "execution_count": 25,
   "metadata": {},
   "outputs": [],
   "source": [
    "# ...to be implemented: Load the testimage `lake`"
   ]
  },
  {
   "attachments": {},
   "cell_type": "markdown",
   "metadata": {
    "slideshow": {
     "slide_type": "subslide"
    }
   },
   "source": [
    "- First experiment: **LGN model** with normalization"
   ]
  },
  {
   "cell_type": "code",
   "execution_count": 26,
   "metadata": {},
   "outputs": [],
   "source": [
    "# ...to be implemented: "
   ]
  },
  {
   "attachments": {},
   "cell_type": "markdown",
   "metadata": {
    "slideshow": {
     "slide_type": "fragment"
    }
   },
   "source": [
    "*...to be replaced:* What's your observation?"
   ]
  },
  {
   "attachments": {},
   "cell_type": "markdown",
   "metadata": {
    "slideshow": {
     "slide_type": "subslide"
    }
   },
   "source": [
    "- Second experiment: use the **custom DoG-filter** from the model"
   ]
  },
  {
   "cell_type": "code",
   "execution_count": 27,
   "metadata": {},
   "outputs": [],
   "source": [
    "# ...to be implemented: "
   ]
  },
  {
   "attachments": {},
   "cell_type": "markdown",
   "metadata": {
    "slideshow": {
     "slide_type": "fragment"
    }
   },
   "source": [
    "*...to be replaced:* What's your observation?"
   ]
  },
  {
   "attachments": {},
   "cell_type": "markdown",
   "metadata": {
    "slideshow": {
     "slide_type": "subslide"
    }
   },
   "source": [
    "- Third experiment: **standard DoG** center-surround filter"
   ]
  },
  {
   "cell_type": "code",
   "execution_count": 28,
   "metadata": {},
   "outputs": [],
   "source": [
    "# ...to be implemented: "
   ]
  },
  {
   "attachments": {},
   "cell_type": "markdown",
   "metadata": {
    "slideshow": {
     "slide_type": "fragment"
    }
   },
   "source": [
    "*...to be replaced:* What's your observation?"
   ]
  },
  {
   "attachments": {},
   "cell_type": "markdown",
   "metadata": {},
   "source": [
    "*...to be replaced:* What are the differences between the filters?"
   ]
  }
 ],
 "metadata": {
  "@webio": {
   "lastCommId": null,
   "lastKernelId": null
  },
  "kernelspec": {
   "display_name": "Julia 1.10.3",
   "language": "julia",
   "name": "julia-1.10"
  },
  "language_info": {
   "file_extension": ".jl",
   "mimetype": "application/julia",
   "name": "julia",
   "version": "1.10.3"
  },
  "rise": {
   "auto_select": "code",
   "scroll": true,
   "theme": "uulm"
  }
 },
 "nbformat": 4,
 "nbformat_minor": 4
}
