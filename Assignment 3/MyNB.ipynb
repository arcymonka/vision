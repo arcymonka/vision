{
 "cells": [
  {
   "attachments": {},
   "cell_type": "markdown",
   "metadata": {
    "slideshow": {
     "slide_type": "slide"
    }
   },
   "source": [
    "# Homework 3"
   ]
  },
  {
   "cell_type": "code",
   "execution_count": null,
   "metadata": {},
   "outputs": [],
   "source": [
    "# use Julia's packae managing module to activate your current environment\n",
    "using Pkg\n",
    "Pkg.activate(\".\")"
   ]
  },
  {
   "attachments": {},
   "cell_type": "markdown",
   "metadata": {
    "slideshow": {
     "slide_type": "subslide"
    }
   },
   "source": [
    "- Topic: contour completion via long-range interactions\n",
    "- Again, model LGN as center-surround and V1 as oriented filters\n",
    "- In addition, include long-range lateral connections for contour completion in V1"
   ]
  },
  {
   "cell_type": "code",
   "execution_count": null,
   "metadata": {
    "slideshow": {
     "slide_type": "subslide"
    }
   },
   "outputs": [],
   "source": [
    "# telling Julia to load modules that we need for our code, which have been specified as dependencies for our current package\n",
    "using Images\n",
    "using FileIO\n",
    "using Plots\n",
    "default(xticks=false, yticks=false, color=:grays, titlefontsize=8)"
   ]
  },
  {
   "cell_type": "code",
   "execution_count": null,
   "metadata": {
    "slideshow": {
     "slide_type": "fragment"
    }
   },
   "outputs": [],
   "source": [
    "# load the additional Utils module provided with the exercise and the stimulus\n",
    "include(\"material/utils.jl\")\n",
    "using .Utils: getgabor\n",
    "\n",
    "# Image from Fig.5 in L. Zhaoping. “A Neural Model of Contour Integration in the Primary Visual Cortex.” In: Neural Computation, 10(4) (1998), pp. 903–40.\n",
    "img = float.(load(\"material/LiCircleStim.png\"))"
   ]
  },
  {
   "attachments": {},
   "cell_type": "markdown",
   "metadata": {},
   "source": [
    "- We will use the channel-dimension to represent different orientations etc.\n",
    "- Therefore, it's more conventient to work with raw `Array`s instead of grayscale images"
   ]
  },
  {
   "cell_type": "code",
   "execution_count": null,
   "metadata": {},
   "outputs": [],
   "source": [
    "img = channelview(img);"
   ]
  },
  {
   "attachments": {},
   "cell_type": "markdown",
   "metadata": {},
   "source": [
    "## Task 1: Formation of V1 Activity"
   ]
  },
  {
   "attachments": {},
   "cell_type": "markdown",
   "metadata": {},
   "source": [
    "### LGN Response"
   ]
  },
  {
   "attachments": {},
   "cell_type": "markdown",
   "metadata": {},
   "source": [
    "- We model LGN as a DoG filter with $\\sigma_C=0.7$ and $\\sigma_S = 2$"
   ]
  },
  {
   "cell_type": "code",
   "execution_count": null,
   "metadata": {},
   "outputs": [],
   "source": [
    "# ...to be implemented: "
   ]
  },
  {
   "attachments": {},
   "cell_type": "markdown",
   "metadata": {},
   "source": [
    "### Gabor Filters"
   ]
  },
  {
   "attachments": {},
   "cell_type": "markdown",
   "metadata": {},
   "source": [
    "- We model V1 as Gabor filters applied to the LGN output.\n",
    "- We use the `getgabor` function loaded above to do this"
   ]
  },
  {
   "cell_type": "code",
   "execution_count": null,
   "metadata": {},
   "outputs": [],
   "source": [
    "# ...to be implemented: "
   ]
  },
  {
   "attachments": {},
   "cell_type": "markdown",
   "metadata": {},
   "source": [
    "### V1 Response"
   ]
  },
  {
   "attachments": {},
   "cell_type": "markdown",
   "metadata": {},
   "source": [
    "- We generate 12 orientation for V1 (spaced with 15 degree differences)\n",
    "- Each is implemented as a Gabor filter\n",
    "- Applying the Gabor filter requires a bit of care, since Gabor filters are complex\n",
    "    - filtering via the Fourier transform can be problematic\n",
    "    - either specify `Algorithm.FIR()` or filter real and imaginary part separately"
   ]
  },
  {
   "cell_type": "code",
   "execution_count": null,
   "metadata": {},
   "outputs": [],
   "source": [
    "# ...to be implemented: "
   ]
  },
  {
   "attachments": {},
   "cell_type": "markdown",
   "metadata": {},
   "source": [
    "## Task 2: Long-Range Interaction"
   ]
  },
  {
   "attachments": {},
   "cell_type": "markdown",
   "metadata": {},
   "source": [
    "### Filter components"
   ]
  },
  {
   "attachments": {},
   "cell_type": "markdown",
   "metadata": {},
   "source": [
    "- Each long-range filter has two components:\n",
    "    - radial component determines the distance at which contrasts interact\n",
    "    - angular component determines how much relative poitions may deviate from optimal alignment\n",
    "- Missing in our example: relatabiliy (how much may orientations vary); we use delta function"
   ]
  },
  {
   "cell_type": "code",
   "execution_count": null,
   "metadata": {},
   "outputs": [],
   "source": [
    "# ...to be implemented: "
   ]
  },
  {
   "attachments": {},
   "cell_type": "markdown",
   "metadata": {},
   "source": [
    "### Generating long-range filters"
   ]
  },
  {
   "attachments": {},
   "cell_type": "markdown",
   "metadata": {},
   "source": [
    "- To create long-range filter, we generate a mask (sampled in x and y)\n",
    "- Need to convert (x,y) coordinates into $r$ and $\\varphi$ for radial and angular component"
   ]
  },
  {
   "cell_type": "code",
   "execution_count": null,
   "metadata": {},
   "outputs": [],
   "source": [
    "# ...to be implemented: "
   ]
  },
  {
   "attachments": {},
   "cell_type": "markdown",
   "metadata": {},
   "source": [
    "## Applying the filters"
   ]
  },
  {
   "attachments": {},
   "cell_type": "markdown",
   "metadata": {},
   "source": [
    "- Each filter is convolved with V1 map of corresponding orientation"
   ]
  },
  {
   "cell_type": "code",
   "execution_count": null,
   "metadata": {},
   "outputs": [],
   "source": [
    "# ...to be implemented: "
   ]
  },
  {
   "attachments": {},
   "cell_type": "markdown",
   "metadata": {},
   "source": [
    "- To visualize results, we select maximum orientation at each location\n",
    "- Locations with weak response (< 0.3 max) are suppressed"
   ]
  },
  {
   "attachments": {},
   "cell_type": "markdown",
   "metadata": {},
   "source": [
    "### Common plot of results"
   ]
  },
  {
   "cell_type": "code",
   "execution_count": null,
   "metadata": {},
   "outputs": [],
   "source": [
    "# ...to be implemented: "
   ]
  },
  {
   "cell_type": "code",
   "execution_count": null,
   "metadata": {},
   "outputs": [],
   "source": [
    "# savefig(\"responses.pdf\")"
   ]
  }
 ],
 "metadata": {
  "@webio": {
   "lastCommId": null,
   "lastKernelId": null
  },
  "kernelspec": {
   "display_name": "Julia 1.10.2",
   "language": "julia",
   "name": "julia-1.10"
  },
  "language_info": {
   "file_extension": ".jl",
   "mimetype": "application/julia",
   "name": "julia",
   "version": "1.10.2"
  },
  "rise": {
   "auto_select": "code",
   "scroll": true,
   "theme": "uulm"
  }
 },
 "nbformat": 4,
 "nbformat_minor": 4
}
